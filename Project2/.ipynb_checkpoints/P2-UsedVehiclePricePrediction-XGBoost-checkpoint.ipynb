{
 "cells": [
  {
   "cell_type": "markdown",
   "metadata": {},
   "source": [
    "# Project 2\n",
    "\n",
    "# Used Vehicle Price Prediction"
   ]
  },
  {
   "cell_type": "markdown",
   "metadata": {},
   "source": [
    "- Nelson Aldana 20194128\n",
    "- Maxwell Calderon 201920519\n",
    "- Diana Diaz 201331684\n",
    "- John Florez 201920529"
   ]
  },
  {
   "cell_type": "markdown",
   "metadata": {},
   "source": [
    "## Introduction\n",
    "\n",
    "- 1.2 Million listings scraped from TrueCar.com - Price, Mileage, Make, Model dataset from Kaggle: [data](https://www.kaggle.com/jpayne/852k-used-car-listings)\n",
    "- Each observation represents the price of an used car"
   ]
  },
  {
   "cell_type": "code",
   "execution_count": 1,
   "metadata": {},
   "outputs": [],
   "source": [
    "%matplotlib inline\n",
    "import pandas as pd\n",
    "import numpy as np\n",
    "from xgboost import XGBRegressor"
   ]
  },
  {
   "cell_type": "code",
   "execution_count": 3,
   "metadata": {},
   "outputs": [],
   "source": [
    "data = pd.read_csv('dataTrain_carListings.zip')"
   ]
  },
  {
   "cell_type": "code",
   "execution_count": 4,
   "metadata": {},
   "outputs": [
    {
     "data": {
      "text/html": [
       "<div>\n",
       "<style scoped>\n",
       "    .dataframe tbody tr th:only-of-type {\n",
       "        vertical-align: middle;\n",
       "    }\n",
       "\n",
       "    .dataframe tbody tr th {\n",
       "        vertical-align: top;\n",
       "    }\n",
       "\n",
       "    .dataframe thead th {\n",
       "        text-align: right;\n",
       "    }\n",
       "</style>\n",
       "<table border=\"1\" class=\"dataframe\">\n",
       "  <thead>\n",
       "    <tr style=\"text-align: right;\">\n",
       "      <th></th>\n",
       "      <th>Price</th>\n",
       "      <th>Year</th>\n",
       "      <th>Mileage</th>\n",
       "      <th>State</th>\n",
       "      <th>Make</th>\n",
       "      <th>Model</th>\n",
       "    </tr>\n",
       "  </thead>\n",
       "  <tbody>\n",
       "    <tr>\n",
       "      <td>0</td>\n",
       "      <td>21490</td>\n",
       "      <td>2014</td>\n",
       "      <td>31909</td>\n",
       "      <td>MD</td>\n",
       "      <td>Nissan</td>\n",
       "      <td>MuranoAWD</td>\n",
       "    </tr>\n",
       "    <tr>\n",
       "      <td>1</td>\n",
       "      <td>21250</td>\n",
       "      <td>2016</td>\n",
       "      <td>25741</td>\n",
       "      <td>KY</td>\n",
       "      <td>Chevrolet</td>\n",
       "      <td>CamaroCoupe</td>\n",
       "    </tr>\n",
       "    <tr>\n",
       "      <td>2</td>\n",
       "      <td>20925</td>\n",
       "      <td>2016</td>\n",
       "      <td>24633</td>\n",
       "      <td>SC</td>\n",
       "      <td>Hyundai</td>\n",
       "      <td>Santa</td>\n",
       "    </tr>\n",
       "    <tr>\n",
       "      <td>3</td>\n",
       "      <td>14500</td>\n",
       "      <td>2012</td>\n",
       "      <td>84026</td>\n",
       "      <td>OK</td>\n",
       "      <td>Jeep</td>\n",
       "      <td>Grand</td>\n",
       "    </tr>\n",
       "    <tr>\n",
       "      <td>4</td>\n",
       "      <td>32488</td>\n",
       "      <td>2013</td>\n",
       "      <td>22816</td>\n",
       "      <td>TN</td>\n",
       "      <td>Jeep</td>\n",
       "      <td>Wrangler</td>\n",
       "    </tr>\n",
       "  </tbody>\n",
       "</table>\n",
       "</div>"
      ],
      "text/plain": [
       "   Price  Year  Mileage State       Make        Model\n",
       "0  21490  2014    31909    MD     Nissan    MuranoAWD\n",
       "1  21250  2016    25741    KY  Chevrolet  CamaroCoupe\n",
       "2  20925  2016    24633    SC    Hyundai        Santa\n",
       "3  14500  2012    84026    OK       Jeep        Grand\n",
       "4  32488  2013    22816    TN       Jeep     Wrangler"
      ]
     },
     "execution_count": 4,
     "metadata": {},
     "output_type": "execute_result"
    }
   ],
   "source": [
    "data.head()"
   ]
  },
  {
   "cell_type": "code",
   "execution_count": 5,
   "metadata": {},
   "outputs": [
    {
     "data": {
      "text/plain": [
       "(500000, 6)"
      ]
     },
     "execution_count": 5,
     "metadata": {},
     "output_type": "execute_result"
    }
   ],
   "source": [
    "data.shape"
   ]
  },
  {
   "cell_type": "code",
   "execution_count": 6,
   "metadata": {},
   "outputs": [
    {
     "data": {
      "text/plain": [
       "count    500000.000000\n",
       "mean      21144.186304\n",
       "std       10753.259704\n",
       "min        5001.000000\n",
       "25%       13499.000000\n",
       "50%       18450.000000\n",
       "75%       26998.000000\n",
       "max       79999.000000\n",
       "Name: Price, dtype: float64"
      ]
     },
     "execution_count": 6,
     "metadata": {},
     "output_type": "execute_result"
    }
   ],
   "source": [
    "data.Price.describe()"
   ]
  },
  {
   "cell_type": "code",
   "execution_count": 7,
   "metadata": {},
   "outputs": [
    {
     "data": {
      "text/plain": [
       "<matplotlib.axes._subplots.AxesSubplot at 0x7f99013c21d0>"
      ]
     },
     "execution_count": 7,
     "metadata": {},
     "output_type": "execute_result"
    },
    {
     "data": {
      "image/png": "[encoded data removed]",
      "text/plain": [
       "<Figure size 432x288 with 1 Axes>"
      ]
     },
     "metadata": {
      "needs_background": "light"
     },
     "output_type": "display_data"
    }
   ],
   "source": [
    "data.plot(kind='scatter', y='Price', x='Year')"
   ]
  },
  {
   "cell_type": "code",
   "execution_count": 8,
   "metadata": {},
   "outputs": [
    {
     "data": {
      "text/plain": [
       "<matplotlib.axes._subplots.AxesSubplot at 0x7f99036f64d0>"
      ]
     },
     "execution_count": 8,
     "metadata": {},
     "output_type": "execute_result"
    },
    {
     "data": {
      "image/png": "[encoded data removed]",
      "text/plain": [
       "<Figure size 432x288 with 1 Axes>"
      ]
     },
     "metadata": {
      "needs_background": "light"
     },
     "output_type": "display_data"
    }
   ],
   "source": [
    "data.plot(kind='scatter', y='Price', x='Mileage')"
   ]
  },
  {
   "cell_type": "code",
   "execution_count": 9,
   "metadata": {},
   "outputs": [
    {
     "data": {
      "text/plain": [
       "Index(['Price', 'Year', 'Mileage', 'State', 'Make', 'Model'], dtype='object')"
      ]
     },
     "execution_count": 9,
     "metadata": {},
     "output_type": "execute_result"
    }
   ],
   "source": [
    "data.columns"
   ]
  },
  {
   "cell_type": "code",
   "execution_count": 10,
   "metadata": {},
   "outputs": [
    {
     "data": {
      "text/html": [
       "<div>\n",
       "<style scoped>\n",
       "    .dataframe tbody tr th:only-of-type {\n",
       "        vertical-align: middle;\n",
       "    }\n",
       "\n",
       "    .dataframe tbody tr th {\n",
       "        vertical-align: top;\n",
       "    }\n",
       "\n",
       "    .dataframe thead th {\n",
       "        text-align: right;\n",
       "    }\n",
       "</style>\n",
       "<table border=\"1\" class=\"dataframe\">\n",
       "  <thead>\n",
       "    <tr style=\"text-align: right;\">\n",
       "      <th></th>\n",
       "      <th>Price</th>\n",
       "      <th>Year</th>\n",
       "      <th>Mileage</th>\n",
       "      <th>State_ AK</th>\n",
       "      <th>State_ AL</th>\n",
       "      <th>State_ AR</th>\n",
       "      <th>State_ AZ</th>\n",
       "      <th>State_ CA</th>\n",
       "      <th>State_ CO</th>\n",
       "      <th>State_ CT</th>\n",
       "      <th>...</th>\n",
       "      <th>Model_Yaris4dr</th>\n",
       "      <th>Model_YarisBase</th>\n",
       "      <th>Model_YarisLE</th>\n",
       "      <th>Model_Yukon</th>\n",
       "      <th>Model_Yukon2WD</th>\n",
       "      <th>Model_Yukon4WD</th>\n",
       "      <th>Model_Yukon4dr</th>\n",
       "      <th>Model_tC2dr</th>\n",
       "      <th>Model_xB5dr</th>\n",
       "      <th>Model_xD5dr</th>\n",
       "    </tr>\n",
       "  </thead>\n",
       "  <tbody>\n",
       "    <tr>\n",
       "      <td>0</td>\n",
       "      <td>21490</td>\n",
       "      <td>2014</td>\n",
       "      <td>31909</td>\n",
       "      <td>0</td>\n",
       "      <td>0</td>\n",
       "      <td>0</td>\n",
       "      <td>0</td>\n",
       "      <td>0</td>\n",
       "      <td>0</td>\n",
       "      <td>0</td>\n",
       "      <td>...</td>\n",
       "      <td>0</td>\n",
       "      <td>0</td>\n",
       "      <td>0</td>\n",
       "      <td>0</td>\n",
       "      <td>0</td>\n",
       "      <td>0</td>\n",
       "      <td>0</td>\n",
       "      <td>0</td>\n",
       "      <td>0</td>\n",
       "      <td>0</td>\n",
       "    </tr>\n",
       "    <tr>\n",
       "      <td>1</td>\n",
       "      <td>21250</td>\n",
       "      <td>2016</td>\n",
       "      <td>25741</td>\n",
       "      <td>0</td>\n",
       "      <td>0</td>\n",
       "      <td>0</td>\n",
       "      <td>0</td>\n",
       "      <td>0</td>\n",
       "      <td>0</td>\n",
       "      <td>0</td>\n",
       "      <td>...</td>\n",
       "      <td>0</td>\n",
       "      <td>0</td>\n",
       "      <td>0</td>\n",
       "      <td>0</td>\n",
       "      <td>0</td>\n",
       "      <td>0</td>\n",
       "      <td>0</td>\n",
       "      <td>0</td>\n",
       "      <td>0</td>\n",
       "      <td>0</td>\n",
       "    </tr>\n",
       "    <tr>\n",
       "      <td>2</td>\n",
       "      <td>20925</td>\n",
       "      <td>2016</td>\n",
       "      <td>24633</td>\n",
       "      <td>0</td>\n",
       "      <td>0</td>\n",
       "      <td>0</td>\n",
       "      <td>0</td>\n",
       "      <td>0</td>\n",
       "      <td>0</td>\n",
       "      <td>0</td>\n",
       "      <td>...</td>\n",
       "      <td>0</td>\n",
       "      <td>0</td>\n",
       "      <td>0</td>\n",
       "      <td>0</td>\n",
       "      <td>0</td>\n",
       "      <td>0</td>\n",
       "      <td>0</td>\n",
       "      <td>0</td>\n",
       "      <td>0</td>\n",
       "      <td>0</td>\n",
       "    </tr>\n",
       "    <tr>\n",
       "      <td>3</td>\n",
       "      <td>14500</td>\n",
       "      <td>2012</td>\n",
       "      <td>84026</td>\n",
       "      <td>0</td>\n",
       "      <td>0</td>\n",
       "      <td>0</td>\n",
       "      <td>0</td>\n",
       "      <td>0</td>\n",
       "      <td>0</td>\n",
       "      <td>0</td>\n",
       "      <td>...</td>\n",
       "      <td>0</td>\n",
       "      <td>0</td>\n",
       "      <td>0</td>\n",
       "      <td>0</td>\n",
       "      <td>0</td>\n",
       "      <td>0</td>\n",
       "      <td>0</td>\n",
       "      <td>0</td>\n",
       "      <td>0</td>\n",
       "      <td>0</td>\n",
       "    </tr>\n",
       "    <tr>\n",
       "      <td>4</td>\n",
       "      <td>32488</td>\n",
       "      <td>2013</td>\n",
       "      <td>22816</td>\n",
       "      <td>0</td>\n",
       "      <td>0</td>\n",
       "      <td>0</td>\n",
       "      <td>0</td>\n",
       "      <td>0</td>\n",
       "      <td>0</td>\n",
       "      <td>0</td>\n",
       "      <td>...</td>\n",
       "      <td>0</td>\n",
       "      <td>0</td>\n",
       "      <td>0</td>\n",
       "      <td>0</td>\n",
       "      <td>0</td>\n",
       "      <td>0</td>\n",
       "      <td>0</td>\n",
       "      <td>0</td>\n",
       "      <td>0</td>\n",
       "      <td>0</td>\n",
       "    </tr>\n",
       "    <tr>\n",
       "      <td>...</td>\n",
       "      <td>...</td>\n",
       "      <td>...</td>\n",
       "      <td>...</td>\n",
       "      <td>...</td>\n",
       "      <td>...</td>\n",
       "      <td>...</td>\n",
       "      <td>...</td>\n",
       "      <td>...</td>\n",
       "      <td>...</td>\n",
       "      <td>...</td>\n",
       "      <td>...</td>\n",
       "      <td>...</td>\n",
       "      <td>...</td>\n",
       "      <td>...</td>\n",
       "      <td>...</td>\n",
       "      <td>...</td>\n",
       "      <td>...</td>\n",
       "      <td>...</td>\n",
       "      <td>...</td>\n",
       "      <td>...</td>\n",
       "      <td>...</td>\n",
       "    </tr>\n",
       "    <tr>\n",
       "      <td>499995</td>\n",
       "      <td>16997</td>\n",
       "      <td>2013</td>\n",
       "      <td>40393</td>\n",
       "      <td>0</td>\n",
       "      <td>0</td>\n",
       "      <td>0</td>\n",
       "      <td>0</td>\n",
       "      <td>0</td>\n",
       "      <td>0</td>\n",
       "      <td>0</td>\n",
       "      <td>...</td>\n",
       "      <td>0</td>\n",
       "      <td>0</td>\n",
       "      <td>0</td>\n",
       "      <td>0</td>\n",
       "      <td>0</td>\n",
       "      <td>0</td>\n",
       "      <td>0</td>\n",
       "      <td>0</td>\n",
       "      <td>0</td>\n",
       "      <td>0</td>\n",
       "    </tr>\n",
       "    <tr>\n",
       "      <td>499996</td>\n",
       "      <td>11990</td>\n",
       "      <td>2012</td>\n",
       "      <td>91794</td>\n",
       "      <td>0</td>\n",
       "      <td>0</td>\n",
       "      <td>0</td>\n",
       "      <td>0</td>\n",
       "      <td>0</td>\n",
       "      <td>0</td>\n",
       "      <td>0</td>\n",
       "      <td>...</td>\n",
       "      <td>0</td>\n",
       "      <td>0</td>\n",
       "      <td>0</td>\n",
       "      <td>0</td>\n",
       "      <td>0</td>\n",
       "      <td>0</td>\n",
       "      <td>0</td>\n",
       "      <td>0</td>\n",
       "      <td>0</td>\n",
       "      <td>0</td>\n",
       "    </tr>\n",
       "    <tr>\n",
       "      <td>499997</td>\n",
       "      <td>49991</td>\n",
       "      <td>2014</td>\n",
       "      <td>39107</td>\n",
       "      <td>0</td>\n",
       "      <td>0</td>\n",
       "      <td>0</td>\n",
       "      <td>0</td>\n",
       "      <td>0</td>\n",
       "      <td>0</td>\n",
       "      <td>0</td>\n",
       "      <td>...</td>\n",
       "      <td>0</td>\n",
       "      <td>0</td>\n",
       "      <td>0</td>\n",
       "      <td>0</td>\n",
       "      <td>0</td>\n",
       "      <td>0</td>\n",
       "      <td>0</td>\n",
       "      <td>0</td>\n",
       "      <td>0</td>\n",
       "      <td>0</td>\n",
       "    </tr>\n",
       "    <tr>\n",
       "      <td>499998</td>\n",
       "      <td>21888</td>\n",
       "      <td>2010</td>\n",
       "      <td>62556</td>\n",
       "      <td>0</td>\n",
       "      <td>0</td>\n",
       "      <td>0</td>\n",
       "      <td>0</td>\n",
       "      <td>0</td>\n",
       "      <td>0</td>\n",
       "      <td>0</td>\n",
       "      <td>...</td>\n",
       "      <td>0</td>\n",
       "      <td>0</td>\n",
       "      <td>0</td>\n",
       "      <td>0</td>\n",
       "      <td>0</td>\n",
       "      <td>0</td>\n",
       "      <td>0</td>\n",
       "      <td>0</td>\n",
       "      <td>0</td>\n",
       "      <td>0</td>\n",
       "    </tr>\n",
       "    <tr>\n",
       "      <td>499999</td>\n",
       "      <td>63973</td>\n",
       "      <td>2017</td>\n",
       "      <td>17653</td>\n",
       "      <td>0</td>\n",
       "      <td>0</td>\n",
       "      <td>0</td>\n",
       "      <td>0</td>\n",
       "      <td>0</td>\n",
       "      <td>0</td>\n",
       "      <td>0</td>\n",
       "      <td>...</td>\n",
       "      <td>0</td>\n",
       "      <td>0</td>\n",
       "      <td>0</td>\n",
       "      <td>0</td>\n",
       "      <td>0</td>\n",
       "      <td>0</td>\n",
       "      <td>0</td>\n",
       "      <td>0</td>\n",
       "      <td>0</td>\n",
       "      <td>0</td>\n",
       "    </tr>\n",
       "  </tbody>\n",
       "</table>\n",
       "<p>500000 rows × 617 columns</p>\n",
       "</div>"
      ],
      "text/plain": [
       "        Price  Year  Mileage  State_ AK  State_ AL  State_ AR  State_ AZ  \\\n",
       "0       21490  2014    31909          0          0          0          0   \n",
       "1       21250  2016    25741          0          0          0          0   \n",
       "2       20925  2016    24633          0          0          0          0   \n",
       "3       14500  2012    84026          0          0          0          0   \n",
       "4       32488  2013    22816          0          0          0          0   \n",
       "...       ...   ...      ...        ...        ...        ...        ...   \n",
       "499995  16997  2013    40393          0          0          0          0   \n",
       "499996  11990  2012    91794          0          0          0          0   \n",
       "499997  49991  2014    39107          0          0          0          0   \n",
       "499998  21888  2010    62556          0          0          0          0   \n",
       "499999  63973  2017    17653          0          0          0          0   \n",
       "\n",
       "        State_ CA  State_ CO  State_ CT  ...  Model_Yaris4dr  Model_YarisBase  \\\n",
       "0               0          0          0  ...               0                0   \n",
       "1               0          0          0  ...               0                0   \n",
       "2               0          0          0  ...               0                0   \n",
       "3               0          0          0  ...               0                0   \n",
       "4               0          0          0  ...               0                0   \n",
       "...           ...        ...        ...  ...             ...              ...   \n",
       "499995          0          0          0  ...               0                0   \n",
       "499996          0          0          0  ...               0                0   \n",
       "499997          0          0          0  ...               0                0   \n",
       "499998          0          0          0  ...               0                0   \n",
       "499999          0          0          0  ...               0                0   \n",
       "\n",
       "        Model_YarisLE  Model_Yukon  Model_Yukon2WD  Model_Yukon4WD  \\\n",
       "0                   0            0               0               0   \n",
       "1                   0            0               0               0   \n",
       "2                   0            0               0               0   \n",
       "3                   0            0               0               0   \n",
       "4                   0            0               0               0   \n",
       "...               ...          ...             ...             ...   \n",
       "499995              0            0               0               0   \n",
       "499996              0            0               0               0   \n",
       "499997              0            0               0               0   \n",
       "499998              0            0               0               0   \n",
       "499999              0            0               0               0   \n",
       "\n",
       "        Model_Yukon4dr  Model_tC2dr  Model_xB5dr  Model_xD5dr  \n",
       "0                    0            0            0            0  \n",
       "1                    0            0            0            0  \n",
       "2                    0            0            0            0  \n",
       "3                    0            0            0            0  \n",
       "4                    0            0            0            0  \n",
       "...                ...          ...          ...          ...  \n",
       "499995               0            0            0            0  \n",
       "499996               0            0            0            0  \n",
       "499997               0            0            0            0  \n",
       "499998               0            0            0            0  \n",
       "499999               0            0            0            0  \n",
       "\n",
       "[500000 rows x 617 columns]"
      ]
     },
     "execution_count": 10,
     "metadata": {},
     "output_type": "execute_result"
    }
   ],
   "source": [
    "data = pd.get_dummies(data, columns=['State'])\n",
    "data = pd.get_dummies(data, columns=['Make'])\n",
    "data = pd.get_dummies(data, columns=['Model'])\n",
    "data"
   ]
  },
  {
   "cell_type": "code",
   "execution_count": 11,
   "metadata": {},
   "outputs": [],
   "source": [
    "y=data['Price']\n",
    "X=data.drop(['Price'], axis=1)"
   ]
  },
  {
   "cell_type": "code",
   "execution_count": 12,
   "metadata": {},
   "outputs": [],
   "source": [
    "from sklearn.decomposition import PCA\n",
    "X_ = PCA(n_components=8).fit_transform(X)"
   ]
  },
  {
   "cell_type": "code",
   "execution_count": 13,
   "metadata": {},
   "outputs": [
    {
     "data": {
      "text/html": [
       "<div>\n",
       "<style scoped>\n",
       "    .dataframe tbody tr th:only-of-type {\n",
       "        vertical-align: middle;\n",
       "    }\n",
       "\n",
       "    .dataframe tbody tr th {\n",
       "        vertical-align: top;\n",
       "    }\n",
       "\n",
       "    .dataframe thead th {\n",
       "        text-align: right;\n",
       "    }\n",
       "</style>\n",
       "<table border=\"1\" class=\"dataframe\">\n",
       "  <thead>\n",
       "    <tr style=\"text-align: right;\">\n",
       "      <th></th>\n",
       "      <th>0</th>\n",
       "      <th>1</th>\n",
       "      <th>2</th>\n",
       "      <th>3</th>\n",
       "      <th>4</th>\n",
       "      <th>5</th>\n",
       "      <th>6</th>\n",
       "      <th>7</th>\n",
       "    </tr>\n",
       "  </thead>\n",
       "  <tbody>\n",
       "    <tr>\n",
       "      <td>0</td>\n",
       "      <td>-23167.426358</td>\n",
       "      <td>-0.603445</td>\n",
       "      <td>-0.013627</td>\n",
       "      <td>0.107359</td>\n",
       "      <td>0.118426</td>\n",
       "      <td>0.066914</td>\n",
       "      <td>-0.037595</td>\n",
       "      <td>-0.113005</td>\n",
       "    </tr>\n",
       "    <tr>\n",
       "      <td>1</td>\n",
       "      <td>-29335.426468</td>\n",
       "      <td>1.035679</td>\n",
       "      <td>0.712957</td>\n",
       "      <td>-0.433694</td>\n",
       "      <td>0.024540</td>\n",
       "      <td>-0.168680</td>\n",
       "      <td>-0.025987</td>\n",
       "      <td>0.033302</td>\n",
       "    </tr>\n",
       "    <tr>\n",
       "      <td>2</td>\n",
       "      <td>-30443.426466</td>\n",
       "      <td>0.965182</td>\n",
       "      <td>-0.017960</td>\n",
       "      <td>0.144443</td>\n",
       "      <td>0.156115</td>\n",
       "      <td>0.077392</td>\n",
       "      <td>-0.047673</td>\n",
       "      <td>-0.151979</td>\n",
       "    </tr>\n",
       "    <tr>\n",
       "      <td>3</td>\n",
       "      <td>28949.573667</td>\n",
       "      <td>0.553349</td>\n",
       "      <td>-0.007028</td>\n",
       "      <td>0.214297</td>\n",
       "      <td>0.255166</td>\n",
       "      <td>0.262181</td>\n",
       "      <td>-0.095891</td>\n",
       "      <td>-0.756532</td>\n",
       "    </tr>\n",
       "    <tr>\n",
       "      <td>4</td>\n",
       "      <td>-32260.426281</td>\n",
       "      <td>-2.146202</td>\n",
       "      <td>-0.018009</td>\n",
       "      <td>0.156201</td>\n",
       "      <td>0.189668</td>\n",
       "      <td>0.216215</td>\n",
       "      <td>-0.095498</td>\n",
       "      <td>-0.645705</td>\n",
       "    </tr>\n",
       "    <tr>\n",
       "      <td>...</td>\n",
       "      <td>...</td>\n",
       "      <td>...</td>\n",
       "      <td>...</td>\n",
       "      <td>...</td>\n",
       "      <td>...</td>\n",
       "      <td>...</td>\n",
       "      <td>...</td>\n",
       "      <td>...</td>\n",
       "    </tr>\n",
       "    <tr>\n",
       "      <td>499995</td>\n",
       "      <td>-14683.426313</td>\n",
       "      <td>-1.084235</td>\n",
       "      <td>0.006292</td>\n",
       "      <td>0.022059</td>\n",
       "      <td>-0.610666</td>\n",
       "      <td>0.650237</td>\n",
       "      <td>0.132367</td>\n",
       "      <td>-0.053757</td>\n",
       "    </tr>\n",
       "    <tr>\n",
       "      <td>499996</td>\n",
       "      <td>36717.573653</td>\n",
       "      <td>1.018827</td>\n",
       "      <td>-0.010388</td>\n",
       "      <td>0.151345</td>\n",
       "      <td>0.175542</td>\n",
       "      <td>0.075020</td>\n",
       "      <td>-0.059195</td>\n",
       "      <td>-0.170689</td>\n",
       "    </tr>\n",
       "    <tr>\n",
       "      <td>499997</td>\n",
       "      <td>-15969.426371</td>\n",
       "      <td>-0.156178</td>\n",
       "      <td>-0.701390</td>\n",
       "      <td>-0.573875</td>\n",
       "      <td>-0.031129</td>\n",
       "      <td>-0.190849</td>\n",
       "      <td>-0.022989</td>\n",
       "      <td>0.057976</td>\n",
       "    </tr>\n",
       "    <tr>\n",
       "      <td>499998</td>\n",
       "      <td>7479.573828</td>\n",
       "      <td>-2.752052</td>\n",
       "      <td>-0.004243</td>\n",
       "      <td>0.108661</td>\n",
       "      <td>0.112981</td>\n",
       "      <td>0.108076</td>\n",
       "      <td>-0.021527</td>\n",
       "      <td>-0.225223</td>\n",
       "    </tr>\n",
       "    <tr>\n",
       "      <td>499999</td>\n",
       "      <td>-37423.426514</td>\n",
       "      <td>1.545041</td>\n",
       "      <td>0.683374</td>\n",
       "      <td>-0.393540</td>\n",
       "      <td>0.058483</td>\n",
       "      <td>-0.143227</td>\n",
       "      <td>-0.028898</td>\n",
       "      <td>0.035055</td>\n",
       "    </tr>\n",
       "  </tbody>\n",
       "</table>\n",
       "<p>500000 rows × 8 columns</p>\n",
       "</div>"
      ],
      "text/plain": [
       "                   0         1         2         3         4         5  \\\n",
       "0      -23167.426358 -0.603445 -0.013627  0.107359  0.118426  0.066914   \n",
       "1      -29335.426468  1.035679  0.712957 -0.433694  0.024540 -0.168680   \n",
       "2      -30443.426466  0.965182 -0.017960  0.144443  0.156115  0.077392   \n",
       "3       28949.573667  0.553349 -0.007028  0.214297  0.255166  0.262181   \n",
       "4      -32260.426281 -2.146202 -0.018009  0.156201  0.189668  0.216215   \n",
       "...              ...       ...       ...       ...       ...       ...   \n",
       "499995 -14683.426313 -1.084235  0.006292  0.022059 -0.610666  0.650237   \n",
       "499996  36717.573653  1.018827 -0.010388  0.151345  0.175542  0.075020   \n",
       "499997 -15969.426371 -0.156178 -0.701390 -0.573875 -0.031129 -0.190849   \n",
       "499998   7479.573828 -2.752052 -0.004243  0.108661  0.112981  0.108076   \n",
       "499999 -37423.426514  1.545041  0.683374 -0.393540  0.058483 -0.143227   \n",
       "\n",
       "               6         7  \n",
       "0      -0.037595 -0.113005  \n",
       "1      -0.025987  0.033302  \n",
       "2      -0.047673 -0.151979  \n",
       "3      -0.095891 -0.756532  \n",
       "4      -0.095498 -0.645705  \n",
       "...          ...       ...  \n",
       "499995  0.132367 -0.053757  \n",
       "499996 -0.059195 -0.170689  \n",
       "499997 -0.022989  0.057976  \n",
       "499998 -0.021527 -0.225223  \n",
       "499999 -0.028898  0.035055  \n",
       "\n",
       "[500000 rows x 8 columns]"
      ]
     },
     "execution_count": 13,
     "metadata": {},
     "output_type": "execute_result"
    }
   ],
   "source": [
    "X_=pd.DataFrame(X_)\n",
    "X_"
   ]
  },
  {
   "cell_type": "code",
   "execution_count": 14,
   "metadata": {},
   "outputs": [],
   "source": [
    "import math\n",
    "import random\n",
    "from sklearn.metrics import mean_squared_error\n",
    "\n",
    "def ManualCrossValidation(model , kfold = 10):\n",
    "    accuracy_scores = []\n",
    "    \n",
    "    for i in range(kfold):\n",
    "        random_state = math.trunc((random.random() * 1000))\n",
    "        X_foldtrain, X_foldtest, y_foldtrain, y_foldtest = train_test_split(X_, y, test_size=0.3, random_state=random_state)\n",
    "\n",
    "        \n",
    "        \n",
    "        model.fit(X_foldtrain, y_foldtrain)\n",
    "        y_pred_clf = model.predict(X_foldtest)\n",
    "        error = mean_squared_error(y_foldtest, y_pred_clf) ** 0.5\n",
    "        accuracy_scores.append(error)\n",
    "        \n",
    "    for i in range(len(accuracy_scores)):\n",
    "        error = accuracy_scores[i] + error\n",
    "    error = error / len(accuracy_scores)\n",
    "\n",
    "    return error"
   ]
  },
  {
   "cell_type": "markdown",
   "metadata": {},
   "source": [
    "# Exercise P2.1 (50%)\n",
    "\n",
    "Develop a machine learning model that predicts the price of the of car using as an input ['Year', 'Mileage', 'State', 'Make', 'Model']\n",
    "\n",
    "#### Evaluation:\n",
    "- 25% - Performance of the model using K-Fold (K=10) cross-validation\n",
    "- 25% - Notebook explaining the modeling process\n"
   ]
  },
  {
   "cell_type": "code",
   "execution_count": 15,
   "metadata": {},
   "outputs": [],
   "source": [
    "from sklearn.model_selection import train_test_split\n",
    "np.random.seed(123)\n",
    "X_train, X_test, y_train, y_test = train_test_split(X_, y, test_size=0.33, random_state=42)\n",
    "train,test=train_test_split(data,test_size=0.33,random_state=42)"
   ]
  },
  {
   "cell_type": "code",
   "execution_count": 20,
   "metadata": {},
   "outputs": [
    {
     "name": "stdout",
     "output_type": "stream",
     "text": [
      "[12:45:45] WARNING: src/objective/regression_obj.cu:152: reg:linear is now deprecated in favor of reg:squarederror.\n"
     ]
    },
    {
     "name": "stderr",
     "output_type": "stream",
     "text": [
      "/Users/nelsonaldanamartinez/opt/anaconda3/lib/python3.7/site-packages/xgboost/core.py:587: FutureWarning: Series.base is deprecated and will be removed in a future version\n",
      "  if getattr(data, 'base', None) is not None and \\\n"
     ]
    },
    {
     "name": "stdout",
     "output_type": "stream",
     "text": [
      "[12:46:07] WARNING: src/objective/regression_obj.cu:152: reg:linear is now deprecated in favor of reg:squarederror.\n"
     ]
    },
    {
     "name": "stderr",
     "output_type": "stream",
     "text": [
      "/Users/nelsonaldanamartinez/opt/anaconda3/lib/python3.7/site-packages/xgboost/core.py:587: FutureWarning: Series.base is deprecated and will be removed in a future version\n",
      "  if getattr(data, 'base', None) is not None and \\\n"
     ]
    },
    {
     "name": "stdout",
     "output_type": "stream",
     "text": [
      "[12:46:28] WARNING: src/objective/regression_obj.cu:152: reg:linear is now deprecated in favor of reg:squarederror.\n"
     ]
    },
    {
     "name": "stderr",
     "output_type": "stream",
     "text": [
      "/Users/nelsonaldanamartinez/opt/anaconda3/lib/python3.7/site-packages/xgboost/core.py:587: FutureWarning: Series.base is deprecated and will be removed in a future version\n",
      "  if getattr(data, 'base', None) is not None and \\\n"
     ]
    },
    {
     "name": "stdout",
     "output_type": "stream",
     "text": [
      "[12:46:51] WARNING: src/objective/regression_obj.cu:152: reg:linear is now deprecated in favor of reg:squarederror.\n"
     ]
    },
    {
     "name": "stderr",
     "output_type": "stream",
     "text": [
      "/Users/nelsonaldanamartinez/opt/anaconda3/lib/python3.7/site-packages/xgboost/core.py:587: FutureWarning: Series.base is deprecated and will be removed in a future version\n",
      "  if getattr(data, 'base', None) is not None and \\\n"
     ]
    },
    {
     "name": "stdout",
     "output_type": "stream",
     "text": [
      "[12:47:14] WARNING: src/objective/regression_obj.cu:152: reg:linear is now deprecated in favor of reg:squarederror.\n"
     ]
    },
    {
     "name": "stderr",
     "output_type": "stream",
     "text": [
      "/Users/nelsonaldanamartinez/opt/anaconda3/lib/python3.7/site-packages/xgboost/core.py:587: FutureWarning: Series.base is deprecated and will be removed in a future version\n",
      "  if getattr(data, 'base', None) is not None and \\\n"
     ]
    },
    {
     "name": "stdout",
     "output_type": "stream",
     "text": [
      "[12:47:37] WARNING: src/objective/regression_obj.cu:152: reg:linear is now deprecated in favor of reg:squarederror.\n"
     ]
    },
    {
     "name": "stderr",
     "output_type": "stream",
     "text": [
      "/Users/nelsonaldanamartinez/opt/anaconda3/lib/python3.7/site-packages/xgboost/core.py:587: FutureWarning: Series.base is deprecated and will be removed in a future version\n",
      "  if getattr(data, 'base', None) is not None and \\\n"
     ]
    },
    {
     "name": "stdout",
     "output_type": "stream",
     "text": [
      "[12:47:59] WARNING: src/objective/regression_obj.cu:152: reg:linear is now deprecated in favor of reg:squarederror.\n"
     ]
    },
    {
     "name": "stderr",
     "output_type": "stream",
     "text": [
      "/Users/nelsonaldanamartinez/opt/anaconda3/lib/python3.7/site-packages/xgboost/core.py:587: FutureWarning: Series.base is deprecated and will be removed in a future version\n",
      "  if getattr(data, 'base', None) is not None and \\\n"
     ]
    },
    {
     "name": "stdout",
     "output_type": "stream",
     "text": [
      "[12:48:22] WARNING: src/objective/regression_obj.cu:152: reg:linear is now deprecated in favor of reg:squarederror.\n"
     ]
    },
    {
     "name": "stderr",
     "output_type": "stream",
     "text": [
      "/Users/nelsonaldanamartinez/opt/anaconda3/lib/python3.7/site-packages/xgboost/core.py:587: FutureWarning: Series.base is deprecated and will be removed in a future version\n",
      "  if getattr(data, 'base', None) is not None and \\\n"
     ]
    },
    {
     "name": "stdout",
     "output_type": "stream",
     "text": [
      "[12:48:44] WARNING: src/objective/regression_obj.cu:152: reg:linear is now deprecated in favor of reg:squarederror.\n"
     ]
    },
    {
     "name": "stderr",
     "output_type": "stream",
     "text": [
      "/Users/nelsonaldanamartinez/opt/anaconda3/lib/python3.7/site-packages/xgboost/core.py:587: FutureWarning: Series.base is deprecated and will be removed in a future version\n",
      "  if getattr(data, 'base', None) is not None and \\\n"
     ]
    },
    {
     "name": "stdout",
     "output_type": "stream",
     "text": [
      "[12:49:07] WARNING: src/objective/regression_obj.cu:152: reg:linear is now deprecated in favor of reg:squarederror.\n"
     ]
    },
    {
     "name": "stderr",
     "output_type": "stream",
     "text": [
      "/Users/nelsonaldanamartinez/opt/anaconda3/lib/python3.7/site-packages/xgboost/core.py:587: FutureWarning: Series.base is deprecated and will be removed in a future version\n",
      "  if getattr(data, 'base', None) is not None and \\\n"
     ]
    },
    {
     "name": "stdout",
     "output_type": "stream",
     "text": [
      "[12:49:29] WARNING: src/objective/regression_obj.cu:152: reg:linear is now deprecated in favor of reg:squarederror.\n"
     ]
    },
    {
     "name": "stderr",
     "output_type": "stream",
     "text": [
      "/Users/nelsonaldanamartinez/opt/anaconda3/lib/python3.7/site-packages/xgboost/core.py:587: FutureWarning: Series.base is deprecated and will be removed in a future version\n",
      "  if getattr(data, 'base', None) is not None and \\\n"
     ]
    },
    {
     "name": "stdout",
     "output_type": "stream",
     "text": [
      "[12:49:52] WARNING: src/objective/regression_obj.cu:152: reg:linear is now deprecated in favor of reg:squarederror.\n"
     ]
    },
    {
     "name": "stderr",
     "output_type": "stream",
     "text": [
      "/Users/nelsonaldanamartinez/opt/anaconda3/lib/python3.7/site-packages/xgboost/core.py:587: FutureWarning: Series.base is deprecated and will be removed in a future version\n",
      "  if getattr(data, 'base', None) is not None and \\\n"
     ]
    },
    {
     "name": "stdout",
     "output_type": "stream",
     "text": [
      "[12:50:14] WARNING: src/objective/regression_obj.cu:152: reg:linear is now deprecated in favor of reg:squarederror.\n"
     ]
    },
    {
     "name": "stderr",
     "output_type": "stream",
     "text": [
      "/Users/nelsonaldanamartinez/opt/anaconda3/lib/python3.7/site-packages/xgboost/core.py:587: FutureWarning: Series.base is deprecated and will be removed in a future version\n",
      "  if getattr(data, 'base', None) is not None and \\\n"
     ]
    },
    {
     "name": "stdout",
     "output_type": "stream",
     "text": [
      "[12:50:37] WARNING: src/objective/regression_obj.cu:152: reg:linear is now deprecated in favor of reg:squarederror.\n"
     ]
    },
    {
     "name": "stderr",
     "output_type": "stream",
     "text": [
      "/Users/nelsonaldanamartinez/opt/anaconda3/lib/python3.7/site-packages/xgboost/core.py:587: FutureWarning: Series.base is deprecated and will be removed in a future version\n",
      "  if getattr(data, 'base', None) is not None and \\\n"
     ]
    },
    {
     "name": "stdout",
     "output_type": "stream",
     "text": [
      "[12:50:59] WARNING: src/objective/regression_obj.cu:152: reg:linear is now deprecated in favor of reg:squarederror.\n"
     ]
    },
    {
     "name": "stderr",
     "output_type": "stream",
     "text": [
      "/Users/nelsonaldanamartinez/opt/anaconda3/lib/python3.7/site-packages/xgboost/core.py:587: FutureWarning: Series.base is deprecated and will be removed in a future version\n",
      "  if getattr(data, 'base', None) is not None and \\\n"
     ]
    },
    {
     "name": "stdout",
     "output_type": "stream",
     "text": [
      "[12:51:22] WARNING: src/objective/regression_obj.cu:152: reg:linear is now deprecated in favor of reg:squarederror.\n"
     ]
    },
    {
     "name": "stderr",
     "output_type": "stream",
     "text": [
      "/Users/nelsonaldanamartinez/opt/anaconda3/lib/python3.7/site-packages/xgboost/core.py:587: FutureWarning: Series.base is deprecated and will be removed in a future version\n",
      "  if getattr(data, 'base', None) is not None and \\\n"
     ]
    },
    {
     "name": "stdout",
     "output_type": "stream",
     "text": [
      "[12:51:44] WARNING: src/objective/regression_obj.cu:152: reg:linear is now deprecated in favor of reg:squarederror.\n"
     ]
    },
    {
     "name": "stderr",
     "output_type": "stream",
     "text": [
      "/Users/nelsonaldanamartinez/opt/anaconda3/lib/python3.7/site-packages/xgboost/core.py:587: FutureWarning: Series.base is deprecated and will be removed in a future version\n",
      "  if getattr(data, 'base', None) is not None and \\\n"
     ]
    },
    {
     "name": "stdout",
     "output_type": "stream",
     "text": [
      "[12:52:07] WARNING: src/objective/regression_obj.cu:152: reg:linear is now deprecated in favor of reg:squarederror.\n"
     ]
    },
    {
     "name": "stderr",
     "output_type": "stream",
     "text": [
      "/Users/nelsonaldanamartinez/opt/anaconda3/lib/python3.7/site-packages/xgboost/core.py:587: FutureWarning: Series.base is deprecated and will be removed in a future version\n",
      "  if getattr(data, 'base', None) is not None and \\\n"
     ]
    },
    {
     "name": "stdout",
     "output_type": "stream",
     "text": [
      "[12:52:30] WARNING: src/objective/regression_obj.cu:152: reg:linear is now deprecated in favor of reg:squarederror.\n"
     ]
    },
    {
     "name": "stderr",
     "output_type": "stream",
     "text": [
      "/Users/nelsonaldanamartinez/opt/anaconda3/lib/python3.7/site-packages/xgboost/core.py:587: FutureWarning: Series.base is deprecated and will be removed in a future version\n",
      "  if getattr(data, 'base', None) is not None and \\\n"
     ]
    },
    {
     "name": "stdout",
     "output_type": "stream",
     "text": [
      "[12:52:52] WARNING: src/objective/regression_obj.cu:152: reg:linear is now deprecated in favor of reg:squarederror.\n"
     ]
    },
    {
     "name": "stderr",
     "output_type": "stream",
     "text": [
      "/Users/nelsonaldanamartinez/opt/anaconda3/lib/python3.7/site-packages/xgboost/core.py:587: FutureWarning: Series.base is deprecated and will be removed in a future version\n",
      "  if getattr(data, 'base', None) is not None and \\\n"
     ]
    },
    {
     "name": "stdout",
     "output_type": "stream",
     "text": [
      "[12:53:15] WARNING: src/objective/regression_obj.cu:152: reg:linear is now deprecated in favor of reg:squarederror.\n"
     ]
    },
    {
     "name": "stderr",
     "output_type": "stream",
     "text": [
      "/Users/nelsonaldanamartinez/opt/anaconda3/lib/python3.7/site-packages/xgboost/core.py:587: FutureWarning: Series.base is deprecated and will be removed in a future version\n",
      "  if getattr(data, 'base', None) is not None and \\\n"
     ]
    },
    {
     "name": "stdout",
     "output_type": "stream",
     "text": [
      "[12:53:38] WARNING: src/objective/regression_obj.cu:152: reg:linear is now deprecated in favor of reg:squarederror.\n"
     ]
    },
    {
     "name": "stderr",
     "output_type": "stream",
     "text": [
      "/Users/nelsonaldanamartinez/opt/anaconda3/lib/python3.7/site-packages/xgboost/core.py:587: FutureWarning: Series.base is deprecated and will be removed in a future version\n",
      "  if getattr(data, 'base', None) is not None and \\\n"
     ]
    },
    {
     "name": "stdout",
     "output_type": "stream",
     "text": [
      "[12:54:00] WARNING: src/objective/regression_obj.cu:152: reg:linear is now deprecated in favor of reg:squarederror.\n"
     ]
    },
    {
     "name": "stderr",
     "output_type": "stream",
     "text": [
      "/Users/nelsonaldanamartinez/opt/anaconda3/lib/python3.7/site-packages/xgboost/core.py:587: FutureWarning: Series.base is deprecated and will be removed in a future version\n",
      "  if getattr(data, 'base', None) is not None and \\\n"
     ]
    },
    {
     "name": "stdout",
     "output_type": "stream",
     "text": [
      "[12:54:23] WARNING: src/objective/regression_obj.cu:152: reg:linear is now deprecated in favor of reg:squarederror.\n"
     ]
    },
    {
     "name": "stderr",
     "output_type": "stream",
     "text": [
      "/Users/nelsonaldanamartinez/opt/anaconda3/lib/python3.7/site-packages/xgboost/core.py:587: FutureWarning: Series.base is deprecated and will be removed in a future version\n",
      "  if getattr(data, 'base', None) is not None and \\\n"
     ]
    },
    {
     "name": "stdout",
     "output_type": "stream",
     "text": [
      "[12:54:46] WARNING: src/objective/regression_obj.cu:152: reg:linear is now deprecated in favor of reg:squarederror.\n"
     ]
    },
    {
     "name": "stderr",
     "output_type": "stream",
     "text": [
      "/Users/nelsonaldanamartinez/opt/anaconda3/lib/python3.7/site-packages/xgboost/core.py:587: FutureWarning: Series.base is deprecated and will be removed in a future version\n",
      "  if getattr(data, 'base', None) is not None and \\\n"
     ]
    },
    {
     "name": "stdout",
     "output_type": "stream",
     "text": [
      "[12:55:09] WARNING: src/objective/regression_obj.cu:152: reg:linear is now deprecated in favor of reg:squarederror.\n"
     ]
    },
    {
     "name": "stderr",
     "output_type": "stream",
     "text": [
      "/Users/nelsonaldanamartinez/opt/anaconda3/lib/python3.7/site-packages/xgboost/core.py:587: FutureWarning: Series.base is deprecated and will be removed in a future version\n",
      "  if getattr(data, 'base', None) is not None and \\\n"
     ]
    },
    {
     "name": "stdout",
     "output_type": "stream",
     "text": [
      "[12:55:31] WARNING: src/objective/regression_obj.cu:152: reg:linear is now deprecated in favor of reg:squarederror.\n"
     ]
    },
    {
     "name": "stderr",
     "output_type": "stream",
     "text": [
      "/Users/nelsonaldanamartinez/opt/anaconda3/lib/python3.7/site-packages/xgboost/core.py:587: FutureWarning: Series.base is deprecated and will be removed in a future version\n",
      "  if getattr(data, 'base', None) is not None and \\\n"
     ]
    },
    {
     "name": "stdout",
     "output_type": "stream",
     "text": [
      "[12:55:55] WARNING: src/objective/regression_obj.cu:152: reg:linear is now deprecated in favor of reg:squarederror.\n"
     ]
    },
    {
     "name": "stderr",
     "output_type": "stream",
     "text": [
      "/Users/nelsonaldanamartinez/opt/anaconda3/lib/python3.7/site-packages/xgboost/core.py:587: FutureWarning: Series.base is deprecated and will be removed in a future version\n",
      "  if getattr(data, 'base', None) is not None and \\\n"
     ]
    },
    {
     "name": "stdout",
     "output_type": "stream",
     "text": [
      "[12:56:17] WARNING: src/objective/regression_obj.cu:152: reg:linear is now deprecated in favor of reg:squarederror.\n"
     ]
    },
    {
     "name": "stderr",
     "output_type": "stream",
     "text": [
      "/Users/nelsonaldanamartinez/opt/anaconda3/lib/python3.7/site-packages/xgboost/core.py:587: FutureWarning: Series.base is deprecated and will be removed in a future version\n",
      "  if getattr(data, 'base', None) is not None and \\\n"
     ]
    },
    {
     "name": "stdout",
     "output_type": "stream",
     "text": [
      "[12:56:40] WARNING: src/objective/regression_obj.cu:152: reg:linear is now deprecated in favor of reg:squarederror.\n"
     ]
    },
    {
     "name": "stderr",
     "output_type": "stream",
     "text": [
      "/Users/nelsonaldanamartinez/opt/anaconda3/lib/python3.7/site-packages/xgboost/core.py:587: FutureWarning: Series.base is deprecated and will be removed in a future version\n",
      "  if getattr(data, 'base', None) is not None and \\\n"
     ]
    },
    {
     "name": "stdout",
     "output_type": "stream",
     "text": [
      "[12:57:03] WARNING: src/objective/regression_obj.cu:152: reg:linear is now deprecated in favor of reg:squarederror.\n"
     ]
    },
    {
     "name": "stderr",
     "output_type": "stream",
     "text": [
      "/Users/nelsonaldanamartinez/opt/anaconda3/lib/python3.7/site-packages/xgboost/core.py:587: FutureWarning: Series.base is deprecated and will be removed in a future version\n",
      "  if getattr(data, 'base', None) is not None and \\\n"
     ]
    },
    {
     "name": "stdout",
     "output_type": "stream",
     "text": [
      "[12:57:26] WARNING: src/objective/regression_obj.cu:152: reg:linear is now deprecated in favor of reg:squarederror.\n"
     ]
    },
    {
     "name": "stderr",
     "output_type": "stream",
     "text": [
      "/Users/nelsonaldanamartinez/opt/anaconda3/lib/python3.7/site-packages/xgboost/core.py:587: FutureWarning: Series.base is deprecated and will be removed in a future version\n",
      "  if getattr(data, 'base', None) is not None and \\\n"
     ]
    },
    {
     "name": "stdout",
     "output_type": "stream",
     "text": [
      "[12:57:49] WARNING: src/objective/regression_obj.cu:152: reg:linear is now deprecated in favor of reg:squarederror.\n"
     ]
    },
    {
     "name": "stderr",
     "output_type": "stream",
     "text": [
      "/Users/nelsonaldanamartinez/opt/anaconda3/lib/python3.7/site-packages/xgboost/core.py:587: FutureWarning: Series.base is deprecated and will be removed in a future version\n",
      "  if getattr(data, 'base', None) is not None and \\\n"
     ]
    },
    {
     "name": "stdout",
     "output_type": "stream",
     "text": [
      "[12:58:12] WARNING: src/objective/regression_obj.cu:152: reg:linear is now deprecated in favor of reg:squarederror.\n"
     ]
    },
    {
     "name": "stderr",
     "output_type": "stream",
     "text": [
      "/Users/nelsonaldanamartinez/opt/anaconda3/lib/python3.7/site-packages/xgboost/core.py:587: FutureWarning: Series.base is deprecated and will be removed in a future version\n",
      "  if getattr(data, 'base', None) is not None and \\\n"
     ]
    },
    {
     "name": "stdout",
     "output_type": "stream",
     "text": [
      "[12:58:35] WARNING: src/objective/regression_obj.cu:152: reg:linear is now deprecated in favor of reg:squarederror.\n"
     ]
    },
    {
     "name": "stderr",
     "output_type": "stream",
     "text": [
      "/Users/nelsonaldanamartinez/opt/anaconda3/lib/python3.7/site-packages/xgboost/core.py:587: FutureWarning: Series.base is deprecated and will be removed in a future version\n",
      "  if getattr(data, 'base', None) is not None and \\\n"
     ]
    },
    {
     "name": "stdout",
     "output_type": "stream",
     "text": [
      "[12:58:58] WARNING: src/objective/regression_obj.cu:152: reg:linear is now deprecated in favor of reg:squarederror.\n"
     ]
    },
    {
     "name": "stderr",
     "output_type": "stream",
     "text": [
      "/Users/nelsonaldanamartinez/opt/anaconda3/lib/python3.7/site-packages/xgboost/core.py:587: FutureWarning: Series.base is deprecated and will be removed in a future version\n",
      "  if getattr(data, 'base', None) is not None and \\\n"
     ]
    },
    {
     "name": "stdout",
     "output_type": "stream",
     "text": [
      "[12:59:21] WARNING: src/objective/regression_obj.cu:152: reg:linear is now deprecated in favor of reg:squarederror.\n"
     ]
    },
    {
     "name": "stderr",
     "output_type": "stream",
     "text": [
      "/Users/nelsonaldanamartinez/opt/anaconda3/lib/python3.7/site-packages/xgboost/core.py:587: FutureWarning: Series.base is deprecated and will be removed in a future version\n",
      "  if getattr(data, 'base', None) is not None and \\\n"
     ]
    },
    {
     "name": "stdout",
     "output_type": "stream",
     "text": [
      "[12:59:44] WARNING: src/objective/regression_obj.cu:152: reg:linear is now deprecated in favor of reg:squarederror.\n"
     ]
    },
    {
     "name": "stderr",
     "output_type": "stream",
     "text": [
      "/Users/nelsonaldanamartinez/opt/anaconda3/lib/python3.7/site-packages/xgboost/core.py:587: FutureWarning: Series.base is deprecated and will be removed in a future version\n",
      "  if getattr(data, 'base', None) is not None and \\\n"
     ]
    },
    {
     "name": "stdout",
     "output_type": "stream",
     "text": [
      "[13:00:08] WARNING: src/objective/regression_obj.cu:152: reg:linear is now deprecated in favor of reg:squarederror.\n"
     ]
    },
    {
     "name": "stderr",
     "output_type": "stream",
     "text": [
      "/Users/nelsonaldanamartinez/opt/anaconda3/lib/python3.7/site-packages/xgboost/core.py:587: FutureWarning: Series.base is deprecated and will be removed in a future version\n",
      "  if getattr(data, 'base', None) is not None and \\\n"
     ]
    },
    {
     "name": "stdout",
     "output_type": "stream",
     "text": [
      "[13:00:31] WARNING: src/objective/regression_obj.cu:152: reg:linear is now deprecated in favor of reg:squarederror.\n"
     ]
    },
    {
     "name": "stderr",
     "output_type": "stream",
     "text": [
      "/Users/nelsonaldanamartinez/opt/anaconda3/lib/python3.7/site-packages/xgboost/core.py:587: FutureWarning: Series.base is deprecated and will be removed in a future version\n",
      "  if getattr(data, 'base', None) is not None and \\\n"
     ]
    },
    {
     "name": "stdout",
     "output_type": "stream",
     "text": [
      "[13:00:54] WARNING: src/objective/regression_obj.cu:152: reg:linear is now deprecated in favor of reg:squarederror.\n"
     ]
    },
    {
     "name": "stderr",
     "output_type": "stream",
     "text": [
      "/Users/nelsonaldanamartinez/opt/anaconda3/lib/python3.7/site-packages/xgboost/core.py:587: FutureWarning: Series.base is deprecated and will be removed in a future version\n",
      "  if getattr(data, 'base', None) is not None and \\\n"
     ]
    },
    {
     "name": "stdout",
     "output_type": "stream",
     "text": [
      "[13:01:18] WARNING: src/objective/regression_obj.cu:152: reg:linear is now deprecated in favor of reg:squarederror.\n"
     ]
    },
    {
     "name": "stderr",
     "output_type": "stream",
     "text": [
      "/Users/nelsonaldanamartinez/opt/anaconda3/lib/python3.7/site-packages/xgboost/core.py:587: FutureWarning: Series.base is deprecated and will be removed in a future version\n",
      "  if getattr(data, 'base', None) is not None and \\\n"
     ]
    },
    {
     "name": "stdout",
     "output_type": "stream",
     "text": [
      "[13:01:41] WARNING: src/objective/regression_obj.cu:152: reg:linear is now deprecated in favor of reg:squarederror.\n"
     ]
    },
    {
     "name": "stderr",
     "output_type": "stream",
     "text": [
      "/Users/nelsonaldanamartinez/opt/anaconda3/lib/python3.7/site-packages/xgboost/core.py:587: FutureWarning: Series.base is deprecated and will be removed in a future version\n",
      "  if getattr(data, 'base', None) is not None and \\\n"
     ]
    },
    {
     "name": "stdout",
     "output_type": "stream",
     "text": [
      "[13:02:04] WARNING: src/objective/regression_obj.cu:152: reg:linear is now deprecated in favor of reg:squarederror.\n"
     ]
    },
    {
     "name": "stderr",
     "output_type": "stream",
     "text": [
      "/Users/nelsonaldanamartinez/opt/anaconda3/lib/python3.7/site-packages/xgboost/core.py:587: FutureWarning: Series.base is deprecated and will be removed in a future version\n",
      "  if getattr(data, 'base', None) is not None and \\\n"
     ]
    },
    {
     "name": "stdout",
     "output_type": "stream",
     "text": [
      "[13:02:27] WARNING: src/objective/regression_obj.cu:152: reg:linear is now deprecated in favor of reg:squarederror.\n"
     ]
    },
    {
     "name": "stderr",
     "output_type": "stream",
     "text": [
      "/Users/nelsonaldanamartinez/opt/anaconda3/lib/python3.7/site-packages/xgboost/core.py:587: FutureWarning: Series.base is deprecated and will be removed in a future version\n",
      "  if getattr(data, 'base', None) is not None and \\\n"
     ]
    },
    {
     "name": "stdout",
     "output_type": "stream",
     "text": [
      "[13:02:50] WARNING: src/objective/regression_obj.cu:152: reg:linear is now deprecated in favor of reg:squarederror.\n"
     ]
    },
    {
     "name": "stderr",
     "output_type": "stream",
     "text": [
      "/Users/nelsonaldanamartinez/opt/anaconda3/lib/python3.7/site-packages/xgboost/core.py:587: FutureWarning: Series.base is deprecated and will be removed in a future version\n",
      "  if getattr(data, 'base', None) is not None and \\\n"
     ]
    },
    {
     "name": "stdout",
     "output_type": "stream",
     "text": [
      "[13:03:13] WARNING: src/objective/regression_obj.cu:152: reg:linear is now deprecated in favor of reg:squarederror.\n"
     ]
    },
    {
     "name": "stderr",
     "output_type": "stream",
     "text": [
      "/Users/nelsonaldanamartinez/opt/anaconda3/lib/python3.7/site-packages/xgboost/core.py:587: FutureWarning: Series.base is deprecated and will be removed in a future version\n",
      "  if getattr(data, 'base', None) is not None and \\\n"
     ]
    },
    {
     "name": "stdout",
     "output_type": "stream",
     "text": [
      "[13:03:37] WARNING: src/objective/regression_obj.cu:152: reg:linear is now deprecated in favor of reg:squarederror.\n"
     ]
    },
    {
     "name": "stderr",
     "output_type": "stream",
     "text": [
      "/Users/nelsonaldanamartinez/opt/anaconda3/lib/python3.7/site-packages/xgboost/core.py:587: FutureWarning: Series.base is deprecated and will be removed in a future version\n",
      "  if getattr(data, 'base', None) is not None and \\\n"
     ]
    },
    {
     "name": "stdout",
     "output_type": "stream",
     "text": [
      "[13:04:00] WARNING: src/objective/regression_obj.cu:152: reg:linear is now deprecated in favor of reg:squarederror.\n"
     ]
    },
    {
     "name": "stderr",
     "output_type": "stream",
     "text": [
      "/Users/nelsonaldanamartinez/opt/anaconda3/lib/python3.7/site-packages/xgboost/core.py:587: FutureWarning: Series.base is deprecated and will be removed in a future version\n",
      "  if getattr(data, 'base', None) is not None and \\\n"
     ]
    },
    {
     "name": "stdout",
     "output_type": "stream",
     "text": [
      "[13:04:23] WARNING: src/objective/regression_obj.cu:152: reg:linear is now deprecated in favor of reg:squarederror.\n"
     ]
    },
    {
     "name": "stderr",
     "output_type": "stream",
     "text": [
      "/Users/nelsonaldanamartinez/opt/anaconda3/lib/python3.7/site-packages/xgboost/core.py:587: FutureWarning: Series.base is deprecated and will be removed in a future version\n",
      "  if getattr(data, 'base', None) is not None and \\\n"
     ]
    },
    {
     "name": "stdout",
     "output_type": "stream",
     "text": [
      "[13:04:47] WARNING: src/objective/regression_obj.cu:152: reg:linear is now deprecated in favor of reg:squarederror.\n"
     ]
    },
    {
     "name": "stderr",
     "output_type": "stream",
     "text": [
      "/Users/nelsonaldanamartinez/opt/anaconda3/lib/python3.7/site-packages/xgboost/core.py:587: FutureWarning: Series.base is deprecated and will be removed in a future version\n",
      "  if getattr(data, 'base', None) is not None and \\\n"
     ]
    },
    {
     "name": "stdout",
     "output_type": "stream",
     "text": [
      "[13:05:10] WARNING: src/objective/regression_obj.cu:152: reg:linear is now deprecated in favor of reg:squarederror.\n"
     ]
    },
    {
     "name": "stderr",
     "output_type": "stream",
     "text": [
      "/Users/nelsonaldanamartinez/opt/anaconda3/lib/python3.7/site-packages/xgboost/core.py:587: FutureWarning: Series.base is deprecated and will be removed in a future version\n",
      "  if getattr(data, 'base', None) is not None and \\\n"
     ]
    },
    {
     "name": "stdout",
     "output_type": "stream",
     "text": [
      "[13:05:33] WARNING: src/objective/regression_obj.cu:152: reg:linear is now deprecated in favor of reg:squarederror.\n"
     ]
    },
    {
     "name": "stderr",
     "output_type": "stream",
     "text": [
      "/Users/nelsonaldanamartinez/opt/anaconda3/lib/python3.7/site-packages/xgboost/core.py:587: FutureWarning: Series.base is deprecated and will be removed in a future version\n",
      "  if getattr(data, 'base', None) is not None and \\\n"
     ]
    },
    {
     "name": "stdout",
     "output_type": "stream",
     "text": [
      "[13:05:56] WARNING: src/objective/regression_obj.cu:152: reg:linear is now deprecated in favor of reg:squarederror.\n"
     ]
    },
    {
     "name": "stderr",
     "output_type": "stream",
     "text": [
      "/Users/nelsonaldanamartinez/opt/anaconda3/lib/python3.7/site-packages/xgboost/core.py:587: FutureWarning: Series.base is deprecated and will be removed in a future version\n",
      "  if getattr(data, 'base', None) is not None and \\\n"
     ]
    },
    {
     "name": "stdout",
     "output_type": "stream",
     "text": [
      "[13:06:20] WARNING: src/objective/regression_obj.cu:152: reg:linear is now deprecated in favor of reg:squarederror.\n"
     ]
    },
    {
     "name": "stderr",
     "output_type": "stream",
     "text": [
      "/Users/nelsonaldanamartinez/opt/anaconda3/lib/python3.7/site-packages/xgboost/core.py:587: FutureWarning: Series.base is deprecated and will be removed in a future version\n",
      "  if getattr(data, 'base', None) is not None and \\\n"
     ]
    },
    {
     "name": "stdout",
     "output_type": "stream",
     "text": [
      "[13:06:43] WARNING: src/objective/regression_obj.cu:152: reg:linear is now deprecated in favor of reg:squarederror.\n"
     ]
    },
    {
     "name": "stderr",
     "output_type": "stream",
     "text": [
      "/Users/nelsonaldanamartinez/opt/anaconda3/lib/python3.7/site-packages/xgboost/core.py:587: FutureWarning: Series.base is deprecated and will be removed in a future version\n",
      "  if getattr(data, 'base', None) is not None and \\\n"
     ]
    },
    {
     "name": "stdout",
     "output_type": "stream",
     "text": [
      "[13:07:07] WARNING: src/objective/regression_obj.cu:152: reg:linear is now deprecated in favor of reg:squarederror.\n"
     ]
    },
    {
     "name": "stderr",
     "output_type": "stream",
     "text": [
      "/Users/nelsonaldanamartinez/opt/anaconda3/lib/python3.7/site-packages/xgboost/core.py:587: FutureWarning: Series.base is deprecated and will be removed in a future version\n",
      "  if getattr(data, 'base', None) is not None and \\\n"
     ]
    },
    {
     "name": "stdout",
     "output_type": "stream",
     "text": [
      "[13:07:30] WARNING: src/objective/regression_obj.cu:152: reg:linear is now deprecated in favor of reg:squarederror.\n"
     ]
    },
    {
     "name": "stderr",
     "output_type": "stream",
     "text": [
      "/Users/nelsonaldanamartinez/opt/anaconda3/lib/python3.7/site-packages/xgboost/core.py:587: FutureWarning: Series.base is deprecated and will be removed in a future version\n",
      "  if getattr(data, 'base', None) is not None and \\\n"
     ]
    },
    {
     "name": "stdout",
     "output_type": "stream",
     "text": [
      "[13:07:52] WARNING: src/objective/regression_obj.cu:152: reg:linear is now deprecated in favor of reg:squarederror.\n"
     ]
    },
    {
     "name": "stderr",
     "output_type": "stream",
     "text": [
      "/Users/nelsonaldanamartinez/opt/anaconda3/lib/python3.7/site-packages/xgboost/core.py:587: FutureWarning: Series.base is deprecated and will be removed in a future version\n",
      "  if getattr(data, 'base', None) is not None and \\\n"
     ]
    },
    {
     "name": "stdout",
     "output_type": "stream",
     "text": [
      "[13:08:14] WARNING: src/objective/regression_obj.cu:152: reg:linear is now deprecated in favor of reg:squarederror.\n"
     ]
    },
    {
     "name": "stderr",
     "output_type": "stream",
     "text": [
      "/Users/nelsonaldanamartinez/opt/anaconda3/lib/python3.7/site-packages/xgboost/core.py:587: FutureWarning: Series.base is deprecated and will be removed in a future version\n",
      "  if getattr(data, 'base', None) is not None and \\\n"
     ]
    },
    {
     "name": "stdout",
     "output_type": "stream",
     "text": [
      "[13:08:36] WARNING: src/objective/regression_obj.cu:152: reg:linear is now deprecated in favor of reg:squarederror.\n"
     ]
    },
    {
     "name": "stderr",
     "output_type": "stream",
     "text": [
      "/Users/nelsonaldanamartinez/opt/anaconda3/lib/python3.7/site-packages/xgboost/core.py:587: FutureWarning: Series.base is deprecated and will be removed in a future version\n",
      "  if getattr(data, 'base', None) is not None and \\\n"
     ]
    },
    {
     "name": "stdout",
     "output_type": "stream",
     "text": [
      "[13:08:58] WARNING: src/objective/regression_obj.cu:152: reg:linear is now deprecated in favor of reg:squarederror.\n"
     ]
    },
    {
     "name": "stderr",
     "output_type": "stream",
     "text": [
      "/Users/nelsonaldanamartinez/opt/anaconda3/lib/python3.7/site-packages/xgboost/core.py:587: FutureWarning: Series.base is deprecated and will be removed in a future version\n",
      "  if getattr(data, 'base', None) is not None and \\\n"
     ]
    },
    {
     "name": "stdout",
     "output_type": "stream",
     "text": [
      "[13:09:20] WARNING: src/objective/regression_obj.cu:152: reg:linear is now deprecated in favor of reg:squarederror.\n"
     ]
    },
    {
     "name": "stderr",
     "output_type": "stream",
     "text": [
      "/Users/nelsonaldanamartinez/opt/anaconda3/lib/python3.7/site-packages/xgboost/core.py:587: FutureWarning: Series.base is deprecated and will be removed in a future version\n",
      "  if getattr(data, 'base', None) is not None and \\\n"
     ]
    },
    {
     "name": "stdout",
     "output_type": "stream",
     "text": [
      "[13:09:42] WARNING: src/objective/regression_obj.cu:152: reg:linear is now deprecated in favor of reg:squarederror.\n"
     ]
    },
    {
     "name": "stderr",
     "output_type": "stream",
     "text": [
      "/Users/nelsonaldanamartinez/opt/anaconda3/lib/python3.7/site-packages/xgboost/core.py:587: FutureWarning: Series.base is deprecated and will be removed in a future version\n",
      "  if getattr(data, 'base', None) is not None and \\\n"
     ]
    },
    {
     "name": "stdout",
     "output_type": "stream",
     "text": [
      "[13:10:04] WARNING: src/objective/regression_obj.cu:152: reg:linear is now deprecated in favor of reg:squarederror.\n"
     ]
    },
    {
     "name": "stderr",
     "output_type": "stream",
     "text": [
      "/Users/nelsonaldanamartinez/opt/anaconda3/lib/python3.7/site-packages/xgboost/core.py:587: FutureWarning: Series.base is deprecated and will be removed in a future version\n",
      "  if getattr(data, 'base', None) is not None and \\\n"
     ]
    },
    {
     "name": "stdout",
     "output_type": "stream",
     "text": [
      "[13:10:27] WARNING: src/objective/regression_obj.cu:152: reg:linear is now deprecated in favor of reg:squarederror.\n"
     ]
    },
    {
     "name": "stderr",
     "output_type": "stream",
     "text": [
      "/Users/nelsonaldanamartinez/opt/anaconda3/lib/python3.7/site-packages/xgboost/core.py:587: FutureWarning: Series.base is deprecated and will be removed in a future version\n",
      "  if getattr(data, 'base', None) is not None and \\\n"
     ]
    },
    {
     "name": "stdout",
     "output_type": "stream",
     "text": [
      "[13:10:49] WARNING: src/objective/regression_obj.cu:152: reg:linear is now deprecated in favor of reg:squarederror.\n"
     ]
    },
    {
     "name": "stderr",
     "output_type": "stream",
     "text": [
      "/Users/nelsonaldanamartinez/opt/anaconda3/lib/python3.7/site-packages/xgboost/core.py:587: FutureWarning: Series.base is deprecated and will be removed in a future version\n",
      "  if getattr(data, 'base', None) is not None and \\\n"
     ]
    },
    {
     "name": "stdout",
     "output_type": "stream",
     "text": [
      "[13:11:11] WARNING: src/objective/regression_obj.cu:152: reg:linear is now deprecated in favor of reg:squarederror.\n"
     ]
    },
    {
     "name": "stderr",
     "output_type": "stream",
     "text": [
      "/Users/nelsonaldanamartinez/opt/anaconda3/lib/python3.7/site-packages/xgboost/core.py:587: FutureWarning: Series.base is deprecated and will be removed in a future version\n",
      "  if getattr(data, 'base', None) is not None and \\\n"
     ]
    },
    {
     "name": "stdout",
     "output_type": "stream",
     "text": [
      "[13:11:33] WARNING: src/objective/regression_obj.cu:152: reg:linear is now deprecated in favor of reg:squarederror.\n"
     ]
    },
    {
     "name": "stderr",
     "output_type": "stream",
     "text": [
      "/Users/nelsonaldanamartinez/opt/anaconda3/lib/python3.7/site-packages/xgboost/core.py:587: FutureWarning: Series.base is deprecated and will be removed in a future version\n",
      "  if getattr(data, 'base', None) is not None and \\\n"
     ]
    },
    {
     "name": "stdout",
     "output_type": "stream",
     "text": [
      "[13:11:55] WARNING: src/objective/regression_obj.cu:152: reg:linear is now deprecated in favor of reg:squarederror.\n"
     ]
    },
    {
     "name": "stderr",
     "output_type": "stream",
     "text": [
      "/Users/nelsonaldanamartinez/opt/anaconda3/lib/python3.7/site-packages/xgboost/core.py:587: FutureWarning: Series.base is deprecated and will be removed in a future version\n",
      "  if getattr(data, 'base', None) is not None and \\\n"
     ]
    },
    {
     "name": "stdout",
     "output_type": "stream",
     "text": [
      "[13:12:16] WARNING: src/objective/regression_obj.cu:152: reg:linear is now deprecated in favor of reg:squarederror.\n"
     ]
    },
    {
     "name": "stderr",
     "output_type": "stream",
     "text": [
      "/Users/nelsonaldanamartinez/opt/anaconda3/lib/python3.7/site-packages/xgboost/core.py:587: FutureWarning: Series.base is deprecated and will be removed in a future version\n",
      "  if getattr(data, 'base', None) is not None and \\\n"
     ]
    },
    {
     "name": "stdout",
     "output_type": "stream",
     "text": [
      "[13:12:39] WARNING: src/objective/regression_obj.cu:152: reg:linear is now deprecated in favor of reg:squarederror.\n"
     ]
    },
    {
     "name": "stderr",
     "output_type": "stream",
     "text": [
      "/Users/nelsonaldanamartinez/opt/anaconda3/lib/python3.7/site-packages/xgboost/core.py:587: FutureWarning: Series.base is deprecated and will be removed in a future version\n",
      "  if getattr(data, 'base', None) is not None and \\\n"
     ]
    },
    {
     "name": "stdout",
     "output_type": "stream",
     "text": [
      "[13:13:00] WARNING: src/objective/regression_obj.cu:152: reg:linear is now deprecated in favor of reg:squarederror.\n"
     ]
    },
    {
     "name": "stderr",
     "output_type": "stream",
     "text": [
      "/Users/nelsonaldanamartinez/opt/anaconda3/lib/python3.7/site-packages/xgboost/core.py:587: FutureWarning: Series.base is deprecated and will be removed in a future version\n",
      "  if getattr(data, 'base', None) is not None and \\\n"
     ]
    },
    {
     "name": "stdout",
     "output_type": "stream",
     "text": [
      "[13:13:23] WARNING: src/objective/regression_obj.cu:152: reg:linear is now deprecated in favor of reg:squarederror.\n"
     ]
    },
    {
     "name": "stderr",
     "output_type": "stream",
     "text": [
      "/Users/nelsonaldanamartinez/opt/anaconda3/lib/python3.7/site-packages/xgboost/core.py:587: FutureWarning: Series.base is deprecated and will be removed in a future version\n",
      "  if getattr(data, 'base', None) is not None and \\\n"
     ]
    },
    {
     "name": "stdout",
     "output_type": "stream",
     "text": [
      "[13:13:45] WARNING: src/objective/regression_obj.cu:152: reg:linear is now deprecated in favor of reg:squarederror.\n"
     ]
    },
    {
     "name": "stderr",
     "output_type": "stream",
     "text": [
      "/Users/nelsonaldanamartinez/opt/anaconda3/lib/python3.7/site-packages/xgboost/core.py:587: FutureWarning: Series.base is deprecated and will be removed in a future version\n",
      "  if getattr(data, 'base', None) is not None and \\\n"
     ]
    },
    {
     "name": "stdout",
     "output_type": "stream",
     "text": [
      "[13:14:07] WARNING: src/objective/regression_obj.cu:152: reg:linear is now deprecated in favor of reg:squarederror.\n"
     ]
    },
    {
     "name": "stderr",
     "output_type": "stream",
     "text": [
      "/Users/nelsonaldanamartinez/opt/anaconda3/lib/python3.7/site-packages/xgboost/core.py:587: FutureWarning: Series.base is deprecated and will be removed in a future version\n",
      "  if getattr(data, 'base', None) is not None and \\\n"
     ]
    },
    {
     "name": "stdout",
     "output_type": "stream",
     "text": [
      "[13:14:29] WARNING: src/objective/regression_obj.cu:152: reg:linear is now deprecated in favor of reg:squarederror.\n"
     ]
    },
    {
     "name": "stderr",
     "output_type": "stream",
     "text": [
      "/Users/nelsonaldanamartinez/opt/anaconda3/lib/python3.7/site-packages/xgboost/core.py:587: FutureWarning: Series.base is deprecated and will be removed in a future version\n",
      "  if getattr(data, 'base', None) is not None and \\\n"
     ]
    },
    {
     "name": "stdout",
     "output_type": "stream",
     "text": [
      "[13:14:52] WARNING: src/objective/regression_obj.cu:152: reg:linear is now deprecated in favor of reg:squarederror.\n"
     ]
    },
    {
     "name": "stderr",
     "output_type": "stream",
     "text": [
      "/Users/nelsonaldanamartinez/opt/anaconda3/lib/python3.7/site-packages/xgboost/core.py:587: FutureWarning: Series.base is deprecated and will be removed in a future version\n",
      "  if getattr(data, 'base', None) is not None and \\\n"
     ]
    },
    {
     "name": "stdout",
     "output_type": "stream",
     "text": [
      "[13:15:14] WARNING: src/objective/regression_obj.cu:152: reg:linear is now deprecated in favor of reg:squarederror.\n"
     ]
    },
    {
     "name": "stderr",
     "output_type": "stream",
     "text": [
      "/Users/nelsonaldanamartinez/opt/anaconda3/lib/python3.7/site-packages/xgboost/core.py:587: FutureWarning: Series.base is deprecated and will be removed in a future version\n",
      "  if getattr(data, 'base', None) is not None and \\\n"
     ]
    },
    {
     "name": "stdout",
     "output_type": "stream",
     "text": [
      "[13:15:35] WARNING: src/objective/regression_obj.cu:152: reg:linear is now deprecated in favor of reg:squarederror.\n"
     ]
    },
    {
     "name": "stderr",
     "output_type": "stream",
     "text": [
      "/Users/nelsonaldanamartinez/opt/anaconda3/lib/python3.7/site-packages/xgboost/core.py:587: FutureWarning: Series.base is deprecated and will be removed in a future version\n",
      "  if getattr(data, 'base', None) is not None and \\\n"
     ]
    },
    {
     "name": "stdout",
     "output_type": "stream",
     "text": [
      "[13:15:57] WARNING: src/objective/regression_obj.cu:152: reg:linear is now deprecated in favor of reg:squarederror.\n"
     ]
    },
    {
     "name": "stderr",
     "output_type": "stream",
     "text": [
      "/Users/nelsonaldanamartinez/opt/anaconda3/lib/python3.7/site-packages/xgboost/core.py:587: FutureWarning: Series.base is deprecated and will be removed in a future version\n",
      "  if getattr(data, 'base', None) is not None and \\\n"
     ]
    },
    {
     "name": "stdout",
     "output_type": "stream",
     "text": [
      "[13:16:20] WARNING: src/objective/regression_obj.cu:152: reg:linear is now deprecated in favor of reg:squarederror.\n"
     ]
    },
    {
     "name": "stderr",
     "output_type": "stream",
     "text": [
      "/Users/nelsonaldanamartinez/opt/anaconda3/lib/python3.7/site-packages/xgboost/core.py:587: FutureWarning: Series.base is deprecated and will be removed in a future version\n",
      "  if getattr(data, 'base', None) is not None and \\\n"
     ]
    },
    {
     "name": "stdout",
     "output_type": "stream",
     "text": [
      "[13:16:42] WARNING: src/objective/regression_obj.cu:152: reg:linear is now deprecated in favor of reg:squarederror.\n"
     ]
    },
    {
     "name": "stderr",
     "output_type": "stream",
     "text": [
      "/Users/nelsonaldanamartinez/opt/anaconda3/lib/python3.7/site-packages/xgboost/core.py:587: FutureWarning: Series.base is deprecated and will be removed in a future version\n",
      "  if getattr(data, 'base', None) is not None and \\\n"
     ]
    },
    {
     "name": "stdout",
     "output_type": "stream",
     "text": [
      "[13:17:04] WARNING: src/objective/regression_obj.cu:152: reg:linear is now deprecated in favor of reg:squarederror.\n"
     ]
    },
    {
     "name": "stderr",
     "output_type": "stream",
     "text": [
      "/Users/nelsonaldanamartinez/opt/anaconda3/lib/python3.7/site-packages/xgboost/core.py:587: FutureWarning: Series.base is deprecated and will be removed in a future version\n",
      "  if getattr(data, 'base', None) is not None and \\\n"
     ]
    },
    {
     "name": "stdout",
     "output_type": "stream",
     "text": [
      "[13:17:26] WARNING: src/objective/regression_obj.cu:152: reg:linear is now deprecated in favor of reg:squarederror.\n"
     ]
    },
    {
     "name": "stderr",
     "output_type": "stream",
     "text": [
      "/Users/nelsonaldanamartinez/opt/anaconda3/lib/python3.7/site-packages/xgboost/core.py:587: FutureWarning: Series.base is deprecated and will be removed in a future version\n",
      "  if getattr(data, 'base', None) is not None and \\\n"
     ]
    },
    {
     "name": "stdout",
     "output_type": "stream",
     "text": [
      "[13:17:48] WARNING: src/objective/regression_obj.cu:152: reg:linear is now deprecated in favor of reg:squarederror.\n"
     ]
    },
    {
     "name": "stderr",
     "output_type": "stream",
     "text": [
      "/Users/nelsonaldanamartinez/opt/anaconda3/lib/python3.7/site-packages/xgboost/core.py:587: FutureWarning: Series.base is deprecated and will be removed in a future version\n",
      "  if getattr(data, 'base', None) is not None and \\\n"
     ]
    },
    {
     "name": "stdout",
     "output_type": "stream",
     "text": [
      "[13:18:10] WARNING: src/objective/regression_obj.cu:152: reg:linear is now deprecated in favor of reg:squarederror.\n"
     ]
    },
    {
     "name": "stderr",
     "output_type": "stream",
     "text": [
      "/Users/nelsonaldanamartinez/opt/anaconda3/lib/python3.7/site-packages/xgboost/core.py:587: FutureWarning: Series.base is deprecated and will be removed in a future version\n",
      "  if getattr(data, 'base', None) is not None and \\\n"
     ]
    },
    {
     "name": "stdout",
     "output_type": "stream",
     "text": [
      "[13:18:33] WARNING: src/objective/regression_obj.cu:152: reg:linear is now deprecated in favor of reg:squarederror.\n"
     ]
    },
    {
     "name": "stderr",
     "output_type": "stream",
     "text": [
      "/Users/nelsonaldanamartinez/opt/anaconda3/lib/python3.7/site-packages/xgboost/core.py:587: FutureWarning: Series.base is deprecated and will be removed in a future version\n",
      "  if getattr(data, 'base', None) is not None and \\\n"
     ]
    },
    {
     "name": "stdout",
     "output_type": "stream",
     "text": [
      "[13:18:55] WARNING: src/objective/regression_obj.cu:152: reg:linear is now deprecated in favor of reg:squarederror.\n"
     ]
    },
    {
     "name": "stderr",
     "output_type": "stream",
     "text": [
      "/Users/nelsonaldanamartinez/opt/anaconda3/lib/python3.7/site-packages/xgboost/core.py:587: FutureWarning: Series.base is deprecated and will be removed in a future version\n",
      "  if getattr(data, 'base', None) is not None and \\\n"
     ]
    },
    {
     "name": "stdout",
     "output_type": "stream",
     "text": [
      "[13:19:17] WARNING: src/objective/regression_obj.cu:152: reg:linear is now deprecated in favor of reg:squarederror.\n"
     ]
    },
    {
     "name": "stderr",
     "output_type": "stream",
     "text": [
      "/Users/nelsonaldanamartinez/opt/anaconda3/lib/python3.7/site-packages/xgboost/core.py:587: FutureWarning: Series.base is deprecated and will be removed in a future version\n",
      "  if getattr(data, 'base', None) is not None and \\\n"
     ]
    },
    {
     "name": "stdout",
     "output_type": "stream",
     "text": [
      "[13:19:40] WARNING: src/objective/regression_obj.cu:152: reg:linear is now deprecated in favor of reg:squarederror.\n"
     ]
    },
    {
     "name": "stderr",
     "output_type": "stream",
     "text": [
      "/Users/nelsonaldanamartinez/opt/anaconda3/lib/python3.7/site-packages/xgboost/core.py:587: FutureWarning: Series.base is deprecated and will be removed in a future version\n",
      "  if getattr(data, 'base', None) is not None and \\\n"
     ]
    },
    {
     "name": "stdout",
     "output_type": "stream",
     "text": [
      "[13:20:02] WARNING: src/objective/regression_obj.cu:152: reg:linear is now deprecated in favor of reg:squarederror.\n"
     ]
    },
    {
     "name": "stderr",
     "output_type": "stream",
     "text": [
      "/Users/nelsonaldanamartinez/opt/anaconda3/lib/python3.7/site-packages/xgboost/core.py:587: FutureWarning: Series.base is deprecated and will be removed in a future version\n",
      "  if getattr(data, 'base', None) is not None and \\\n"
     ]
    },
    {
     "name": "stdout",
     "output_type": "stream",
     "text": [
      "[13:20:25] WARNING: src/objective/regression_obj.cu:152: reg:linear is now deprecated in favor of reg:squarederror.\n"
     ]
    },
    {
     "name": "stderr",
     "output_type": "stream",
     "text": [
      "/Users/nelsonaldanamartinez/opt/anaconda3/lib/python3.7/site-packages/xgboost/core.py:587: FutureWarning: Series.base is deprecated and will be removed in a future version\n",
      "  if getattr(data, 'base', None) is not None and \\\n"
     ]
    },
    {
     "name": "stdout",
     "output_type": "stream",
     "text": [
      "[13:20:47] WARNING: src/objective/regression_obj.cu:152: reg:linear is now deprecated in favor of reg:squarederror.\n"
     ]
    },
    {
     "name": "stderr",
     "output_type": "stream",
     "text": [
      "/Users/nelsonaldanamartinez/opt/anaconda3/lib/python3.7/site-packages/xgboost/core.py:587: FutureWarning: Series.base is deprecated and will be removed in a future version\n",
      "  if getattr(data, 'base', None) is not None and \\\n"
     ]
    },
    {
     "name": "stdout",
     "output_type": "stream",
     "text": [
      "[13:21:10] WARNING: src/objective/regression_obj.cu:152: reg:linear is now deprecated in favor of reg:squarederror.\n"
     ]
    },
    {
     "name": "stderr",
     "output_type": "stream",
     "text": [
      "/Users/nelsonaldanamartinez/opt/anaconda3/lib/python3.7/site-packages/xgboost/core.py:587: FutureWarning: Series.base is deprecated and will be removed in a future version\n",
      "  if getattr(data, 'base', None) is not None and \\\n"
     ]
    },
    {
     "name": "stdout",
     "output_type": "stream",
     "text": [
      "[13:21:33] WARNING: src/objective/regression_obj.cu:152: reg:linear is now deprecated in favor of reg:squarederror.\n"
     ]
    },
    {
     "name": "stderr",
     "output_type": "stream",
     "text": [
      "/Users/nelsonaldanamartinez/opt/anaconda3/lib/python3.7/site-packages/xgboost/core.py:587: FutureWarning: Series.base is deprecated and will be removed in a future version\n",
      "  if getattr(data, 'base', None) is not None and \\\n"
     ]
    },
    {
     "name": "stdout",
     "output_type": "stream",
     "text": [
      "[13:21:55] WARNING: src/objective/regression_obj.cu:152: reg:linear is now deprecated in favor of reg:squarederror.\n"
     ]
    },
    {
     "name": "stderr",
     "output_type": "stream",
     "text": [
      "/Users/nelsonaldanamartinez/opt/anaconda3/lib/python3.7/site-packages/xgboost/core.py:587: FutureWarning: Series.base is deprecated and will be removed in a future version\n",
      "  if getattr(data, 'base', None) is not None and \\\n"
     ]
    },
    {
     "name": "stdout",
     "output_type": "stream",
     "text": [
      "[13:22:17] WARNING: src/objective/regression_obj.cu:152: reg:linear is now deprecated in favor of reg:squarederror.\n"
     ]
    },
    {
     "name": "stderr",
     "output_type": "stream",
     "text": [
      "/Users/nelsonaldanamartinez/opt/anaconda3/lib/python3.7/site-packages/xgboost/core.py:587: FutureWarning: Series.base is deprecated and will be removed in a future version\n",
      "  if getattr(data, 'base', None) is not None and \\\n"
     ]
    },
    {
     "name": "stdout",
     "output_type": "stream",
     "text": [
      "[13:22:40] WARNING: src/objective/regression_obj.cu:152: reg:linear is now deprecated in favor of reg:squarederror.\n"
     ]
    },
    {
     "name": "stderr",
     "output_type": "stream",
     "text": [
      "/Users/nelsonaldanamartinez/opt/anaconda3/lib/python3.7/site-packages/xgboost/core.py:587: FutureWarning: Series.base is deprecated and will be removed in a future version\n",
      "  if getattr(data, 'base', None) is not None and \\\n"
     ]
    },
    {
     "name": "stdout",
     "output_type": "stream",
     "text": [
      "[13:23:03] WARNING: src/objective/regression_obj.cu:152: reg:linear is now deprecated in favor of reg:squarederror.\n"
     ]
    },
    {
     "name": "stderr",
     "output_type": "stream",
     "text": [
      "/Users/nelsonaldanamartinez/opt/anaconda3/lib/python3.7/site-packages/xgboost/core.py:587: FutureWarning: Series.base is deprecated and will be removed in a future version\n",
      "  if getattr(data, 'base', None) is not None and \\\n"
     ]
    },
    {
     "name": "stdout",
     "output_type": "stream",
     "text": [
      "[13:23:25] WARNING: src/objective/regression_obj.cu:152: reg:linear is now deprecated in favor of reg:squarederror.\n"
     ]
    },
    {
     "name": "stderr",
     "output_type": "stream",
     "text": [
      "/Users/nelsonaldanamartinez/opt/anaconda3/lib/python3.7/site-packages/xgboost/core.py:587: FutureWarning: Series.base is deprecated and will be removed in a future version\n",
      "  if getattr(data, 'base', None) is not None and \\\n"
     ]
    },
    {
     "name": "stdout",
     "output_type": "stream",
     "text": [
      "[13:23:47] WARNING: src/objective/regression_obj.cu:152: reg:linear is now deprecated in favor of reg:squarederror.\n"
     ]
    },
    {
     "name": "stderr",
     "output_type": "stream",
     "text": [
      "/Users/nelsonaldanamartinez/opt/anaconda3/lib/python3.7/site-packages/xgboost/core.py:587: FutureWarning: Series.base is deprecated and will be removed in a future version\n",
      "  if getattr(data, 'base', None) is not None and \\\n"
     ]
    },
    {
     "name": "stdout",
     "output_type": "stream",
     "text": [
      "[13:24:10] WARNING: src/objective/regression_obj.cu:152: reg:linear is now deprecated in favor of reg:squarederror.\n"
     ]
    },
    {
     "name": "stderr",
     "output_type": "stream",
     "text": [
      "/Users/nelsonaldanamartinez/opt/anaconda3/lib/python3.7/site-packages/xgboost/core.py:587: FutureWarning: Series.base is deprecated and will be removed in a future version\n",
      "  if getattr(data, 'base', None) is not None and \\\n"
     ]
    },
    {
     "name": "stdout",
     "output_type": "stream",
     "text": [
      "[13:24:32] WARNING: src/objective/regression_obj.cu:152: reg:linear is now deprecated in favor of reg:squarederror.\n"
     ]
    },
    {
     "name": "stderr",
     "output_type": "stream",
     "text": [
      "/Users/nelsonaldanamartinez/opt/anaconda3/lib/python3.7/site-packages/xgboost/core.py:587: FutureWarning: Series.base is deprecated and will be removed in a future version\n",
      "  if getattr(data, 'base', None) is not None and \\\n"
     ]
    },
    {
     "name": "stdout",
     "output_type": "stream",
     "text": [
      "[13:24:54] WARNING: src/objective/regression_obj.cu:152: reg:linear is now deprecated in favor of reg:squarederror.\n"
     ]
    },
    {
     "name": "stderr",
     "output_type": "stream",
     "text": [
      "/Users/nelsonaldanamartinez/opt/anaconda3/lib/python3.7/site-packages/xgboost/core.py:587: FutureWarning: Series.base is deprecated and will be removed in a future version\n",
      "  if getattr(data, 'base', None) is not None and \\\n"
     ]
    },
    {
     "name": "stdout",
     "output_type": "stream",
     "text": [
      "[13:25:16] WARNING: src/objective/regression_obj.cu:152: reg:linear is now deprecated in favor of reg:squarederror.\n"
     ]
    },
    {
     "name": "stderr",
     "output_type": "stream",
     "text": [
      "/Users/nelsonaldanamartinez/opt/anaconda3/lib/python3.7/site-packages/xgboost/core.py:587: FutureWarning: Series.base is deprecated and will be removed in a future version\n",
      "  if getattr(data, 'base', None) is not None and \\\n"
     ]
    },
    {
     "name": "stdout",
     "output_type": "stream",
     "text": [
      "[13:25:38] WARNING: src/objective/regression_obj.cu:152: reg:linear is now deprecated in favor of reg:squarederror.\n"
     ]
    },
    {
     "name": "stderr",
     "output_type": "stream",
     "text": [
      "/Users/nelsonaldanamartinez/opt/anaconda3/lib/python3.7/site-packages/xgboost/core.py:587: FutureWarning: Series.base is deprecated and will be removed in a future version\n",
      "  if getattr(data, 'base', None) is not None and \\\n"
     ]
    },
    {
     "name": "stdout",
     "output_type": "stream",
     "text": [
      "[13:26:01] WARNING: src/objective/regression_obj.cu:152: reg:linear is now deprecated in favor of reg:squarederror.\n"
     ]
    },
    {
     "name": "stderr",
     "output_type": "stream",
     "text": [
      "/Users/nelsonaldanamartinez/opt/anaconda3/lib/python3.7/site-packages/xgboost/core.py:587: FutureWarning: Series.base is deprecated and will be removed in a future version\n",
      "  if getattr(data, 'base', None) is not None and \\\n"
     ]
    },
    {
     "name": "stdout",
     "output_type": "stream",
     "text": [
      "[13:26:23] WARNING: src/objective/regression_obj.cu:152: reg:linear is now deprecated in favor of reg:squarederror.\n"
     ]
    },
    {
     "name": "stderr",
     "output_type": "stream",
     "text": [
      "/Users/nelsonaldanamartinez/opt/anaconda3/lib/python3.7/site-packages/xgboost/core.py:587: FutureWarning: Series.base is deprecated and will be removed in a future version\n",
      "  if getattr(data, 'base', None) is not None and \\\n"
     ]
    },
    {
     "name": "stdout",
     "output_type": "stream",
     "text": [
      "[13:26:45] WARNING: src/objective/regression_obj.cu:152: reg:linear is now deprecated in favor of reg:squarederror.\n"
     ]
    },
    {
     "name": "stderr",
     "output_type": "stream",
     "text": [
      "/Users/nelsonaldanamartinez/opt/anaconda3/lib/python3.7/site-packages/xgboost/core.py:587: FutureWarning: Series.base is deprecated and will be removed in a future version\n",
      "  if getattr(data, 'base', None) is not None and \\\n"
     ]
    },
    {
     "name": "stdout",
     "output_type": "stream",
     "text": [
      "[13:27:07] WARNING: src/objective/regression_obj.cu:152: reg:linear is now deprecated in favor of reg:squarederror.\n"
     ]
    },
    {
     "name": "stderr",
     "output_type": "stream",
     "text": [
      "/Users/nelsonaldanamartinez/opt/anaconda3/lib/python3.7/site-packages/xgboost/core.py:587: FutureWarning: Series.base is deprecated and will be removed in a future version\n",
      "  if getattr(data, 'base', None) is not None and \\\n"
     ]
    },
    {
     "name": "stdout",
     "output_type": "stream",
     "text": [
      "[13:27:29] WARNING: src/objective/regression_obj.cu:152: reg:linear is now deprecated in favor of reg:squarederror.\n"
     ]
    },
    {
     "name": "stderr",
     "output_type": "stream",
     "text": [
      "/Users/nelsonaldanamartinez/opt/anaconda3/lib/python3.7/site-packages/xgboost/core.py:587: FutureWarning: Series.base is deprecated and will be removed in a future version\n",
      "  if getattr(data, 'base', None) is not None and \\\n"
     ]
    },
    {
     "name": "stdout",
     "output_type": "stream",
     "text": [
      "[13:27:52] WARNING: src/objective/regression_obj.cu:152: reg:linear is now deprecated in favor of reg:squarederror.\n"
     ]
    },
    {
     "name": "stderr",
     "output_type": "stream",
     "text": [
      "/Users/nelsonaldanamartinez/opt/anaconda3/lib/python3.7/site-packages/xgboost/core.py:587: FutureWarning: Series.base is deprecated and will be removed in a future version\n",
      "  if getattr(data, 'base', None) is not None and \\\n"
     ]
    },
    {
     "name": "stdout",
     "output_type": "stream",
     "text": [
      "[13:28:14] WARNING: src/objective/regression_obj.cu:152: reg:linear is now deprecated in favor of reg:squarederror.\n"
     ]
    },
    {
     "name": "stderr",
     "output_type": "stream",
     "text": [
      "/Users/nelsonaldanamartinez/opt/anaconda3/lib/python3.7/site-packages/xgboost/core.py:587: FutureWarning: Series.base is deprecated and will be removed in a future version\n",
      "  if getattr(data, 'base', None) is not None and \\\n"
     ]
    },
    {
     "name": "stdout",
     "output_type": "stream",
     "text": [
      "[13:28:36] WARNING: src/objective/regression_obj.cu:152: reg:linear is now deprecated in favor of reg:squarederror.\n"
     ]
    },
    {
     "name": "stderr",
     "output_type": "stream",
     "text": [
      "/Users/nelsonaldanamartinez/opt/anaconda3/lib/python3.7/site-packages/xgboost/core.py:587: FutureWarning: Series.base is deprecated and will be removed in a future version\n",
      "  if getattr(data, 'base', None) is not None and \\\n"
     ]
    },
    {
     "name": "stdout",
     "output_type": "stream",
     "text": [
      "[13:28:58] WARNING: src/objective/regression_obj.cu:152: reg:linear is now deprecated in favor of reg:squarederror.\n"
     ]
    },
    {
     "name": "stderr",
     "output_type": "stream",
     "text": [
      "/Users/nelsonaldanamartinez/opt/anaconda3/lib/python3.7/site-packages/xgboost/core.py:587: FutureWarning: Series.base is deprecated and will be removed in a future version\n",
      "  if getattr(data, 'base', None) is not None and \\\n"
     ]
    },
    {
     "name": "stdout",
     "output_type": "stream",
     "text": [
      "[13:29:20] WARNING: src/objective/regression_obj.cu:152: reg:linear is now deprecated in favor of reg:squarederror.\n"
     ]
    },
    {
     "name": "stderr",
     "output_type": "stream",
     "text": [
      "/Users/nelsonaldanamartinez/opt/anaconda3/lib/python3.7/site-packages/xgboost/core.py:587: FutureWarning: Series.base is deprecated and will be removed in a future version\n",
      "  if getattr(data, 'base', None) is not None and \\\n"
     ]
    },
    {
     "name": "stdout",
     "output_type": "stream",
     "text": [
      "[13:29:42] WARNING: src/objective/regression_obj.cu:152: reg:linear is now deprecated in favor of reg:squarederror.\n"
     ]
    },
    {
     "name": "stderr",
     "output_type": "stream",
     "text": [
      "/Users/nelsonaldanamartinez/opt/anaconda3/lib/python3.7/site-packages/xgboost/core.py:587: FutureWarning: Series.base is deprecated and will be removed in a future version\n",
      "  if getattr(data, 'base', None) is not None and \\\n"
     ]
    },
    {
     "name": "stdout",
     "output_type": "stream",
     "text": [
      "[13:30:05] WARNING: src/objective/regression_obj.cu:152: reg:linear is now deprecated in favor of reg:squarederror.\n"
     ]
    },
    {
     "name": "stderr",
     "output_type": "stream",
     "text": [
      "/Users/nelsonaldanamartinez/opt/anaconda3/lib/python3.7/site-packages/xgboost/core.py:587: FutureWarning: Series.base is deprecated and will be removed in a future version\n",
      "  if getattr(data, 'base', None) is not None and \\\n"
     ]
    },
    {
     "name": "stdout",
     "output_type": "stream",
     "text": [
      "[13:30:27] WARNING: src/objective/regression_obj.cu:152: reg:linear is now deprecated in favor of reg:squarederror.\n"
     ]
    },
    {
     "name": "stderr",
     "output_type": "stream",
     "text": [
      "/Users/nelsonaldanamartinez/opt/anaconda3/lib/python3.7/site-packages/xgboost/core.py:587: FutureWarning: Series.base is deprecated and will be removed in a future version\n",
      "  if getattr(data, 'base', None) is not None and \\\n"
     ]
    },
    {
     "name": "stdout",
     "output_type": "stream",
     "text": [
      "[13:30:50] WARNING: src/objective/regression_obj.cu:152: reg:linear is now deprecated in favor of reg:squarederror.\n"
     ]
    },
    {
     "name": "stderr",
     "output_type": "stream",
     "text": [
      "/Users/nelsonaldanamartinez/opt/anaconda3/lib/python3.7/site-packages/xgboost/core.py:587: FutureWarning: Series.base is deprecated and will be removed in a future version\n",
      "  if getattr(data, 'base', None) is not None and \\\n"
     ]
    },
    {
     "name": "stdout",
     "output_type": "stream",
     "text": [
      "[13:31:15] WARNING: src/objective/regression_obj.cu:152: reg:linear is now deprecated in favor of reg:squarederror.\n"
     ]
    },
    {
     "name": "stderr",
     "output_type": "stream",
     "text": [
      "/Users/nelsonaldanamartinez/opt/anaconda3/lib/python3.7/site-packages/xgboost/core.py:587: FutureWarning: Series.base is deprecated and will be removed in a future version\n",
      "  if getattr(data, 'base', None) is not None and \\\n"
     ]
    },
    {
     "name": "stdout",
     "output_type": "stream",
     "text": [
      "[13:31:40] WARNING: src/objective/regression_obj.cu:152: reg:linear is now deprecated in favor of reg:squarederror.\n"
     ]
    },
    {
     "name": "stderr",
     "output_type": "stream",
     "text": [
      "/Users/nelsonaldanamartinez/opt/anaconda3/lib/python3.7/site-packages/xgboost/core.py:587: FutureWarning: Series.base is deprecated and will be removed in a future version\n",
      "  if getattr(data, 'base', None) is not None and \\\n"
     ]
    },
    {
     "name": "stdout",
     "output_type": "stream",
     "text": [
      "[13:32:05] WARNING: src/objective/regression_obj.cu:152: reg:linear is now deprecated in favor of reg:squarederror.\n"
     ]
    },
    {
     "name": "stderr",
     "output_type": "stream",
     "text": [
      "/Users/nelsonaldanamartinez/opt/anaconda3/lib/python3.7/site-packages/xgboost/core.py:587: FutureWarning: Series.base is deprecated and will be removed in a future version\n",
      "  if getattr(data, 'base', None) is not None and \\\n"
     ]
    },
    {
     "name": "stdout",
     "output_type": "stream",
     "text": [
      "[13:32:30] WARNING: src/objective/regression_obj.cu:152: reg:linear is now deprecated in favor of reg:squarederror.\n"
     ]
    },
    {
     "name": "stderr",
     "output_type": "stream",
     "text": [
      "/Users/nelsonaldanamartinez/opt/anaconda3/lib/python3.7/site-packages/xgboost/core.py:587: FutureWarning: Series.base is deprecated and will be removed in a future version\n",
      "  if getattr(data, 'base', None) is not None and \\\n"
     ]
    },
    {
     "name": "stdout",
     "output_type": "stream",
     "text": [
      "[13:32:55] WARNING: src/objective/regression_obj.cu:152: reg:linear is now deprecated in favor of reg:squarederror.\n"
     ]
    },
    {
     "name": "stderr",
     "output_type": "stream",
     "text": [
      "/Users/nelsonaldanamartinez/opt/anaconda3/lib/python3.7/site-packages/xgboost/core.py:587: FutureWarning: Series.base is deprecated and will be removed in a future version\n",
      "  if getattr(data, 'base', None) is not None and \\\n"
     ]
    },
    {
     "name": "stdout",
     "output_type": "stream",
     "text": [
      "[13:33:20] WARNING: src/objective/regression_obj.cu:152: reg:linear is now deprecated in favor of reg:squarederror.\n"
     ]
    },
    {
     "name": "stderr",
     "output_type": "stream",
     "text": [
      "/Users/nelsonaldanamartinez/opt/anaconda3/lib/python3.7/site-packages/xgboost/core.py:587: FutureWarning: Series.base is deprecated and will be removed in a future version\n",
      "  if getattr(data, 'base', None) is not None and \\\n"
     ]
    },
    {
     "name": "stdout",
     "output_type": "stream",
     "text": [
      "[13:33:45] WARNING: src/objective/regression_obj.cu:152: reg:linear is now deprecated in favor of reg:squarederror.\n"
     ]
    },
    {
     "name": "stderr",
     "output_type": "stream",
     "text": [
      "/Users/nelsonaldanamartinez/opt/anaconda3/lib/python3.7/site-packages/xgboost/core.py:587: FutureWarning: Series.base is deprecated and will be removed in a future version\n",
      "  if getattr(data, 'base', None) is not None and \\\n"
     ]
    },
    {
     "name": "stdout",
     "output_type": "stream",
     "text": [
      "[13:34:11] WARNING: src/objective/regression_obj.cu:152: reg:linear is now deprecated in favor of reg:squarederror.\n"
     ]
    },
    {
     "name": "stderr",
     "output_type": "stream",
     "text": [
      "/Users/nelsonaldanamartinez/opt/anaconda3/lib/python3.7/site-packages/xgboost/core.py:587: FutureWarning: Series.base is deprecated and will be removed in a future version\n",
      "  if getattr(data, 'base', None) is not None and \\\n"
     ]
    },
    {
     "name": "stdout",
     "output_type": "stream",
     "text": [
      "[13:34:36] WARNING: src/objective/regression_obj.cu:152: reg:linear is now deprecated in favor of reg:squarederror.\n"
     ]
    },
    {
     "name": "stderr",
     "output_type": "stream",
     "text": [
      "/Users/nelsonaldanamartinez/opt/anaconda3/lib/python3.7/site-packages/xgboost/core.py:587: FutureWarning: Series.base is deprecated and will be removed in a future version\n",
      "  if getattr(data, 'base', None) is not None and \\\n"
     ]
    },
    {
     "name": "stdout",
     "output_type": "stream",
     "text": [
      "[13:35:01] WARNING: src/objective/regression_obj.cu:152: reg:linear is now deprecated in favor of reg:squarederror.\n"
     ]
    },
    {
     "name": "stderr",
     "output_type": "stream",
     "text": [
      "/Users/nelsonaldanamartinez/opt/anaconda3/lib/python3.7/site-packages/xgboost/core.py:587: FutureWarning: Series.base is deprecated and will be removed in a future version\n",
      "  if getattr(data, 'base', None) is not None and \\\n"
     ]
    },
    {
     "name": "stdout",
     "output_type": "stream",
     "text": [
      "[13:35:26] WARNING: src/objective/regression_obj.cu:152: reg:linear is now deprecated in favor of reg:squarederror.\n"
     ]
    },
    {
     "name": "stderr",
     "output_type": "stream",
     "text": [
      "/Users/nelsonaldanamartinez/opt/anaconda3/lib/python3.7/site-packages/xgboost/core.py:587: FutureWarning: Series.base is deprecated and will be removed in a future version\n",
      "  if getattr(data, 'base', None) is not None and \\\n"
     ]
    },
    {
     "name": "stdout",
     "output_type": "stream",
     "text": [
      "[13:35:51] WARNING: src/objective/regression_obj.cu:152: reg:linear is now deprecated in favor of reg:squarederror.\n"
     ]
    },
    {
     "name": "stderr",
     "output_type": "stream",
     "text": [
      "/Users/nelsonaldanamartinez/opt/anaconda3/lib/python3.7/site-packages/xgboost/core.py:587: FutureWarning: Series.base is deprecated and will be removed in a future version\n",
      "  if getattr(data, 'base', None) is not None and \\\n"
     ]
    },
    {
     "name": "stdout",
     "output_type": "stream",
     "text": [
      "[13:36:16] WARNING: src/objective/regression_obj.cu:152: reg:linear is now deprecated in favor of reg:squarederror.\n"
     ]
    },
    {
     "name": "stderr",
     "output_type": "stream",
     "text": [
      "/Users/nelsonaldanamartinez/opt/anaconda3/lib/python3.7/site-packages/xgboost/core.py:587: FutureWarning: Series.base is deprecated and will be removed in a future version\n",
      "  if getattr(data, 'base', None) is not None and \\\n"
     ]
    },
    {
     "name": "stdout",
     "output_type": "stream",
     "text": [
      "[13:36:40] WARNING: src/objective/regression_obj.cu:152: reg:linear is now deprecated in favor of reg:squarederror.\n"
     ]
    },
    {
     "name": "stderr",
     "output_type": "stream",
     "text": [
      "/Users/nelsonaldanamartinez/opt/anaconda3/lib/python3.7/site-packages/xgboost/core.py:587: FutureWarning: Series.base is deprecated and will be removed in a future version\n",
      "  if getattr(data, 'base', None) is not None and \\\n"
     ]
    },
    {
     "name": "stdout",
     "output_type": "stream",
     "text": [
      "[13:37:06] WARNING: src/objective/regression_obj.cu:152: reg:linear is now deprecated in favor of reg:squarederror.\n"
     ]
    },
    {
     "name": "stderr",
     "output_type": "stream",
     "text": [
      "/Users/nelsonaldanamartinez/opt/anaconda3/lib/python3.7/site-packages/xgboost/core.py:587: FutureWarning: Series.base is deprecated and will be removed in a future version\n",
      "  if getattr(data, 'base', None) is not None and \\\n"
     ]
    },
    {
     "name": "stdout",
     "output_type": "stream",
     "text": [
      "[13:37:32] WARNING: src/objective/regression_obj.cu:152: reg:linear is now deprecated in favor of reg:squarederror.\n"
     ]
    },
    {
     "name": "stderr",
     "output_type": "stream",
     "text": [
      "/Users/nelsonaldanamartinez/opt/anaconda3/lib/python3.7/site-packages/xgboost/core.py:587: FutureWarning: Series.base is deprecated and will be removed in a future version\n",
      "  if getattr(data, 'base', None) is not None and \\\n"
     ]
    },
    {
     "name": "stdout",
     "output_type": "stream",
     "text": [
      "[13:37:57] WARNING: src/objective/regression_obj.cu:152: reg:linear is now deprecated in favor of reg:squarederror.\n"
     ]
    },
    {
     "name": "stderr",
     "output_type": "stream",
     "text": [
      "/Users/nelsonaldanamartinez/opt/anaconda3/lib/python3.7/site-packages/xgboost/core.py:587: FutureWarning: Series.base is deprecated and will be removed in a future version\n",
      "  if getattr(data, 'base', None) is not None and \\\n"
     ]
    },
    {
     "name": "stdout",
     "output_type": "stream",
     "text": [
      "[13:38:23] WARNING: src/objective/regression_obj.cu:152: reg:linear is now deprecated in favor of reg:squarederror.\n"
     ]
    },
    {
     "name": "stderr",
     "output_type": "stream",
     "text": [
      "/Users/nelsonaldanamartinez/opt/anaconda3/lib/python3.7/site-packages/xgboost/core.py:587: FutureWarning: Series.base is deprecated and will be removed in a future version\n",
      "  if getattr(data, 'base', None) is not None and \\\n"
     ]
    },
    {
     "name": "stdout",
     "output_type": "stream",
     "text": [
      "[13:38:48] WARNING: src/objective/regression_obj.cu:152: reg:linear is now deprecated in favor of reg:squarederror.\n"
     ]
    },
    {
     "name": "stderr",
     "output_type": "stream",
     "text": [
      "/Users/nelsonaldanamartinez/opt/anaconda3/lib/python3.7/site-packages/xgboost/core.py:587: FutureWarning: Series.base is deprecated and will be removed in a future version\n",
      "  if getattr(data, 'base', None) is not None and \\\n"
     ]
    },
    {
     "name": "stdout",
     "output_type": "stream",
     "text": [
      "[13:39:12] WARNING: src/objective/regression_obj.cu:152: reg:linear is now deprecated in favor of reg:squarederror.\n"
     ]
    },
    {
     "name": "stderr",
     "output_type": "stream",
     "text": [
      "/Users/nelsonaldanamartinez/opt/anaconda3/lib/python3.7/site-packages/xgboost/core.py:587: FutureWarning: Series.base is deprecated and will be removed in a future version\n",
      "  if getattr(data, 'base', None) is not None and \\\n"
     ]
    },
    {
     "name": "stdout",
     "output_type": "stream",
     "text": [
      "[13:39:38] WARNING: src/objective/regression_obj.cu:152: reg:linear is now deprecated in favor of reg:squarederror.\n"
     ]
    },
    {
     "name": "stderr",
     "output_type": "stream",
     "text": [
      "/Users/nelsonaldanamartinez/opt/anaconda3/lib/python3.7/site-packages/xgboost/core.py:587: FutureWarning: Series.base is deprecated and will be removed in a future version\n",
      "  if getattr(data, 'base', None) is not None and \\\n"
     ]
    },
    {
     "name": "stdout",
     "output_type": "stream",
     "text": [
      "[13:40:03] WARNING: src/objective/regression_obj.cu:152: reg:linear is now deprecated in favor of reg:squarederror.\n"
     ]
    },
    {
     "name": "stderr",
     "output_type": "stream",
     "text": [
      "/Users/nelsonaldanamartinez/opt/anaconda3/lib/python3.7/site-packages/xgboost/core.py:587: FutureWarning: Series.base is deprecated and will be removed in a future version\n",
      "  if getattr(data, 'base', None) is not None and \\\n"
     ]
    },
    {
     "name": "stdout",
     "output_type": "stream",
     "text": [
      "[13:40:29] WARNING: src/objective/regression_obj.cu:152: reg:linear is now deprecated in favor of reg:squarederror.\n"
     ]
    },
    {
     "name": "stderr",
     "output_type": "stream",
     "text": [
      "/Users/nelsonaldanamartinez/opt/anaconda3/lib/python3.7/site-packages/xgboost/core.py:587: FutureWarning: Series.base is deprecated and will be removed in a future version\n",
      "  if getattr(data, 'base', None) is not None and \\\n"
     ]
    },
    {
     "name": "stdout",
     "output_type": "stream",
     "text": [
      "[13:40:54] WARNING: src/objective/regression_obj.cu:152: reg:linear is now deprecated in favor of reg:squarederror.\n"
     ]
    },
    {
     "name": "stderr",
     "output_type": "stream",
     "text": [
      "/Users/nelsonaldanamartinez/opt/anaconda3/lib/python3.7/site-packages/xgboost/core.py:587: FutureWarning: Series.base is deprecated and will be removed in a future version\n",
      "  if getattr(data, 'base', None) is not None and \\\n"
     ]
    },
    {
     "name": "stdout",
     "output_type": "stream",
     "text": [
      "[13:41:20] WARNING: src/objective/regression_obj.cu:152: reg:linear is now deprecated in favor of reg:squarederror.\n"
     ]
    },
    {
     "name": "stderr",
     "output_type": "stream",
     "text": [
      "/Users/nelsonaldanamartinez/opt/anaconda3/lib/python3.7/site-packages/xgboost/core.py:587: FutureWarning: Series.base is deprecated and will be removed in a future version\n",
      "  if getattr(data, 'base', None) is not None and \\\n"
     ]
    },
    {
     "name": "stdout",
     "output_type": "stream",
     "text": [
      "[13:41:45] WARNING: src/objective/regression_obj.cu:152: reg:linear is now deprecated in favor of reg:squarederror.\n"
     ]
    },
    {
     "name": "stderr",
     "output_type": "stream",
     "text": [
      "/Users/nelsonaldanamartinez/opt/anaconda3/lib/python3.7/site-packages/xgboost/core.py:587: FutureWarning: Series.base is deprecated and will be removed in a future version\n",
      "  if getattr(data, 'base', None) is not None and \\\n"
     ]
    },
    {
     "name": "stdout",
     "output_type": "stream",
     "text": [
      "[13:42:11] WARNING: src/objective/regression_obj.cu:152: reg:linear is now deprecated in favor of reg:squarederror.\n"
     ]
    },
    {
     "name": "stderr",
     "output_type": "stream",
     "text": [
      "/Users/nelsonaldanamartinez/opt/anaconda3/lib/python3.7/site-packages/xgboost/core.py:587: FutureWarning: Series.base is deprecated and will be removed in a future version\n",
      "  if getattr(data, 'base', None) is not None and \\\n"
     ]
    },
    {
     "name": "stdout",
     "output_type": "stream",
     "text": [
      "[13:42:37] WARNING: src/objective/regression_obj.cu:152: reg:linear is now deprecated in favor of reg:squarederror.\n"
     ]
    },
    {
     "name": "stderr",
     "output_type": "stream",
     "text": [
      "/Users/nelsonaldanamartinez/opt/anaconda3/lib/python3.7/site-packages/xgboost/core.py:587: FutureWarning: Series.base is deprecated and will be removed in a future version\n",
      "  if getattr(data, 'base', None) is not None and \\\n"
     ]
    },
    {
     "name": "stdout",
     "output_type": "stream",
     "text": [
      "[13:43:03] WARNING: src/objective/regression_obj.cu:152: reg:linear is now deprecated in favor of reg:squarederror.\n"
     ]
    },
    {
     "name": "stderr",
     "output_type": "stream",
     "text": [
      "/Users/nelsonaldanamartinez/opt/anaconda3/lib/python3.7/site-packages/xgboost/core.py:587: FutureWarning: Series.base is deprecated and will be removed in a future version\n",
      "  if getattr(data, 'base', None) is not None and \\\n"
     ]
    },
    {
     "name": "stdout",
     "output_type": "stream",
     "text": [
      "[13:43:29] WARNING: src/objective/regression_obj.cu:152: reg:linear is now deprecated in favor of reg:squarederror.\n"
     ]
    },
    {
     "name": "stderr",
     "output_type": "stream",
     "text": [
      "/Users/nelsonaldanamartinez/opt/anaconda3/lib/python3.7/site-packages/xgboost/core.py:587: FutureWarning: Series.base is deprecated and will be removed in a future version\n",
      "  if getattr(data, 'base', None) is not None and \\\n"
     ]
    },
    {
     "name": "stdout",
     "output_type": "stream",
     "text": [
      "[13:43:54] WARNING: src/objective/regression_obj.cu:152: reg:linear is now deprecated in favor of reg:squarederror.\n"
     ]
    },
    {
     "name": "stderr",
     "output_type": "stream",
     "text": [
      "/Users/nelsonaldanamartinez/opt/anaconda3/lib/python3.7/site-packages/xgboost/core.py:587: FutureWarning: Series.base is deprecated and will be removed in a future version\n",
      "  if getattr(data, 'base', None) is not None and \\\n"
     ]
    },
    {
     "name": "stdout",
     "output_type": "stream",
     "text": [
      "[13:44:19] WARNING: src/objective/regression_obj.cu:152: reg:linear is now deprecated in favor of reg:squarederror.\n"
     ]
    },
    {
     "name": "stderr",
     "output_type": "stream",
     "text": [
      "/Users/nelsonaldanamartinez/opt/anaconda3/lib/python3.7/site-packages/xgboost/core.py:587: FutureWarning: Series.base is deprecated and will be removed in a future version\n",
      "  if getattr(data, 'base', None) is not None and \\\n"
     ]
    },
    {
     "name": "stdout",
     "output_type": "stream",
     "text": [
      "[13:44:45] WARNING: src/objective/regression_obj.cu:152: reg:linear is now deprecated in favor of reg:squarederror.\n"
     ]
    },
    {
     "name": "stderr",
     "output_type": "stream",
     "text": [
      "/Users/nelsonaldanamartinez/opt/anaconda3/lib/python3.7/site-packages/xgboost/core.py:587: FutureWarning: Series.base is deprecated and will be removed in a future version\n",
      "  if getattr(data, 'base', None) is not None and \\\n"
     ]
    },
    {
     "name": "stdout",
     "output_type": "stream",
     "text": [
      "[13:45:10] WARNING: src/objective/regression_obj.cu:152: reg:linear is now deprecated in favor of reg:squarederror.\n"
     ]
    },
    {
     "name": "stderr",
     "output_type": "stream",
     "text": [
      "/Users/nelsonaldanamartinez/opt/anaconda3/lib/python3.7/site-packages/xgboost/core.py:587: FutureWarning: Series.base is deprecated and will be removed in a future version\n",
      "  if getattr(data, 'base', None) is not None and \\\n"
     ]
    },
    {
     "name": "stdout",
     "output_type": "stream",
     "text": [
      "[13:45:36] WARNING: src/objective/regression_obj.cu:152: reg:linear is now deprecated in favor of reg:squarederror.\n"
     ]
    },
    {
     "name": "stderr",
     "output_type": "stream",
     "text": [
      "/Users/nelsonaldanamartinez/opt/anaconda3/lib/python3.7/site-packages/xgboost/core.py:587: FutureWarning: Series.base is deprecated and will be removed in a future version\n",
      "  if getattr(data, 'base', None) is not None and \\\n"
     ]
    },
    {
     "name": "stdout",
     "output_type": "stream",
     "text": [
      "[13:46:02] WARNING: src/objective/regression_obj.cu:152: reg:linear is now deprecated in favor of reg:squarederror.\n"
     ]
    },
    {
     "name": "stderr",
     "output_type": "stream",
     "text": [
      "/Users/nelsonaldanamartinez/opt/anaconda3/lib/python3.7/site-packages/xgboost/core.py:587: FutureWarning: Series.base is deprecated and will be removed in a future version\n",
      "  if getattr(data, 'base', None) is not None and \\\n"
     ]
    },
    {
     "name": "stdout",
     "output_type": "stream",
     "text": [
      "[13:46:28] WARNING: src/objective/regression_obj.cu:152: reg:linear is now deprecated in favor of reg:squarederror.\n"
     ]
    },
    {
     "name": "stderr",
     "output_type": "stream",
     "text": [
      "/Users/nelsonaldanamartinez/opt/anaconda3/lib/python3.7/site-packages/xgboost/core.py:587: FutureWarning: Series.base is deprecated and will be removed in a future version\n",
      "  if getattr(data, 'base', None) is not None and \\\n"
     ]
    },
    {
     "name": "stdout",
     "output_type": "stream",
     "text": [
      "[13:46:54] WARNING: src/objective/regression_obj.cu:152: reg:linear is now deprecated in favor of reg:squarederror.\n"
     ]
    },
    {
     "name": "stderr",
     "output_type": "stream",
     "text": [
      "/Users/nelsonaldanamartinez/opt/anaconda3/lib/python3.7/site-packages/xgboost/core.py:587: FutureWarning: Series.base is deprecated and will be removed in a future version\n",
      "  if getattr(data, 'base', None) is not None and \\\n"
     ]
    },
    {
     "name": "stdout",
     "output_type": "stream",
     "text": [
      "[13:47:20] WARNING: src/objective/regression_obj.cu:152: reg:linear is now deprecated in favor of reg:squarederror.\n"
     ]
    },
    {
     "name": "stderr",
     "output_type": "stream",
     "text": [
      "/Users/nelsonaldanamartinez/opt/anaconda3/lib/python3.7/site-packages/xgboost/core.py:587: FutureWarning: Series.base is deprecated and will be removed in a future version\n",
      "  if getattr(data, 'base', None) is not None and \\\n"
     ]
    },
    {
     "name": "stdout",
     "output_type": "stream",
     "text": [
      "[13:47:45] WARNING: src/objective/regression_obj.cu:152: reg:linear is now deprecated in favor of reg:squarederror.\n"
     ]
    },
    {
     "name": "stderr",
     "output_type": "stream",
     "text": [
      "/Users/nelsonaldanamartinez/opt/anaconda3/lib/python3.7/site-packages/xgboost/core.py:587: FutureWarning: Series.base is deprecated and will be removed in a future version\n",
      "  if getattr(data, 'base', None) is not None and \\\n"
     ]
    },
    {
     "name": "stdout",
     "output_type": "stream",
     "text": [
      "[13:48:12] WARNING: src/objective/regression_obj.cu:152: reg:linear is now deprecated in favor of reg:squarederror.\n"
     ]
    },
    {
     "name": "stderr",
     "output_type": "stream",
     "text": [
      "/Users/nelsonaldanamartinez/opt/anaconda3/lib/python3.7/site-packages/xgboost/core.py:587: FutureWarning: Series.base is deprecated and will be removed in a future version\n",
      "  if getattr(data, 'base', None) is not None and \\\n"
     ]
    },
    {
     "name": "stdout",
     "output_type": "stream",
     "text": [
      "[13:48:38] WARNING: src/objective/regression_obj.cu:152: reg:linear is now deprecated in favor of reg:squarederror.\n"
     ]
    },
    {
     "name": "stderr",
     "output_type": "stream",
     "text": [
      "/Users/nelsonaldanamartinez/opt/anaconda3/lib/python3.7/site-packages/xgboost/core.py:587: FutureWarning: Series.base is deprecated and will be removed in a future version\n",
      "  if getattr(data, 'base', None) is not None and \\\n"
     ]
    },
    {
     "name": "stdout",
     "output_type": "stream",
     "text": [
      "[13:49:03] WARNING: src/objective/regression_obj.cu:152: reg:linear is now deprecated in favor of reg:squarederror.\n"
     ]
    },
    {
     "name": "stderr",
     "output_type": "stream",
     "text": [
      "/Users/nelsonaldanamartinez/opt/anaconda3/lib/python3.7/site-packages/xgboost/core.py:587: FutureWarning: Series.base is deprecated and will be removed in a future version\n",
      "  if getattr(data, 'base', None) is not None and \\\n"
     ]
    },
    {
     "name": "stdout",
     "output_type": "stream",
     "text": [
      "[13:49:28] WARNING: src/objective/regression_obj.cu:152: reg:linear is now deprecated in favor of reg:squarederror.\n"
     ]
    },
    {
     "name": "stderr",
     "output_type": "stream",
     "text": [
      "/Users/nelsonaldanamartinez/opt/anaconda3/lib/python3.7/site-packages/xgboost/core.py:587: FutureWarning: Series.base is deprecated and will be removed in a future version\n",
      "  if getattr(data, 'base', None) is not None and \\\n"
     ]
    },
    {
     "name": "stdout",
     "output_type": "stream",
     "text": [
      "[13:49:53] WARNING: src/objective/regression_obj.cu:152: reg:linear is now deprecated in favor of reg:squarederror.\n"
     ]
    },
    {
     "name": "stderr",
     "output_type": "stream",
     "text": [
      "/Users/nelsonaldanamartinez/opt/anaconda3/lib/python3.7/site-packages/xgboost/core.py:587: FutureWarning: Series.base is deprecated and will be removed in a future version\n",
      "  if getattr(data, 'base', None) is not None and \\\n"
     ]
    },
    {
     "name": "stdout",
     "output_type": "stream",
     "text": [
      "[13:50:18] WARNING: src/objective/regression_obj.cu:152: reg:linear is now deprecated in favor of reg:squarederror.\n"
     ]
    },
    {
     "name": "stderr",
     "output_type": "stream",
     "text": [
      "/Users/nelsonaldanamartinez/opt/anaconda3/lib/python3.7/site-packages/xgboost/core.py:587: FutureWarning: Series.base is deprecated and will be removed in a future version\n",
      "  if getattr(data, 'base', None) is not None and \\\n"
     ]
    },
    {
     "name": "stdout",
     "output_type": "stream",
     "text": [
      "[13:50:43] WARNING: src/objective/regression_obj.cu:152: reg:linear is now deprecated in favor of reg:squarederror.\n"
     ]
    },
    {
     "name": "stderr",
     "output_type": "stream",
     "text": [
      "/Users/nelsonaldanamartinez/opt/anaconda3/lib/python3.7/site-packages/xgboost/core.py:587: FutureWarning: Series.base is deprecated and will be removed in a future version\n",
      "  if getattr(data, 'base', None) is not None and \\\n"
     ]
    },
    {
     "name": "stdout",
     "output_type": "stream",
     "text": [
      "[13:51:07] WARNING: src/objective/regression_obj.cu:152: reg:linear is now deprecated in favor of reg:squarederror.\n"
     ]
    },
    {
     "name": "stderr",
     "output_type": "stream",
     "text": [
      "/Users/nelsonaldanamartinez/opt/anaconda3/lib/python3.7/site-packages/xgboost/core.py:587: FutureWarning: Series.base is deprecated and will be removed in a future version\n",
      "  if getattr(data, 'base', None) is not None and \\\n"
     ]
    },
    {
     "name": "stdout",
     "output_type": "stream",
     "text": [
      "[13:51:33] WARNING: src/objective/regression_obj.cu:152: reg:linear is now deprecated in favor of reg:squarederror.\n"
     ]
    },
    {
     "name": "stderr",
     "output_type": "stream",
     "text": [
      "/Users/nelsonaldanamartinez/opt/anaconda3/lib/python3.7/site-packages/xgboost/core.py:587: FutureWarning: Series.base is deprecated and will be removed in a future version\n",
      "  if getattr(data, 'base', None) is not None and \\\n"
     ]
    },
    {
     "name": "stdout",
     "output_type": "stream",
     "text": [
      "[13:51:58] WARNING: src/objective/regression_obj.cu:152: reg:linear is now deprecated in favor of reg:squarederror.\n"
     ]
    },
    {
     "name": "stderr",
     "output_type": "stream",
     "text": [
      "/Users/nelsonaldanamartinez/opt/anaconda3/lib/python3.7/site-packages/xgboost/core.py:587: FutureWarning: Series.base is deprecated and will be removed in a future version\n",
      "  if getattr(data, 'base', None) is not None and \\\n"
     ]
    },
    {
     "name": "stdout",
     "output_type": "stream",
     "text": [
      "[13:52:24] WARNING: src/objective/regression_obj.cu:152: reg:linear is now deprecated in favor of reg:squarederror.\n"
     ]
    },
    {
     "name": "stderr",
     "output_type": "stream",
     "text": [
      "/Users/nelsonaldanamartinez/opt/anaconda3/lib/python3.7/site-packages/xgboost/core.py:587: FutureWarning: Series.base is deprecated and will be removed in a future version\n",
      "  if getattr(data, 'base', None) is not None and \\\n"
     ]
    },
    {
     "name": "stdout",
     "output_type": "stream",
     "text": [
      "[13:52:49] WARNING: src/objective/regression_obj.cu:152: reg:linear is now deprecated in favor of reg:squarederror.\n"
     ]
    },
    {
     "name": "stderr",
     "output_type": "stream",
     "text": [
      "/Users/nelsonaldanamartinez/opt/anaconda3/lib/python3.7/site-packages/xgboost/core.py:587: FutureWarning: Series.base is deprecated and will be removed in a future version\n",
      "  if getattr(data, 'base', None) is not None and \\\n"
     ]
    },
    {
     "name": "stdout",
     "output_type": "stream",
     "text": [
      "[13:53:15] WARNING: src/objective/regression_obj.cu:152: reg:linear is now deprecated in favor of reg:squarederror.\n"
     ]
    },
    {
     "name": "stderr",
     "output_type": "stream",
     "text": [
      "/Users/nelsonaldanamartinez/opt/anaconda3/lib/python3.7/site-packages/xgboost/core.py:587: FutureWarning: Series.base is deprecated and will be removed in a future version\n",
      "  if getattr(data, 'base', None) is not None and \\\n"
     ]
    },
    {
     "name": "stdout",
     "output_type": "stream",
     "text": [
      "[13:53:40] WARNING: src/objective/regression_obj.cu:152: reg:linear is now deprecated in favor of reg:squarederror.\n"
     ]
    },
    {
     "name": "stderr",
     "output_type": "stream",
     "text": [
      "/Users/nelsonaldanamartinez/opt/anaconda3/lib/python3.7/site-packages/xgboost/core.py:587: FutureWarning: Series.base is deprecated and will be removed in a future version\n",
      "  if getattr(data, 'base', None) is not None and \\\n"
     ]
    },
    {
     "name": "stdout",
     "output_type": "stream",
     "text": [
      "[13:54:06] WARNING: src/objective/regression_obj.cu:152: reg:linear is now deprecated in favor of reg:squarederror.\n"
     ]
    },
    {
     "name": "stderr",
     "output_type": "stream",
     "text": [
      "/Users/nelsonaldanamartinez/opt/anaconda3/lib/python3.7/site-packages/xgboost/core.py:587: FutureWarning: Series.base is deprecated and will be removed in a future version\n",
      "  if getattr(data, 'base', None) is not None and \\\n"
     ]
    },
    {
     "name": "stdout",
     "output_type": "stream",
     "text": [
      "[13:54:32] WARNING: src/objective/regression_obj.cu:152: reg:linear is now deprecated in favor of reg:squarederror.\n"
     ]
    },
    {
     "name": "stderr",
     "output_type": "stream",
     "text": [
      "/Users/nelsonaldanamartinez/opt/anaconda3/lib/python3.7/site-packages/xgboost/core.py:587: FutureWarning: Series.base is deprecated and will be removed in a future version\n",
      "  if getattr(data, 'base', None) is not None and \\\n"
     ]
    },
    {
     "name": "stdout",
     "output_type": "stream",
     "text": [
      "[13:54:57] WARNING: src/objective/regression_obj.cu:152: reg:linear is now deprecated in favor of reg:squarederror.\n"
     ]
    },
    {
     "name": "stderr",
     "output_type": "stream",
     "text": [
      "/Users/nelsonaldanamartinez/opt/anaconda3/lib/python3.7/site-packages/xgboost/core.py:587: FutureWarning: Series.base is deprecated and will be removed in a future version\n",
      "  if getattr(data, 'base', None) is not None and \\\n"
     ]
    },
    {
     "name": "stdout",
     "output_type": "stream",
     "text": [
      "[13:55:23] WARNING: src/objective/regression_obj.cu:152: reg:linear is now deprecated in favor of reg:squarederror.\n"
     ]
    },
    {
     "name": "stderr",
     "output_type": "stream",
     "text": [
      "/Users/nelsonaldanamartinez/opt/anaconda3/lib/python3.7/site-packages/xgboost/core.py:587: FutureWarning: Series.base is deprecated and will be removed in a future version\n",
      "  if getattr(data, 'base', None) is not None and \\\n"
     ]
    },
    {
     "name": "stdout",
     "output_type": "stream",
     "text": [
      "[13:55:48] WARNING: src/objective/regression_obj.cu:152: reg:linear is now deprecated in favor of reg:squarederror.\n"
     ]
    },
    {
     "name": "stderr",
     "output_type": "stream",
     "text": [
      "/Users/nelsonaldanamartinez/opt/anaconda3/lib/python3.7/site-packages/xgboost/core.py:587: FutureWarning: Series.base is deprecated and will be removed in a future version\n",
      "  if getattr(data, 'base', None) is not None and \\\n"
     ]
    },
    {
     "name": "stdout",
     "output_type": "stream",
     "text": [
      "[13:56:15] WARNING: src/objective/regression_obj.cu:152: reg:linear is now deprecated in favor of reg:squarederror.\n"
     ]
    },
    {
     "name": "stderr",
     "output_type": "stream",
     "text": [
      "/Users/nelsonaldanamartinez/opt/anaconda3/lib/python3.7/site-packages/xgboost/core.py:587: FutureWarning: Series.base is deprecated and will be removed in a future version\n",
      "  if getattr(data, 'base', None) is not None and \\\n"
     ]
    },
    {
     "name": "stdout",
     "output_type": "stream",
     "text": [
      "[13:56:45] WARNING: src/objective/regression_obj.cu:152: reg:linear is now deprecated in favor of reg:squarederror.\n"
     ]
    },
    {
     "name": "stderr",
     "output_type": "stream",
     "text": [
      "/Users/nelsonaldanamartinez/opt/anaconda3/lib/python3.7/site-packages/xgboost/core.py:587: FutureWarning: Series.base is deprecated and will be removed in a future version\n",
      "  if getattr(data, 'base', None) is not None and \\\n"
     ]
    },
    {
     "name": "stdout",
     "output_type": "stream",
     "text": [
      "[13:57:14] WARNING: src/objective/regression_obj.cu:152: reg:linear is now deprecated in favor of reg:squarederror.\n"
     ]
    },
    {
     "name": "stderr",
     "output_type": "stream",
     "text": [
      "/Users/nelsonaldanamartinez/opt/anaconda3/lib/python3.7/site-packages/xgboost/core.py:587: FutureWarning: Series.base is deprecated and will be removed in a future version\n",
      "  if getattr(data, 'base', None) is not None and \\\n"
     ]
    },
    {
     "name": "stdout",
     "output_type": "stream",
     "text": [
      "[13:57:42] WARNING: src/objective/regression_obj.cu:152: reg:linear is now deprecated in favor of reg:squarederror.\n"
     ]
    },
    {
     "name": "stderr",
     "output_type": "stream",
     "text": [
      "/Users/nelsonaldanamartinez/opt/anaconda3/lib/python3.7/site-packages/xgboost/core.py:587: FutureWarning: Series.base is deprecated and will be removed in a future version\n",
      "  if getattr(data, 'base', None) is not None and \\\n"
     ]
    },
    {
     "name": "stdout",
     "output_type": "stream",
     "text": [
      "[13:58:11] WARNING: src/objective/regression_obj.cu:152: reg:linear is now deprecated in favor of reg:squarederror.\n"
     ]
    },
    {
     "name": "stderr",
     "output_type": "stream",
     "text": [
      "/Users/nelsonaldanamartinez/opt/anaconda3/lib/python3.7/site-packages/xgboost/core.py:587: FutureWarning: Series.base is deprecated and will be removed in a future version\n",
      "  if getattr(data, 'base', None) is not None and \\\n"
     ]
    },
    {
     "name": "stdout",
     "output_type": "stream",
     "text": [
      "[13:58:39] WARNING: src/objective/regression_obj.cu:152: reg:linear is now deprecated in favor of reg:squarederror.\n"
     ]
    },
    {
     "name": "stderr",
     "output_type": "stream",
     "text": [
      "/Users/nelsonaldanamartinez/opt/anaconda3/lib/python3.7/site-packages/xgboost/core.py:587: FutureWarning: Series.base is deprecated and will be removed in a future version\n",
      "  if getattr(data, 'base', None) is not None and \\\n"
     ]
    },
    {
     "name": "stdout",
     "output_type": "stream",
     "text": [
      "[13:59:07] WARNING: src/objective/regression_obj.cu:152: reg:linear is now deprecated in favor of reg:squarederror.\n"
     ]
    },
    {
     "name": "stderr",
     "output_type": "stream",
     "text": [
      "/Users/nelsonaldanamartinez/opt/anaconda3/lib/python3.7/site-packages/xgboost/core.py:587: FutureWarning: Series.base is deprecated and will be removed in a future version\n",
      "  if getattr(data, 'base', None) is not None and \\\n"
     ]
    },
    {
     "name": "stdout",
     "output_type": "stream",
     "text": [
      "[13:59:35] WARNING: src/objective/regression_obj.cu:152: reg:linear is now deprecated in favor of reg:squarederror.\n"
     ]
    },
    {
     "name": "stderr",
     "output_type": "stream",
     "text": [
      "/Users/nelsonaldanamartinez/opt/anaconda3/lib/python3.7/site-packages/xgboost/core.py:587: FutureWarning: Series.base is deprecated and will be removed in a future version\n",
      "  if getattr(data, 'base', None) is not None and \\\n"
     ]
    },
    {
     "name": "stdout",
     "output_type": "stream",
     "text": [
      "[14:00:04] WARNING: src/objective/regression_obj.cu:152: reg:linear is now deprecated in favor of reg:squarederror.\n"
     ]
    },
    {
     "name": "stderr",
     "output_type": "stream",
     "text": [
      "/Users/nelsonaldanamartinez/opt/anaconda3/lib/python3.7/site-packages/xgboost/core.py:587: FutureWarning: Series.base is deprecated and will be removed in a future version\n",
      "  if getattr(data, 'base', None) is not None and \\\n"
     ]
    },
    {
     "name": "stdout",
     "output_type": "stream",
     "text": [
      "[14:00:34] WARNING: src/objective/regression_obj.cu:152: reg:linear is now deprecated in favor of reg:squarederror.\n"
     ]
    },
    {
     "name": "stderr",
     "output_type": "stream",
     "text": [
      "/Users/nelsonaldanamartinez/opt/anaconda3/lib/python3.7/site-packages/xgboost/core.py:587: FutureWarning: Series.base is deprecated and will be removed in a future version\n",
      "  if getattr(data, 'base', None) is not None and \\\n"
     ]
    },
    {
     "name": "stdout",
     "output_type": "stream",
     "text": [
      "[14:01:04] WARNING: src/objective/regression_obj.cu:152: reg:linear is now deprecated in favor of reg:squarederror.\n"
     ]
    },
    {
     "name": "stderr",
     "output_type": "stream",
     "text": [
      "/Users/nelsonaldanamartinez/opt/anaconda3/lib/python3.7/site-packages/xgboost/core.py:587: FutureWarning: Series.base is deprecated and will be removed in a future version\n",
      "  if getattr(data, 'base', None) is not None and \\\n"
     ]
    },
    {
     "name": "stdout",
     "output_type": "stream",
     "text": [
      "[14:01:34] WARNING: src/objective/regression_obj.cu:152: reg:linear is now deprecated in favor of reg:squarederror.\n"
     ]
    },
    {
     "name": "stderr",
     "output_type": "stream",
     "text": [
      "/Users/nelsonaldanamartinez/opt/anaconda3/lib/python3.7/site-packages/xgboost/core.py:587: FutureWarning: Series.base is deprecated and will be removed in a future version\n",
      "  if getattr(data, 'base', None) is not None and \\\n"
     ]
    },
    {
     "name": "stdout",
     "output_type": "stream",
     "text": [
      "[14:02:04] WARNING: src/objective/regression_obj.cu:152: reg:linear is now deprecated in favor of reg:squarederror.\n"
     ]
    },
    {
     "name": "stderr",
     "output_type": "stream",
     "text": [
      "/Users/nelsonaldanamartinez/opt/anaconda3/lib/python3.7/site-packages/xgboost/core.py:587: FutureWarning: Series.base is deprecated and will be removed in a future version\n",
      "  if getattr(data, 'base', None) is not None and \\\n"
     ]
    },
    {
     "name": "stdout",
     "output_type": "stream",
     "text": [
      "[14:02:33] WARNING: src/objective/regression_obj.cu:152: reg:linear is now deprecated in favor of reg:squarederror.\n"
     ]
    },
    {
     "name": "stderr",
     "output_type": "stream",
     "text": [
      "/Users/nelsonaldanamartinez/opt/anaconda3/lib/python3.7/site-packages/xgboost/core.py:587: FutureWarning: Series.base is deprecated and will be removed in a future version\n",
      "  if getattr(data, 'base', None) is not None and \\\n"
     ]
    },
    {
     "name": "stdout",
     "output_type": "stream",
     "text": [
      "[14:03:03] WARNING: src/objective/regression_obj.cu:152: reg:linear is now deprecated in favor of reg:squarederror.\n"
     ]
    },
    {
     "name": "stderr",
     "output_type": "stream",
     "text": [
      "/Users/nelsonaldanamartinez/opt/anaconda3/lib/python3.7/site-packages/xgboost/core.py:587: FutureWarning: Series.base is deprecated and will be removed in a future version\n",
      "  if getattr(data, 'base', None) is not None and \\\n"
     ]
    },
    {
     "name": "stdout",
     "output_type": "stream",
     "text": [
      "[14:03:32] WARNING: src/objective/regression_obj.cu:152: reg:linear is now deprecated in favor of reg:squarederror.\n"
     ]
    },
    {
     "name": "stderr",
     "output_type": "stream",
     "text": [
      "/Users/nelsonaldanamartinez/opt/anaconda3/lib/python3.7/site-packages/xgboost/core.py:587: FutureWarning: Series.base is deprecated and will be removed in a future version\n",
      "  if getattr(data, 'base', None) is not None and \\\n"
     ]
    },
    {
     "name": "stdout",
     "output_type": "stream",
     "text": [
      "[14:04:02] WARNING: src/objective/regression_obj.cu:152: reg:linear is now deprecated in favor of reg:squarederror.\n"
     ]
    },
    {
     "name": "stderr",
     "output_type": "stream",
     "text": [
      "/Users/nelsonaldanamartinez/opt/anaconda3/lib/python3.7/site-packages/xgboost/core.py:587: FutureWarning: Series.base is deprecated and will be removed in a future version\n",
      "  if getattr(data, 'base', None) is not None and \\\n"
     ]
    },
    {
     "name": "stdout",
     "output_type": "stream",
     "text": [
      "[14:04:32] WARNING: src/objective/regression_obj.cu:152: reg:linear is now deprecated in favor of reg:squarederror.\n"
     ]
    },
    {
     "name": "stderr",
     "output_type": "stream",
     "text": [
      "/Users/nelsonaldanamartinez/opt/anaconda3/lib/python3.7/site-packages/xgboost/core.py:587: FutureWarning: Series.base is deprecated and will be removed in a future version\n",
      "  if getattr(data, 'base', None) is not None and \\\n"
     ]
    },
    {
     "name": "stdout",
     "output_type": "stream",
     "text": [
      "[14:05:02] WARNING: src/objective/regression_obj.cu:152: reg:linear is now deprecated in favor of reg:squarederror.\n"
     ]
    },
    {
     "name": "stderr",
     "output_type": "stream",
     "text": [
      "/Users/nelsonaldanamartinez/opt/anaconda3/lib/python3.7/site-packages/xgboost/core.py:587: FutureWarning: Series.base is deprecated and will be removed in a future version\n",
      "  if getattr(data, 'base', None) is not None and \\\n"
     ]
    },
    {
     "name": "stdout",
     "output_type": "stream",
     "text": [
      "[14:05:32] WARNING: src/objective/regression_obj.cu:152: reg:linear is now deprecated in favor of reg:squarederror.\n"
     ]
    },
    {
     "name": "stderr",
     "output_type": "stream",
     "text": [
      "/Users/nelsonaldanamartinez/opt/anaconda3/lib/python3.7/site-packages/xgboost/core.py:587: FutureWarning: Series.base is deprecated and will be removed in a future version\n",
      "  if getattr(data, 'base', None) is not None and \\\n"
     ]
    },
    {
     "name": "stdout",
     "output_type": "stream",
     "text": [
      "[14:06:01] WARNING: src/objective/regression_obj.cu:152: reg:linear is now deprecated in favor of reg:squarederror.\n"
     ]
    },
    {
     "name": "stderr",
     "output_type": "stream",
     "text": [
      "/Users/nelsonaldanamartinez/opt/anaconda3/lib/python3.7/site-packages/xgboost/core.py:587: FutureWarning: Series.base is deprecated and will be removed in a future version\n",
      "  if getattr(data, 'base', None) is not None and \\\n"
     ]
    },
    {
     "name": "stdout",
     "output_type": "stream",
     "text": [
      "[14:06:32] WARNING: src/objective/regression_obj.cu:152: reg:linear is now deprecated in favor of reg:squarederror.\n"
     ]
    },
    {
     "name": "stderr",
     "output_type": "stream",
     "text": [
      "/Users/nelsonaldanamartinez/opt/anaconda3/lib/python3.7/site-packages/xgboost/core.py:587: FutureWarning: Series.base is deprecated and will be removed in a future version\n",
      "  if getattr(data, 'base', None) is not None and \\\n"
     ]
    },
    {
     "name": "stdout",
     "output_type": "stream",
     "text": [
      "[14:07:03] WARNING: src/objective/regression_obj.cu:152: reg:linear is now deprecated in favor of reg:squarederror.\n"
     ]
    },
    {
     "name": "stderr",
     "output_type": "stream",
     "text": [
      "/Users/nelsonaldanamartinez/opt/anaconda3/lib/python3.7/site-packages/xgboost/core.py:587: FutureWarning: Series.base is deprecated and will be removed in a future version\n",
      "  if getattr(data, 'base', None) is not None and \\\n"
     ]
    },
    {
     "name": "stdout",
     "output_type": "stream",
     "text": [
      "[14:07:33] WARNING: src/objective/regression_obj.cu:152: reg:linear is now deprecated in favor of reg:squarederror.\n"
     ]
    },
    {
     "name": "stderr",
     "output_type": "stream",
     "text": [
      "/Users/nelsonaldanamartinez/opt/anaconda3/lib/python3.7/site-packages/xgboost/core.py:587: FutureWarning: Series.base is deprecated and will be removed in a future version\n",
      "  if getattr(data, 'base', None) is not None and \\\n"
     ]
    },
    {
     "name": "stdout",
     "output_type": "stream",
     "text": [
      "[14:08:02] WARNING: src/objective/regression_obj.cu:152: reg:linear is now deprecated in favor of reg:squarederror.\n"
     ]
    },
    {
     "name": "stderr",
     "output_type": "stream",
     "text": [
      "/Users/nelsonaldanamartinez/opt/anaconda3/lib/python3.7/site-packages/xgboost/core.py:587: FutureWarning: Series.base is deprecated and will be removed in a future version\n",
      "  if getattr(data, 'base', None) is not None and \\\n"
     ]
    },
    {
     "name": "stdout",
     "output_type": "stream",
     "text": [
      "[14:08:29] WARNING: src/objective/regression_obj.cu:152: reg:linear is now deprecated in favor of reg:squarederror.\n"
     ]
    },
    {
     "name": "stderr",
     "output_type": "stream",
     "text": [
      "/Users/nelsonaldanamartinez/opt/anaconda3/lib/python3.7/site-packages/xgboost/core.py:587: FutureWarning: Series.base is deprecated and will be removed in a future version\n",
      "  if getattr(data, 'base', None) is not None and \\\n"
     ]
    },
    {
     "name": "stdout",
     "output_type": "stream",
     "text": [
      "[14:08:57] WARNING: src/objective/regression_obj.cu:152: reg:linear is now deprecated in favor of reg:squarederror.\n"
     ]
    },
    {
     "name": "stderr",
     "output_type": "stream",
     "text": [
      "/Users/nelsonaldanamartinez/opt/anaconda3/lib/python3.7/site-packages/xgboost/core.py:587: FutureWarning: Series.base is deprecated and will be removed in a future version\n",
      "  if getattr(data, 'base', None) is not None and \\\n"
     ]
    },
    {
     "name": "stdout",
     "output_type": "stream",
     "text": [
      "[14:09:25] WARNING: src/objective/regression_obj.cu:152: reg:linear is now deprecated in favor of reg:squarederror.\n"
     ]
    },
    {
     "name": "stderr",
     "output_type": "stream",
     "text": [
      "/Users/nelsonaldanamartinez/opt/anaconda3/lib/python3.7/site-packages/xgboost/core.py:587: FutureWarning: Series.base is deprecated and will be removed in a future version\n",
      "  if getattr(data, 'base', None) is not None and \\\n"
     ]
    },
    {
     "name": "stdout",
     "output_type": "stream",
     "text": [
      "[14:09:54] WARNING: src/objective/regression_obj.cu:152: reg:linear is now deprecated in favor of reg:squarederror.\n"
     ]
    },
    {
     "name": "stderr",
     "output_type": "stream",
     "text": [
      "/Users/nelsonaldanamartinez/opt/anaconda3/lib/python3.7/site-packages/xgboost/core.py:587: FutureWarning: Series.base is deprecated and will be removed in a future version\n",
      "  if getattr(data, 'base', None) is not None and \\\n"
     ]
    },
    {
     "name": "stdout",
     "output_type": "stream",
     "text": [
      "[14:10:24] WARNING: src/objective/regression_obj.cu:152: reg:linear is now deprecated in favor of reg:squarederror.\n"
     ]
    },
    {
     "name": "stderr",
     "output_type": "stream",
     "text": [
      "/Users/nelsonaldanamartinez/opt/anaconda3/lib/python3.7/site-packages/xgboost/core.py:587: FutureWarning: Series.base is deprecated and will be removed in a future version\n",
      "  if getattr(data, 'base', None) is not None and \\\n"
     ]
    },
    {
     "name": "stdout",
     "output_type": "stream",
     "text": [
      "[14:10:55] WARNING: src/objective/regression_obj.cu:152: reg:linear is now deprecated in favor of reg:squarederror.\n"
     ]
    },
    {
     "name": "stderr",
     "output_type": "stream",
     "text": [
      "/Users/nelsonaldanamartinez/opt/anaconda3/lib/python3.7/site-packages/xgboost/core.py:587: FutureWarning: Series.base is deprecated and will be removed in a future version\n",
      "  if getattr(data, 'base', None) is not None and \\\n"
     ]
    },
    {
     "name": "stdout",
     "output_type": "stream",
     "text": [
      "[14:11:25] WARNING: src/objective/regression_obj.cu:152: reg:linear is now deprecated in favor of reg:squarederror.\n"
     ]
    },
    {
     "name": "stderr",
     "output_type": "stream",
     "text": [
      "/Users/nelsonaldanamartinez/opt/anaconda3/lib/python3.7/site-packages/xgboost/core.py:587: FutureWarning: Series.base is deprecated and will be removed in a future version\n",
      "  if getattr(data, 'base', None) is not None and \\\n"
     ]
    },
    {
     "name": "stdout",
     "output_type": "stream",
     "text": [
      "[14:11:56] WARNING: src/objective/regression_obj.cu:152: reg:linear is now deprecated in favor of reg:squarederror.\n"
     ]
    },
    {
     "name": "stderr",
     "output_type": "stream",
     "text": [
      "/Users/nelsonaldanamartinez/opt/anaconda3/lib/python3.7/site-packages/xgboost/core.py:587: FutureWarning: Series.base is deprecated and will be removed in a future version\n",
      "  if getattr(data, 'base', None) is not None and \\\n"
     ]
    },
    {
     "name": "stdout",
     "output_type": "stream",
     "text": [
      "[14:12:26] WARNING: src/objective/regression_obj.cu:152: reg:linear is now deprecated in favor of reg:squarederror.\n"
     ]
    },
    {
     "name": "stderr",
     "output_type": "stream",
     "text": [
      "/Users/nelsonaldanamartinez/opt/anaconda3/lib/python3.7/site-packages/xgboost/core.py:587: FutureWarning: Series.base is deprecated and will be removed in a future version\n",
      "  if getattr(data, 'base', None) is not None and \\\n"
     ]
    },
    {
     "name": "stdout",
     "output_type": "stream",
     "text": [
      "[14:12:56] WARNING: src/objective/regression_obj.cu:152: reg:linear is now deprecated in favor of reg:squarederror.\n"
     ]
    },
    {
     "name": "stderr",
     "output_type": "stream",
     "text": [
      "/Users/nelsonaldanamartinez/opt/anaconda3/lib/python3.7/site-packages/xgboost/core.py:587: FutureWarning: Series.base is deprecated and will be removed in a future version\n",
      "  if getattr(data, 'base', None) is not None and \\\n"
     ]
    },
    {
     "name": "stdout",
     "output_type": "stream",
     "text": [
      "[14:13:26] WARNING: src/objective/regression_obj.cu:152: reg:linear is now deprecated in favor of reg:squarederror.\n"
     ]
    },
    {
     "name": "stderr",
     "output_type": "stream",
     "text": [
      "/Users/nelsonaldanamartinez/opt/anaconda3/lib/python3.7/site-packages/xgboost/core.py:587: FutureWarning: Series.base is deprecated and will be removed in a future version\n",
      "  if getattr(data, 'base', None) is not None and \\\n"
     ]
    },
    {
     "name": "stdout",
     "output_type": "stream",
     "text": [
      "[14:13:57] WARNING: src/objective/regression_obj.cu:152: reg:linear is now deprecated in favor of reg:squarederror.\n"
     ]
    },
    {
     "name": "stderr",
     "output_type": "stream",
     "text": [
      "/Users/nelsonaldanamartinez/opt/anaconda3/lib/python3.7/site-packages/xgboost/core.py:587: FutureWarning: Series.base is deprecated and will be removed in a future version\n",
      "  if getattr(data, 'base', None) is not None and \\\n"
     ]
    },
    {
     "name": "stdout",
     "output_type": "stream",
     "text": [
      "[14:14:27] WARNING: src/objective/regression_obj.cu:152: reg:linear is now deprecated in favor of reg:squarederror.\n"
     ]
    },
    {
     "name": "stderr",
     "output_type": "stream",
     "text": [
      "/Users/nelsonaldanamartinez/opt/anaconda3/lib/python3.7/site-packages/xgboost/core.py:587: FutureWarning: Series.base is deprecated and will be removed in a future version\n",
      "  if getattr(data, 'base', None) is not None and \\\n"
     ]
    },
    {
     "name": "stdout",
     "output_type": "stream",
     "text": [
      "[14:14:59] WARNING: src/objective/regression_obj.cu:152: reg:linear is now deprecated in favor of reg:squarederror.\n"
     ]
    },
    {
     "name": "stderr",
     "output_type": "stream",
     "text": [
      "/Users/nelsonaldanamartinez/opt/anaconda3/lib/python3.7/site-packages/xgboost/core.py:587: FutureWarning: Series.base is deprecated and will be removed in a future version\n",
      "  if getattr(data, 'base', None) is not None and \\\n"
     ]
    },
    {
     "name": "stdout",
     "output_type": "stream",
     "text": [
      "[14:15:29] WARNING: src/objective/regression_obj.cu:152: reg:linear is now deprecated in favor of reg:squarederror.\n"
     ]
    },
    {
     "name": "stderr",
     "output_type": "stream",
     "text": [
      "/Users/nelsonaldanamartinez/opt/anaconda3/lib/python3.7/site-packages/xgboost/core.py:587: FutureWarning: Series.base is deprecated and will be removed in a future version\n",
      "  if getattr(data, 'base', None) is not None and \\\n"
     ]
    },
    {
     "name": "stdout",
     "output_type": "stream",
     "text": [
      "[14:16:00] WARNING: src/objective/regression_obj.cu:152: reg:linear is now deprecated in favor of reg:squarederror.\n"
     ]
    },
    {
     "name": "stderr",
     "output_type": "stream",
     "text": [
      "/Users/nelsonaldanamartinez/opt/anaconda3/lib/python3.7/site-packages/xgboost/core.py:587: FutureWarning: Series.base is deprecated and will be removed in a future version\n",
      "  if getattr(data, 'base', None) is not None and \\\n"
     ]
    },
    {
     "name": "stdout",
     "output_type": "stream",
     "text": [
      "[14:16:30] WARNING: src/objective/regression_obj.cu:152: reg:linear is now deprecated in favor of reg:squarederror.\n"
     ]
    },
    {
     "name": "stderr",
     "output_type": "stream",
     "text": [
      "/Users/nelsonaldanamartinez/opt/anaconda3/lib/python3.7/site-packages/xgboost/core.py:587: FutureWarning: Series.base is deprecated and will be removed in a future version\n",
      "  if getattr(data, 'base', None) is not None and \\\n"
     ]
    },
    {
     "name": "stdout",
     "output_type": "stream",
     "text": [
      "[14:17:00] WARNING: src/objective/regression_obj.cu:152: reg:linear is now deprecated in favor of reg:squarederror.\n"
     ]
    },
    {
     "name": "stderr",
     "output_type": "stream",
     "text": [
      "/Users/nelsonaldanamartinez/opt/anaconda3/lib/python3.7/site-packages/xgboost/core.py:587: FutureWarning: Series.base is deprecated and will be removed in a future version\n",
      "  if getattr(data, 'base', None) is not None and \\\n"
     ]
    },
    {
     "name": "stdout",
     "output_type": "stream",
     "text": [
      "[14:17:30] WARNING: src/objective/regression_obj.cu:152: reg:linear is now deprecated in favor of reg:squarederror.\n"
     ]
    },
    {
     "name": "stderr",
     "output_type": "stream",
     "text": [
      "/Users/nelsonaldanamartinez/opt/anaconda3/lib/python3.7/site-packages/xgboost/core.py:587: FutureWarning: Series.base is deprecated and will be removed in a future version\n",
      "  if getattr(data, 'base', None) is not None and \\\n"
     ]
    },
    {
     "name": "stdout",
     "output_type": "stream",
     "text": [
      "[14:18:00] WARNING: src/objective/regression_obj.cu:152: reg:linear is now deprecated in favor of reg:squarederror.\n"
     ]
    },
    {
     "name": "stderr",
     "output_type": "stream",
     "text": [
      "/Users/nelsonaldanamartinez/opt/anaconda3/lib/python3.7/site-packages/xgboost/core.py:587: FutureWarning: Series.base is deprecated and will be removed in a future version\n",
      "  if getattr(data, 'base', None) is not None and \\\n"
     ]
    },
    {
     "name": "stdout",
     "output_type": "stream",
     "text": [
      "[14:18:31] WARNING: src/objective/regression_obj.cu:152: reg:linear is now deprecated in favor of reg:squarederror.\n"
     ]
    },
    {
     "name": "stderr",
     "output_type": "stream",
     "text": [
      "/Users/nelsonaldanamartinez/opt/anaconda3/lib/python3.7/site-packages/xgboost/core.py:587: FutureWarning: Series.base is deprecated and will be removed in a future version\n",
      "  if getattr(data, 'base', None) is not None and \\\n"
     ]
    },
    {
     "name": "stdout",
     "output_type": "stream",
     "text": [
      "[14:19:01] WARNING: src/objective/regression_obj.cu:152: reg:linear is now deprecated in favor of reg:squarederror.\n"
     ]
    },
    {
     "name": "stderr",
     "output_type": "stream",
     "text": [
      "/Users/nelsonaldanamartinez/opt/anaconda3/lib/python3.7/site-packages/xgboost/core.py:587: FutureWarning: Series.base is deprecated and will be removed in a future version\n",
      "  if getattr(data, 'base', None) is not None and \\\n"
     ]
    },
    {
     "name": "stdout",
     "output_type": "stream",
     "text": [
      "[14:19:33] WARNING: src/objective/regression_obj.cu:152: reg:linear is now deprecated in favor of reg:squarederror.\n"
     ]
    },
    {
     "name": "stderr",
     "output_type": "stream",
     "text": [
      "/Users/nelsonaldanamartinez/opt/anaconda3/lib/python3.7/site-packages/xgboost/core.py:587: FutureWarning: Series.base is deprecated and will be removed in a future version\n",
      "  if getattr(data, 'base', None) is not None and \\\n"
     ]
    },
    {
     "name": "stdout",
     "output_type": "stream",
     "text": [
      "[14:20:05] WARNING: src/objective/regression_obj.cu:152: reg:linear is now deprecated in favor of reg:squarederror.\n"
     ]
    },
    {
     "name": "stderr",
     "output_type": "stream",
     "text": [
      "/Users/nelsonaldanamartinez/opt/anaconda3/lib/python3.7/site-packages/xgboost/core.py:587: FutureWarning: Series.base is deprecated and will be removed in a future version\n",
      "  if getattr(data, 'base', None) is not None and \\\n"
     ]
    },
    {
     "name": "stdout",
     "output_type": "stream",
     "text": [
      "[14:20:36] WARNING: src/objective/regression_obj.cu:152: reg:linear is now deprecated in favor of reg:squarederror.\n"
     ]
    },
    {
     "name": "stderr",
     "output_type": "stream",
     "text": [
      "/Users/nelsonaldanamartinez/opt/anaconda3/lib/python3.7/site-packages/xgboost/core.py:587: FutureWarning: Series.base is deprecated and will be removed in a future version\n",
      "  if getattr(data, 'base', None) is not None and \\\n"
     ]
    },
    {
     "name": "stdout",
     "output_type": "stream",
     "text": [
      "[14:21:05] WARNING: src/objective/regression_obj.cu:152: reg:linear is now deprecated in favor of reg:squarederror.\n"
     ]
    },
    {
     "name": "stderr",
     "output_type": "stream",
     "text": [
      "/Users/nelsonaldanamartinez/opt/anaconda3/lib/python3.7/site-packages/xgboost/core.py:587: FutureWarning: Series.base is deprecated and will be removed in a future version\n",
      "  if getattr(data, 'base', None) is not None and \\\n"
     ]
    },
    {
     "name": "stdout",
     "output_type": "stream",
     "text": [
      "[14:21:33] WARNING: src/objective/regression_obj.cu:152: reg:linear is now deprecated in favor of reg:squarederror.\n"
     ]
    },
    {
     "name": "stderr",
     "output_type": "stream",
     "text": [
      "/Users/nelsonaldanamartinez/opt/anaconda3/lib/python3.7/site-packages/xgboost/core.py:587: FutureWarning: Series.base is deprecated and will be removed in a future version\n",
      "  if getattr(data, 'base', None) is not None and \\\n"
     ]
    },
    {
     "name": "stdout",
     "output_type": "stream",
     "text": [
      "[14:22:02] WARNING: src/objective/regression_obj.cu:152: reg:linear is now deprecated in favor of reg:squarederror.\n"
     ]
    },
    {
     "name": "stderr",
     "output_type": "stream",
     "text": [
      "/Users/nelsonaldanamartinez/opt/anaconda3/lib/python3.7/site-packages/xgboost/core.py:587: FutureWarning: Series.base is deprecated and will be removed in a future version\n",
      "  if getattr(data, 'base', None) is not None and \\\n"
     ]
    },
    {
     "name": "stdout",
     "output_type": "stream",
     "text": [
      "[14:22:32] WARNING: src/objective/regression_obj.cu:152: reg:linear is now deprecated in favor of reg:squarederror.\n"
     ]
    },
    {
     "name": "stderr",
     "output_type": "stream",
     "text": [
      "/Users/nelsonaldanamartinez/opt/anaconda3/lib/python3.7/site-packages/xgboost/core.py:587: FutureWarning: Series.base is deprecated and will be removed in a future version\n",
      "  if getattr(data, 'base', None) is not None and \\\n"
     ]
    },
    {
     "name": "stdout",
     "output_type": "stream",
     "text": [
      "[14:23:00] WARNING: src/objective/regression_obj.cu:152: reg:linear is now deprecated in favor of reg:squarederror.\n"
     ]
    },
    {
     "name": "stderr",
     "output_type": "stream",
     "text": [
      "/Users/nelsonaldanamartinez/opt/anaconda3/lib/python3.7/site-packages/xgboost/core.py:587: FutureWarning: Series.base is deprecated and will be removed in a future version\n",
      "  if getattr(data, 'base', None) is not None and \\\n"
     ]
    },
    {
     "name": "stdout",
     "output_type": "stream",
     "text": [
      "[14:23:29] WARNING: src/objective/regression_obj.cu:152: reg:linear is now deprecated in favor of reg:squarederror.\n"
     ]
    },
    {
     "name": "stderr",
     "output_type": "stream",
     "text": [
      "/Users/nelsonaldanamartinez/opt/anaconda3/lib/python3.7/site-packages/xgboost/core.py:587: FutureWarning: Series.base is deprecated and will be removed in a future version\n",
      "  if getattr(data, 'base', None) is not None and \\\n"
     ]
    },
    {
     "name": "stdout",
     "output_type": "stream",
     "text": [
      "[14:24:00] WARNING: src/objective/regression_obj.cu:152: reg:linear is now deprecated in favor of reg:squarederror.\n"
     ]
    },
    {
     "name": "stderr",
     "output_type": "stream",
     "text": [
      "/Users/nelsonaldanamartinez/opt/anaconda3/lib/python3.7/site-packages/xgboost/core.py:587: FutureWarning: Series.base is deprecated and will be removed in a future version\n",
      "  if getattr(data, 'base', None) is not None and \\\n"
     ]
    },
    {
     "name": "stdout",
     "output_type": "stream",
     "text": [
      "[14:24:30] WARNING: src/objective/regression_obj.cu:152: reg:linear is now deprecated in favor of reg:squarederror.\n"
     ]
    },
    {
     "name": "stderr",
     "output_type": "stream",
     "text": [
      "/Users/nelsonaldanamartinez/opt/anaconda3/lib/python3.7/site-packages/xgboost/core.py:587: FutureWarning: Series.base is deprecated and will be removed in a future version\n",
      "  if getattr(data, 'base', None) is not None and \\\n"
     ]
    },
    {
     "name": "stdout",
     "output_type": "stream",
     "text": [
      "[14:25:00] WARNING: src/objective/regression_obj.cu:152: reg:linear is now deprecated in favor of reg:squarederror.\n"
     ]
    },
    {
     "name": "stderr",
     "output_type": "stream",
     "text": [
      "/Users/nelsonaldanamartinez/opt/anaconda3/lib/python3.7/site-packages/xgboost/core.py:587: FutureWarning: Series.base is deprecated and will be removed in a future version\n",
      "  if getattr(data, 'base', None) is not None and \\\n"
     ]
    },
    {
     "name": "stdout",
     "output_type": "stream",
     "text": [
      "[14:25:30] WARNING: src/objective/regression_obj.cu:152: reg:linear is now deprecated in favor of reg:squarederror.\n"
     ]
    },
    {
     "name": "stderr",
     "output_type": "stream",
     "text": [
      "/Users/nelsonaldanamartinez/opt/anaconda3/lib/python3.7/site-packages/xgboost/core.py:587: FutureWarning: Series.base is deprecated and will be removed in a future version\n",
      "  if getattr(data, 'base', None) is not None and \\\n"
     ]
    },
    {
     "name": "stdout",
     "output_type": "stream",
     "text": [
      "[14:26:00] WARNING: src/objective/regression_obj.cu:152: reg:linear is now deprecated in favor of reg:squarederror.\n"
     ]
    },
    {
     "name": "stderr",
     "output_type": "stream",
     "text": [
      "/Users/nelsonaldanamartinez/opt/anaconda3/lib/python3.7/site-packages/xgboost/core.py:587: FutureWarning: Series.base is deprecated and will be removed in a future version\n",
      "  if getattr(data, 'base', None) is not None and \\\n"
     ]
    },
    {
     "name": "stdout",
     "output_type": "stream",
     "text": [
      "[14:26:33] WARNING: src/objective/regression_obj.cu:152: reg:linear is now deprecated in favor of reg:squarederror.\n"
     ]
    },
    {
     "name": "stderr",
     "output_type": "stream",
     "text": [
      "/Users/nelsonaldanamartinez/opt/anaconda3/lib/python3.7/site-packages/xgboost/core.py:587: FutureWarning: Series.base is deprecated and will be removed in a future version\n",
      "  if getattr(data, 'base', None) is not None and \\\n"
     ]
    },
    {
     "name": "stdout",
     "output_type": "stream",
     "text": [
      "[14:27:06] WARNING: src/objective/regression_obj.cu:152: reg:linear is now deprecated in favor of reg:squarederror.\n"
     ]
    },
    {
     "name": "stderr",
     "output_type": "stream",
     "text": [
      "/Users/nelsonaldanamartinez/opt/anaconda3/lib/python3.7/site-packages/xgboost/core.py:587: FutureWarning: Series.base is deprecated and will be removed in a future version\n",
      "  if getattr(data, 'base', None) is not None and \\\n"
     ]
    },
    {
     "name": "stdout",
     "output_type": "stream",
     "text": [
      "[14:27:39] WARNING: src/objective/regression_obj.cu:152: reg:linear is now deprecated in favor of reg:squarederror.\n"
     ]
    },
    {
     "name": "stderr",
     "output_type": "stream",
     "text": [
      "/Users/nelsonaldanamartinez/opt/anaconda3/lib/python3.7/site-packages/xgboost/core.py:587: FutureWarning: Series.base is deprecated and will be removed in a future version\n",
      "  if getattr(data, 'base', None) is not None and \\\n"
     ]
    },
    {
     "name": "stdout",
     "output_type": "stream",
     "text": [
      "[14:28:12] WARNING: src/objective/regression_obj.cu:152: reg:linear is now deprecated in favor of reg:squarederror.\n"
     ]
    },
    {
     "name": "stderr",
     "output_type": "stream",
     "text": [
      "/Users/nelsonaldanamartinez/opt/anaconda3/lib/python3.7/site-packages/xgboost/core.py:587: FutureWarning: Series.base is deprecated and will be removed in a future version\n",
      "  if getattr(data, 'base', None) is not None and \\\n"
     ]
    },
    {
     "name": "stdout",
     "output_type": "stream",
     "text": [
      "[14:28:46] WARNING: src/objective/regression_obj.cu:152: reg:linear is now deprecated in favor of reg:squarederror.\n"
     ]
    },
    {
     "name": "stderr",
     "output_type": "stream",
     "text": [
      "/Users/nelsonaldanamartinez/opt/anaconda3/lib/python3.7/site-packages/xgboost/core.py:587: FutureWarning: Series.base is deprecated and will be removed in a future version\n",
      "  if getattr(data, 'base', None) is not None and \\\n"
     ]
    },
    {
     "name": "stdout",
     "output_type": "stream",
     "text": [
      "[14:29:20] WARNING: src/objective/regression_obj.cu:152: reg:linear is now deprecated in favor of reg:squarederror.\n"
     ]
    },
    {
     "name": "stderr",
     "output_type": "stream",
     "text": [
      "/Users/nelsonaldanamartinez/opt/anaconda3/lib/python3.7/site-packages/xgboost/core.py:587: FutureWarning: Series.base is deprecated and will be removed in a future version\n",
      "  if getattr(data, 'base', None) is not None and \\\n"
     ]
    },
    {
     "name": "stdout",
     "output_type": "stream",
     "text": [
      "[14:29:53] WARNING: src/objective/regression_obj.cu:152: reg:linear is now deprecated in favor of reg:squarederror.\n"
     ]
    },
    {
     "name": "stderr",
     "output_type": "stream",
     "text": [
      "/Users/nelsonaldanamartinez/opt/anaconda3/lib/python3.7/site-packages/xgboost/core.py:587: FutureWarning: Series.base is deprecated and will be removed in a future version\n",
      "  if getattr(data, 'base', None) is not None and \\\n"
     ]
    },
    {
     "name": "stdout",
     "output_type": "stream",
     "text": [
      "[14:30:26] WARNING: src/objective/regression_obj.cu:152: reg:linear is now deprecated in favor of reg:squarederror.\n"
     ]
    },
    {
     "name": "stderr",
     "output_type": "stream",
     "text": [
      "/Users/nelsonaldanamartinez/opt/anaconda3/lib/python3.7/site-packages/xgboost/core.py:587: FutureWarning: Series.base is deprecated and will be removed in a future version\n",
      "  if getattr(data, 'base', None) is not None and \\\n"
     ]
    },
    {
     "name": "stdout",
     "output_type": "stream",
     "text": [
      "[14:30:59] WARNING: src/objective/regression_obj.cu:152: reg:linear is now deprecated in favor of reg:squarederror.\n"
     ]
    },
    {
     "name": "stderr",
     "output_type": "stream",
     "text": [
      "/Users/nelsonaldanamartinez/opt/anaconda3/lib/python3.7/site-packages/xgboost/core.py:587: FutureWarning: Series.base is deprecated and will be removed in a future version\n",
      "  if getattr(data, 'base', None) is not None and \\\n"
     ]
    },
    {
     "name": "stdout",
     "output_type": "stream",
     "text": [
      "[14:31:33] WARNING: src/objective/regression_obj.cu:152: reg:linear is now deprecated in favor of reg:squarederror.\n"
     ]
    },
    {
     "name": "stderr",
     "output_type": "stream",
     "text": [
      "/Users/nelsonaldanamartinez/opt/anaconda3/lib/python3.7/site-packages/xgboost/core.py:587: FutureWarning: Series.base is deprecated and will be removed in a future version\n",
      "  if getattr(data, 'base', None) is not None and \\\n"
     ]
    },
    {
     "name": "stdout",
     "output_type": "stream",
     "text": [
      "[14:32:06] WARNING: src/objective/regression_obj.cu:152: reg:linear is now deprecated in favor of reg:squarederror.\n"
     ]
    },
    {
     "name": "stderr",
     "output_type": "stream",
     "text": [
      "/Users/nelsonaldanamartinez/opt/anaconda3/lib/python3.7/site-packages/xgboost/core.py:587: FutureWarning: Series.base is deprecated and will be removed in a future version\n",
      "  if getattr(data, 'base', None) is not None and \\\n"
     ]
    },
    {
     "name": "stdout",
     "output_type": "stream",
     "text": [
      "[14:32:39] WARNING: src/objective/regression_obj.cu:152: reg:linear is now deprecated in favor of reg:squarederror.\n"
     ]
    },
    {
     "name": "stderr",
     "output_type": "stream",
     "text": [
      "/Users/nelsonaldanamartinez/opt/anaconda3/lib/python3.7/site-packages/xgboost/core.py:587: FutureWarning: Series.base is deprecated and will be removed in a future version\n",
      "  if getattr(data, 'base', None) is not None and \\\n"
     ]
    },
    {
     "name": "stdout",
     "output_type": "stream",
     "text": [
      "[14:33:13] WARNING: src/objective/regression_obj.cu:152: reg:linear is now deprecated in favor of reg:squarederror.\n"
     ]
    },
    {
     "name": "stderr",
     "output_type": "stream",
     "text": [
      "/Users/nelsonaldanamartinez/opt/anaconda3/lib/python3.7/site-packages/xgboost/core.py:587: FutureWarning: Series.base is deprecated and will be removed in a future version\n",
      "  if getattr(data, 'base', None) is not None and \\\n"
     ]
    },
    {
     "name": "stdout",
     "output_type": "stream",
     "text": [
      "[14:33:46] WARNING: src/objective/regression_obj.cu:152: reg:linear is now deprecated in favor of reg:squarederror.\n"
     ]
    },
    {
     "name": "stderr",
     "output_type": "stream",
     "text": [
      "/Users/nelsonaldanamartinez/opt/anaconda3/lib/python3.7/site-packages/xgboost/core.py:587: FutureWarning: Series.base is deprecated and will be removed in a future version\n",
      "  if getattr(data, 'base', None) is not None and \\\n"
     ]
    },
    {
     "name": "stdout",
     "output_type": "stream",
     "text": [
      "[14:34:20] WARNING: src/objective/regression_obj.cu:152: reg:linear is now deprecated in favor of reg:squarederror.\n"
     ]
    },
    {
     "name": "stderr",
     "output_type": "stream",
     "text": [
      "/Users/nelsonaldanamartinez/opt/anaconda3/lib/python3.7/site-packages/xgboost/core.py:587: FutureWarning: Series.base is deprecated and will be removed in a future version\n",
      "  if getattr(data, 'base', None) is not None and \\\n"
     ]
    },
    {
     "name": "stdout",
     "output_type": "stream",
     "text": [
      "[14:34:53] WARNING: src/objective/regression_obj.cu:152: reg:linear is now deprecated in favor of reg:squarederror.\n"
     ]
    },
    {
     "name": "stderr",
     "output_type": "stream",
     "text": [
      "/Users/nelsonaldanamartinez/opt/anaconda3/lib/python3.7/site-packages/xgboost/core.py:587: FutureWarning: Series.base is deprecated and will be removed in a future version\n",
      "  if getattr(data, 'base', None) is not None and \\\n"
     ]
    },
    {
     "name": "stdout",
     "output_type": "stream",
     "text": [
      "[14:35:26] WARNING: src/objective/regression_obj.cu:152: reg:linear is now deprecated in favor of reg:squarederror.\n"
     ]
    },
    {
     "name": "stderr",
     "output_type": "stream",
     "text": [
      "/Users/nelsonaldanamartinez/opt/anaconda3/lib/python3.7/site-packages/xgboost/core.py:587: FutureWarning: Series.base is deprecated and will be removed in a future version\n",
      "  if getattr(data, 'base', None) is not None and \\\n"
     ]
    },
    {
     "name": "stdout",
     "output_type": "stream",
     "text": [
      "[14:35:59] WARNING: src/objective/regression_obj.cu:152: reg:linear is now deprecated in favor of reg:squarederror.\n"
     ]
    },
    {
     "name": "stderr",
     "output_type": "stream",
     "text": [
      "/Users/nelsonaldanamartinez/opt/anaconda3/lib/python3.7/site-packages/xgboost/core.py:587: FutureWarning: Series.base is deprecated and will be removed in a future version\n",
      "  if getattr(data, 'base', None) is not None and \\\n"
     ]
    },
    {
     "name": "stdout",
     "output_type": "stream",
     "text": [
      "[14:36:33] WARNING: src/objective/regression_obj.cu:152: reg:linear is now deprecated in favor of reg:squarederror.\n"
     ]
    },
    {
     "name": "stderr",
     "output_type": "stream",
     "text": [
      "/Users/nelsonaldanamartinez/opt/anaconda3/lib/python3.7/site-packages/xgboost/core.py:587: FutureWarning: Series.base is deprecated and will be removed in a future version\n",
      "  if getattr(data, 'base', None) is not None and \\\n"
     ]
    },
    {
     "name": "stdout",
     "output_type": "stream",
     "text": [
      "[14:37:06] WARNING: src/objective/regression_obj.cu:152: reg:linear is now deprecated in favor of reg:squarederror.\n"
     ]
    },
    {
     "name": "stderr",
     "output_type": "stream",
     "text": [
      "/Users/nelsonaldanamartinez/opt/anaconda3/lib/python3.7/site-packages/xgboost/core.py:587: FutureWarning: Series.base is deprecated and will be removed in a future version\n",
      "  if getattr(data, 'base', None) is not None and \\\n"
     ]
    },
    {
     "name": "stdout",
     "output_type": "stream",
     "text": [
      "[14:37:39] WARNING: src/objective/regression_obj.cu:152: reg:linear is now deprecated in favor of reg:squarederror.\n"
     ]
    },
    {
     "name": "stderr",
     "output_type": "stream",
     "text": [
      "/Users/nelsonaldanamartinez/opt/anaconda3/lib/python3.7/site-packages/xgboost/core.py:587: FutureWarning: Series.base is deprecated and will be removed in a future version\n",
      "  if getattr(data, 'base', None) is not None and \\\n"
     ]
    },
    {
     "name": "stdout",
     "output_type": "stream",
     "text": [
      "[14:38:16] WARNING: src/objective/regression_obj.cu:152: reg:linear is now deprecated in favor of reg:squarederror.\n"
     ]
    },
    {
     "name": "stderr",
     "output_type": "stream",
     "text": [
      "/Users/nelsonaldanamartinez/opt/anaconda3/lib/python3.7/site-packages/xgboost/core.py:587: FutureWarning: Series.base is deprecated and will be removed in a future version\n",
      "  if getattr(data, 'base', None) is not None and \\\n"
     ]
    },
    {
     "name": "stdout",
     "output_type": "stream",
     "text": [
      "[14:38:50] WARNING: src/objective/regression_obj.cu:152: reg:linear is now deprecated in favor of reg:squarederror.\n"
     ]
    },
    {
     "name": "stderr",
     "output_type": "stream",
     "text": [
      "/Users/nelsonaldanamartinez/opt/anaconda3/lib/python3.7/site-packages/xgboost/core.py:587: FutureWarning: Series.base is deprecated and will be removed in a future version\n",
      "  if getattr(data, 'base', None) is not None and \\\n"
     ]
    },
    {
     "name": "stdout",
     "output_type": "stream",
     "text": [
      "[14:39:23] WARNING: src/objective/regression_obj.cu:152: reg:linear is now deprecated in favor of reg:squarederror.\n"
     ]
    },
    {
     "name": "stderr",
     "output_type": "stream",
     "text": [
      "/Users/nelsonaldanamartinez/opt/anaconda3/lib/python3.7/site-packages/xgboost/core.py:587: FutureWarning: Series.base is deprecated and will be removed in a future version\n",
      "  if getattr(data, 'base', None) is not None and \\\n"
     ]
    },
    {
     "name": "stdout",
     "output_type": "stream",
     "text": [
      "[14:39:56] WARNING: src/objective/regression_obj.cu:152: reg:linear is now deprecated in favor of reg:squarederror.\n"
     ]
    },
    {
     "name": "stderr",
     "output_type": "stream",
     "text": [
      "/Users/nelsonaldanamartinez/opt/anaconda3/lib/python3.7/site-packages/xgboost/core.py:587: FutureWarning: Series.base is deprecated and will be removed in a future version\n",
      "  if getattr(data, 'base', None) is not None and \\\n"
     ]
    },
    {
     "name": "stdout",
     "output_type": "stream",
     "text": [
      "[14:40:29] WARNING: src/objective/regression_obj.cu:152: reg:linear is now deprecated in favor of reg:squarederror.\n"
     ]
    },
    {
     "name": "stderr",
     "output_type": "stream",
     "text": [
      "/Users/nelsonaldanamartinez/opt/anaconda3/lib/python3.7/site-packages/xgboost/core.py:587: FutureWarning: Series.base is deprecated and will be removed in a future version\n",
      "  if getattr(data, 'base', None) is not None and \\\n"
     ]
    },
    {
     "name": "stdout",
     "output_type": "stream",
     "text": [
      "[14:41:03] WARNING: src/objective/regression_obj.cu:152: reg:linear is now deprecated in favor of reg:squarederror.\n"
     ]
    },
    {
     "name": "stderr",
     "output_type": "stream",
     "text": [
      "/Users/nelsonaldanamartinez/opt/anaconda3/lib/python3.7/site-packages/xgboost/core.py:587: FutureWarning: Series.base is deprecated and will be removed in a future version\n",
      "  if getattr(data, 'base', None) is not None and \\\n"
     ]
    },
    {
     "name": "stdout",
     "output_type": "stream",
     "text": [
      "[14:41:36] WARNING: src/objective/regression_obj.cu:152: reg:linear is now deprecated in favor of reg:squarederror.\n"
     ]
    },
    {
     "name": "stderr",
     "output_type": "stream",
     "text": [
      "/Users/nelsonaldanamartinez/opt/anaconda3/lib/python3.7/site-packages/xgboost/core.py:587: FutureWarning: Series.base is deprecated and will be removed in a future version\n",
      "  if getattr(data, 'base', None) is not None and \\\n"
     ]
    },
    {
     "name": "stdout",
     "output_type": "stream",
     "text": [
      "[14:42:10] WARNING: src/objective/regression_obj.cu:152: reg:linear is now deprecated in favor of reg:squarederror.\n"
     ]
    },
    {
     "name": "stderr",
     "output_type": "stream",
     "text": [
      "/Users/nelsonaldanamartinez/opt/anaconda3/lib/python3.7/site-packages/xgboost/core.py:587: FutureWarning: Series.base is deprecated and will be removed in a future version\n",
      "  if getattr(data, 'base', None) is not None and \\\n"
     ]
    },
    {
     "name": "stdout",
     "output_type": "stream",
     "text": [
      "[14:42:44] WARNING: src/objective/regression_obj.cu:152: reg:linear is now deprecated in favor of reg:squarederror.\n"
     ]
    },
    {
     "name": "stderr",
     "output_type": "stream",
     "text": [
      "/Users/nelsonaldanamartinez/opt/anaconda3/lib/python3.7/site-packages/xgboost/core.py:587: FutureWarning: Series.base is deprecated and will be removed in a future version\n",
      "  if getattr(data, 'base', None) is not None and \\\n"
     ]
    },
    {
     "name": "stdout",
     "output_type": "stream",
     "text": [
      "[14:43:18] WARNING: src/objective/regression_obj.cu:152: reg:linear is now deprecated in favor of reg:squarederror.\n"
     ]
    },
    {
     "name": "stderr",
     "output_type": "stream",
     "text": [
      "/Users/nelsonaldanamartinez/opt/anaconda3/lib/python3.7/site-packages/xgboost/core.py:587: FutureWarning: Series.base is deprecated and will be removed in a future version\n",
      "  if getattr(data, 'base', None) is not None and \\\n"
     ]
    },
    {
     "name": "stdout",
     "output_type": "stream",
     "text": [
      "[14:43:52] WARNING: src/objective/regression_obj.cu:152: reg:linear is now deprecated in favor of reg:squarederror.\n"
     ]
    },
    {
     "name": "stderr",
     "output_type": "stream",
     "text": [
      "/Users/nelsonaldanamartinez/opt/anaconda3/lib/python3.7/site-packages/xgboost/core.py:587: FutureWarning: Series.base is deprecated and will be removed in a future version\n",
      "  if getattr(data, 'base', None) is not None and \\\n"
     ]
    },
    {
     "name": "stdout",
     "output_type": "stream",
     "text": [
      "[14:44:26] WARNING: src/objective/regression_obj.cu:152: reg:linear is now deprecated in favor of reg:squarederror.\n"
     ]
    },
    {
     "name": "stderr",
     "output_type": "stream",
     "text": [
      "/Users/nelsonaldanamartinez/opt/anaconda3/lib/python3.7/site-packages/xgboost/core.py:587: FutureWarning: Series.base is deprecated and will be removed in a future version\n",
      "  if getattr(data, 'base', None) is not None and \\\n"
     ]
    },
    {
     "name": "stdout",
     "output_type": "stream",
     "text": [
      "[14:44:59] WARNING: src/objective/regression_obj.cu:152: reg:linear is now deprecated in favor of reg:squarederror.\n"
     ]
    },
    {
     "name": "stderr",
     "output_type": "stream",
     "text": [
      "/Users/nelsonaldanamartinez/opt/anaconda3/lib/python3.7/site-packages/xgboost/core.py:587: FutureWarning: Series.base is deprecated and will be removed in a future version\n",
      "  if getattr(data, 'base', None) is not None and \\\n"
     ]
    },
    {
     "name": "stdout",
     "output_type": "stream",
     "text": [
      "[14:45:34] WARNING: src/objective/regression_obj.cu:152: reg:linear is now deprecated in favor of reg:squarederror.\n"
     ]
    },
    {
     "name": "stderr",
     "output_type": "stream",
     "text": [
      "/Users/nelsonaldanamartinez/opt/anaconda3/lib/python3.7/site-packages/xgboost/core.py:587: FutureWarning: Series.base is deprecated and will be removed in a future version\n",
      "  if getattr(data, 'base', None) is not None and \\\n"
     ]
    },
    {
     "name": "stdout",
     "output_type": "stream",
     "text": [
      "[14:46:08] WARNING: src/objective/regression_obj.cu:152: reg:linear is now deprecated in favor of reg:squarederror.\n"
     ]
    },
    {
     "name": "stderr",
     "output_type": "stream",
     "text": [
      "/Users/nelsonaldanamartinez/opt/anaconda3/lib/python3.7/site-packages/xgboost/core.py:587: FutureWarning: Series.base is deprecated and will be removed in a future version\n",
      "  if getattr(data, 'base', None) is not None and \\\n"
     ]
    },
    {
     "name": "stdout",
     "output_type": "stream",
     "text": [
      "[14:46:42] WARNING: src/objective/regression_obj.cu:152: reg:linear is now deprecated in favor of reg:squarederror.\n"
     ]
    },
    {
     "name": "stderr",
     "output_type": "stream",
     "text": [
      "/Users/nelsonaldanamartinez/opt/anaconda3/lib/python3.7/site-packages/xgboost/core.py:587: FutureWarning: Series.base is deprecated and will be removed in a future version\n",
      "  if getattr(data, 'base', None) is not None and \\\n"
     ]
    },
    {
     "name": "stdout",
     "output_type": "stream",
     "text": [
      "[14:47:17] WARNING: src/objective/regression_obj.cu:152: reg:linear is now deprecated in favor of reg:squarederror.\n"
     ]
    },
    {
     "name": "stderr",
     "output_type": "stream",
     "text": [
      "/Users/nelsonaldanamartinez/opt/anaconda3/lib/python3.7/site-packages/xgboost/core.py:587: FutureWarning: Series.base is deprecated and will be removed in a future version\n",
      "  if getattr(data, 'base', None) is not None and \\\n"
     ]
    },
    {
     "name": "stdout",
     "output_type": "stream",
     "text": [
      "[14:47:50] WARNING: src/objective/regression_obj.cu:152: reg:linear is now deprecated in favor of reg:squarederror.\n"
     ]
    },
    {
     "name": "stderr",
     "output_type": "stream",
     "text": [
      "/Users/nelsonaldanamartinez/opt/anaconda3/lib/python3.7/site-packages/xgboost/core.py:587: FutureWarning: Series.base is deprecated and will be removed in a future version\n",
      "  if getattr(data, 'base', None) is not None and \\\n"
     ]
    },
    {
     "name": "stdout",
     "output_type": "stream",
     "text": [
      "[14:48:25] WARNING: src/objective/regression_obj.cu:152: reg:linear is now deprecated in favor of reg:squarederror.\n"
     ]
    },
    {
     "name": "stderr",
     "output_type": "stream",
     "text": [
      "/Users/nelsonaldanamartinez/opt/anaconda3/lib/python3.7/site-packages/xgboost/core.py:587: FutureWarning: Series.base is deprecated and will be removed in a future version\n",
      "  if getattr(data, 'base', None) is not None and \\\n"
     ]
    },
    {
     "name": "stdout",
     "output_type": "stream",
     "text": [
      "[14:48:59] WARNING: src/objective/regression_obj.cu:152: reg:linear is now deprecated in favor of reg:squarederror.\n"
     ]
    },
    {
     "name": "stderr",
     "output_type": "stream",
     "text": [
      "/Users/nelsonaldanamartinez/opt/anaconda3/lib/python3.7/site-packages/xgboost/core.py:587: FutureWarning: Series.base is deprecated and will be removed in a future version\n",
      "  if getattr(data, 'base', None) is not None and \\\n"
     ]
    },
    {
     "name": "stdout",
     "output_type": "stream",
     "text": [
      "[14:49:33] WARNING: src/objective/regression_obj.cu:152: reg:linear is now deprecated in favor of reg:squarederror.\n"
     ]
    },
    {
     "name": "stderr",
     "output_type": "stream",
     "text": [
      "/Users/nelsonaldanamartinez/opt/anaconda3/lib/python3.7/site-packages/xgboost/core.py:587: FutureWarning: Series.base is deprecated and will be removed in a future version\n",
      "  if getattr(data, 'base', None) is not None and \\\n"
     ]
    },
    {
     "name": "stdout",
     "output_type": "stream",
     "text": [
      "[14:50:08] WARNING: src/objective/regression_obj.cu:152: reg:linear is now deprecated in favor of reg:squarederror.\n"
     ]
    },
    {
     "name": "stderr",
     "output_type": "stream",
     "text": [
      "/Users/nelsonaldanamartinez/opt/anaconda3/lib/python3.7/site-packages/xgboost/core.py:587: FutureWarning: Series.base is deprecated and will be removed in a future version\n",
      "  if getattr(data, 'base', None) is not None and \\\n"
     ]
    },
    {
     "name": "stdout",
     "output_type": "stream",
     "text": [
      "[14:50:41] WARNING: src/objective/regression_obj.cu:152: reg:linear is now deprecated in favor of reg:squarederror.\n"
     ]
    },
    {
     "name": "stderr",
     "output_type": "stream",
     "text": [
      "/Users/nelsonaldanamartinez/opt/anaconda3/lib/python3.7/site-packages/xgboost/core.py:587: FutureWarning: Series.base is deprecated and will be removed in a future version\n",
      "  if getattr(data, 'base', None) is not None and \\\n"
     ]
    },
    {
     "name": "stdout",
     "output_type": "stream",
     "text": [
      "[14:51:14] WARNING: src/objective/regression_obj.cu:152: reg:linear is now deprecated in favor of reg:squarederror.\n"
     ]
    },
    {
     "name": "stderr",
     "output_type": "stream",
     "text": [
      "/Users/nelsonaldanamartinez/opt/anaconda3/lib/python3.7/site-packages/xgboost/core.py:587: FutureWarning: Series.base is deprecated and will be removed in a future version\n",
      "  if getattr(data, 'base', None) is not None and \\\n"
     ]
    },
    {
     "name": "stdout",
     "output_type": "stream",
     "text": [
      "[14:51:48] WARNING: src/objective/regression_obj.cu:152: reg:linear is now deprecated in favor of reg:squarederror.\n"
     ]
    },
    {
     "name": "stderr",
     "output_type": "stream",
     "text": [
      "/Users/nelsonaldanamartinez/opt/anaconda3/lib/python3.7/site-packages/xgboost/core.py:587: FutureWarning: Series.base is deprecated and will be removed in a future version\n",
      "  if getattr(data, 'base', None) is not None and \\\n"
     ]
    },
    {
     "name": "stdout",
     "output_type": "stream",
     "text": [
      "[14:52:21] WARNING: src/objective/regression_obj.cu:152: reg:linear is now deprecated in favor of reg:squarederror.\n"
     ]
    },
    {
     "name": "stderr",
     "output_type": "stream",
     "text": [
      "/Users/nelsonaldanamartinez/opt/anaconda3/lib/python3.7/site-packages/xgboost/core.py:587: FutureWarning: Series.base is deprecated and will be removed in a future version\n",
      "  if getattr(data, 'base', None) is not None and \\\n"
     ]
    },
    {
     "name": "stdout",
     "output_type": "stream",
     "text": [
      "[14:52:55] WARNING: src/objective/regression_obj.cu:152: reg:linear is now deprecated in favor of reg:squarederror.\n"
     ]
    },
    {
     "name": "stderr",
     "output_type": "stream",
     "text": [
      "/Users/nelsonaldanamartinez/opt/anaconda3/lib/python3.7/site-packages/xgboost/core.py:587: FutureWarning: Series.base is deprecated and will be removed in a future version\n",
      "  if getattr(data, 'base', None) is not None and \\\n"
     ]
    },
    {
     "name": "stdout",
     "output_type": "stream",
     "text": [
      "[14:53:28] WARNING: src/objective/regression_obj.cu:152: reg:linear is now deprecated in favor of reg:squarederror.\n"
     ]
    },
    {
     "name": "stderr",
     "output_type": "stream",
     "text": [
      "/Users/nelsonaldanamartinez/opt/anaconda3/lib/python3.7/site-packages/xgboost/core.py:587: FutureWarning: Series.base is deprecated and will be removed in a future version\n",
      "  if getattr(data, 'base', None) is not None and \\\n"
     ]
    },
    {
     "name": "stdout",
     "output_type": "stream",
     "text": [
      "[14:54:02] WARNING: src/objective/regression_obj.cu:152: reg:linear is now deprecated in favor of reg:squarederror.\n"
     ]
    },
    {
     "name": "stderr",
     "output_type": "stream",
     "text": [
      "/Users/nelsonaldanamartinez/opt/anaconda3/lib/python3.7/site-packages/xgboost/core.py:587: FutureWarning: Series.base is deprecated and will be removed in a future version\n",
      "  if getattr(data, 'base', None) is not None and \\\n"
     ]
    },
    {
     "name": "stdout",
     "output_type": "stream",
     "text": [
      "[14:54:36] WARNING: src/objective/regression_obj.cu:152: reg:linear is now deprecated in favor of reg:squarederror.\n"
     ]
    },
    {
     "name": "stderr",
     "output_type": "stream",
     "text": [
      "/Users/nelsonaldanamartinez/opt/anaconda3/lib/python3.7/site-packages/xgboost/core.py:587: FutureWarning: Series.base is deprecated and will be removed in a future version\n",
      "  if getattr(data, 'base', None) is not None and \\\n"
     ]
    },
    {
     "name": "stdout",
     "output_type": "stream",
     "text": [
      "[14:55:10] WARNING: src/objective/regression_obj.cu:152: reg:linear is now deprecated in favor of reg:squarederror.\n"
     ]
    },
    {
     "name": "stderr",
     "output_type": "stream",
     "text": [
      "/Users/nelsonaldanamartinez/opt/anaconda3/lib/python3.7/site-packages/xgboost/core.py:587: FutureWarning: Series.base is deprecated and will be removed in a future version\n",
      "  if getattr(data, 'base', None) is not None and \\\n"
     ]
    },
    {
     "name": "stdout",
     "output_type": "stream",
     "text": [
      "[14:55:42] WARNING: src/objective/regression_obj.cu:152: reg:linear is now deprecated in favor of reg:squarederror.\n"
     ]
    },
    {
     "name": "stderr",
     "output_type": "stream",
     "text": [
      "/Users/nelsonaldanamartinez/opt/anaconda3/lib/python3.7/site-packages/xgboost/core.py:587: FutureWarning: Series.base is deprecated and will be removed in a future version\n",
      "  if getattr(data, 'base', None) is not None and \\\n"
     ]
    },
    {
     "name": "stdout",
     "output_type": "stream",
     "text": [
      "[14:56:14] WARNING: src/objective/regression_obj.cu:152: reg:linear is now deprecated in favor of reg:squarederror.\n"
     ]
    },
    {
     "name": "stderr",
     "output_type": "stream",
     "text": [
      "/Users/nelsonaldanamartinez/opt/anaconda3/lib/python3.7/site-packages/xgboost/core.py:587: FutureWarning: Series.base is deprecated and will be removed in a future version\n",
      "  if getattr(data, 'base', None) is not None and \\\n"
     ]
    },
    {
     "name": "stdout",
     "output_type": "stream",
     "text": [
      "[14:56:46] WARNING: src/objective/regression_obj.cu:152: reg:linear is now deprecated in favor of reg:squarederror.\n"
     ]
    },
    {
     "name": "stderr",
     "output_type": "stream",
     "text": [
      "/Users/nelsonaldanamartinez/opt/anaconda3/lib/python3.7/site-packages/xgboost/core.py:587: FutureWarning: Series.base is deprecated and will be removed in a future version\n",
      "  if getattr(data, 'base', None) is not None and \\\n"
     ]
    },
    {
     "name": "stdout",
     "output_type": "stream",
     "text": [
      "[14:57:17] WARNING: src/objective/regression_obj.cu:152: reg:linear is now deprecated in favor of reg:squarederror.\n"
     ]
    },
    {
     "name": "stderr",
     "output_type": "stream",
     "text": [
      "/Users/nelsonaldanamartinez/opt/anaconda3/lib/python3.7/site-packages/xgboost/core.py:587: FutureWarning: Series.base is deprecated and will be removed in a future version\n",
      "  if getattr(data, 'base', None) is not None and \\\n"
     ]
    },
    {
     "name": "stdout",
     "output_type": "stream",
     "text": [
      "[14:57:48] WARNING: src/objective/regression_obj.cu:152: reg:linear is now deprecated in favor of reg:squarederror.\n"
     ]
    },
    {
     "name": "stderr",
     "output_type": "stream",
     "text": [
      "/Users/nelsonaldanamartinez/opt/anaconda3/lib/python3.7/site-packages/xgboost/core.py:587: FutureWarning: Series.base is deprecated and will be removed in a future version\n",
      "  if getattr(data, 'base', None) is not None and \\\n"
     ]
    },
    {
     "name": "stdout",
     "output_type": "stream",
     "text": [
      "[14:58:18] WARNING: src/objective/regression_obj.cu:152: reg:linear is now deprecated in favor of reg:squarederror.\n"
     ]
    },
    {
     "name": "stderr",
     "output_type": "stream",
     "text": [
      "/Users/nelsonaldanamartinez/opt/anaconda3/lib/python3.7/site-packages/xgboost/core.py:587: FutureWarning: Series.base is deprecated and will be removed in a future version\n",
      "  if getattr(data, 'base', None) is not None and \\\n"
     ]
    },
    {
     "name": "stdout",
     "output_type": "stream",
     "text": [
      "[14:58:48] WARNING: src/objective/regression_obj.cu:152: reg:linear is now deprecated in favor of reg:squarederror.\n"
     ]
    },
    {
     "name": "stderr",
     "output_type": "stream",
     "text": [
      "/Users/nelsonaldanamartinez/opt/anaconda3/lib/python3.7/site-packages/xgboost/core.py:587: FutureWarning: Series.base is deprecated and will be removed in a future version\n",
      "  if getattr(data, 'base', None) is not None and \\\n"
     ]
    },
    {
     "name": "stdout",
     "output_type": "stream",
     "text": [
      "[14:59:19] WARNING: src/objective/regression_obj.cu:152: reg:linear is now deprecated in favor of reg:squarederror.\n"
     ]
    },
    {
     "name": "stderr",
     "output_type": "stream",
     "text": [
      "/Users/nelsonaldanamartinez/opt/anaconda3/lib/python3.7/site-packages/xgboost/core.py:587: FutureWarning: Series.base is deprecated and will be removed in a future version\n",
      "  if getattr(data, 'base', None) is not None and \\\n"
     ]
    },
    {
     "name": "stdout",
     "output_type": "stream",
     "text": [
      "[14:59:53] WARNING: src/objective/regression_obj.cu:152: reg:linear is now deprecated in favor of reg:squarederror.\n"
     ]
    },
    {
     "name": "stderr",
     "output_type": "stream",
     "text": [
      "/Users/nelsonaldanamartinez/opt/anaconda3/lib/python3.7/site-packages/xgboost/core.py:587: FutureWarning: Series.base is deprecated and will be removed in a future version\n",
      "  if getattr(data, 'base', None) is not None and \\\n"
     ]
    },
    {
     "name": "stdout",
     "output_type": "stream",
     "text": [
      "[15:00:26] WARNING: src/objective/regression_obj.cu:152: reg:linear is now deprecated in favor of reg:squarederror.\n"
     ]
    },
    {
     "name": "stderr",
     "output_type": "stream",
     "text": [
      "/Users/nelsonaldanamartinez/opt/anaconda3/lib/python3.7/site-packages/xgboost/core.py:587: FutureWarning: Series.base is deprecated and will be removed in a future version\n",
      "  if getattr(data, 'base', None) is not None and \\\n"
     ]
    },
    {
     "name": "stdout",
     "output_type": "stream",
     "text": [
      "[15:01:00] WARNING: src/objective/regression_obj.cu:152: reg:linear is now deprecated in favor of reg:squarederror.\n"
     ]
    },
    {
     "name": "stderr",
     "output_type": "stream",
     "text": [
      "/Users/nelsonaldanamartinez/opt/anaconda3/lib/python3.7/site-packages/xgboost/core.py:587: FutureWarning: Series.base is deprecated and will be removed in a future version\n",
      "  if getattr(data, 'base', None) is not None and \\\n"
     ]
    },
    {
     "name": "stdout",
     "output_type": "stream",
     "text": [
      "[15:01:32] WARNING: src/objective/regression_obj.cu:152: reg:linear is now deprecated in favor of reg:squarederror.\n"
     ]
    },
    {
     "name": "stderr",
     "output_type": "stream",
     "text": [
      "/Users/nelsonaldanamartinez/opt/anaconda3/lib/python3.7/site-packages/xgboost/core.py:587: FutureWarning: Series.base is deprecated and will be removed in a future version\n",
      "  if getattr(data, 'base', None) is not None and \\\n"
     ]
    },
    {
     "name": "stdout",
     "output_type": "stream",
     "text": [
      "[15:02:06] WARNING: src/objective/regression_obj.cu:152: reg:linear is now deprecated in favor of reg:squarederror.\n"
     ]
    },
    {
     "name": "stderr",
     "output_type": "stream",
     "text": [
      "/Users/nelsonaldanamartinez/opt/anaconda3/lib/python3.7/site-packages/xgboost/core.py:587: FutureWarning: Series.base is deprecated and will be removed in a future version\n",
      "  if getattr(data, 'base', None) is not None and \\\n"
     ]
    },
    {
     "name": "stdout",
     "output_type": "stream",
     "text": [
      "[15:02:39] WARNING: src/objective/regression_obj.cu:152: reg:linear is now deprecated in favor of reg:squarederror.\n"
     ]
    },
    {
     "name": "stderr",
     "output_type": "stream",
     "text": [
      "/Users/nelsonaldanamartinez/opt/anaconda3/lib/python3.7/site-packages/xgboost/core.py:587: FutureWarning: Series.base is deprecated and will be removed in a future version\n",
      "  if getattr(data, 'base', None) is not None and \\\n"
     ]
    },
    {
     "name": "stdout",
     "output_type": "stream",
     "text": [
      "[15:03:14] WARNING: src/objective/regression_obj.cu:152: reg:linear is now deprecated in favor of reg:squarederror.\n"
     ]
    },
    {
     "name": "stderr",
     "output_type": "stream",
     "text": [
      "/Users/nelsonaldanamartinez/opt/anaconda3/lib/python3.7/site-packages/xgboost/core.py:587: FutureWarning: Series.base is deprecated and will be removed in a future version\n",
      "  if getattr(data, 'base', None) is not None and \\\n"
     ]
    },
    {
     "name": "stdout",
     "output_type": "stream",
     "text": [
      "[15:03:48] WARNING: src/objective/regression_obj.cu:152: reg:linear is now deprecated in favor of reg:squarederror.\n"
     ]
    },
    {
     "name": "stderr",
     "output_type": "stream",
     "text": [
      "/Users/nelsonaldanamartinez/opt/anaconda3/lib/python3.7/site-packages/xgboost/core.py:587: FutureWarning: Series.base is deprecated and will be removed in a future version\n",
      "  if getattr(data, 'base', None) is not None and \\\n"
     ]
    },
    {
     "name": "stdout",
     "output_type": "stream",
     "text": [
      "[15:04:22] WARNING: src/objective/regression_obj.cu:152: reg:linear is now deprecated in favor of reg:squarederror.\n"
     ]
    },
    {
     "name": "stderr",
     "output_type": "stream",
     "text": [
      "/Users/nelsonaldanamartinez/opt/anaconda3/lib/python3.7/site-packages/xgboost/core.py:587: FutureWarning: Series.base is deprecated and will be removed in a future version\n",
      "  if getattr(data, 'base', None) is not None and \\\n"
     ]
    },
    {
     "name": "stdout",
     "output_type": "stream",
     "text": [
      "[15:04:56] WARNING: src/objective/regression_obj.cu:152: reg:linear is now deprecated in favor of reg:squarederror.\n"
     ]
    },
    {
     "name": "stderr",
     "output_type": "stream",
     "text": [
      "/Users/nelsonaldanamartinez/opt/anaconda3/lib/python3.7/site-packages/xgboost/core.py:587: FutureWarning: Series.base is deprecated and will be removed in a future version\n",
      "  if getattr(data, 'base', None) is not None and \\\n"
     ]
    },
    {
     "name": "stdout",
     "output_type": "stream",
     "text": [
      "[15:05:29] WARNING: src/objective/regression_obj.cu:152: reg:linear is now deprecated in favor of reg:squarederror.\n"
     ]
    },
    {
     "name": "stderr",
     "output_type": "stream",
     "text": [
      "/Users/nelsonaldanamartinez/opt/anaconda3/lib/python3.7/site-packages/xgboost/core.py:587: FutureWarning: Series.base is deprecated and will be removed in a future version\n",
      "  if getattr(data, 'base', None) is not None and \\\n"
     ]
    },
    {
     "name": "stdout",
     "output_type": "stream",
     "text": [
      "[15:06:02] WARNING: src/objective/regression_obj.cu:152: reg:linear is now deprecated in favor of reg:squarederror.\n"
     ]
    },
    {
     "name": "stderr",
     "output_type": "stream",
     "text": [
      "/Users/nelsonaldanamartinez/opt/anaconda3/lib/python3.7/site-packages/xgboost/core.py:587: FutureWarning: Series.base is deprecated and will be removed in a future version\n",
      "  if getattr(data, 'base', None) is not None and \\\n"
     ]
    },
    {
     "name": "stdout",
     "output_type": "stream",
     "text": [
      "[15:06:36] WARNING: src/objective/regression_obj.cu:152: reg:linear is now deprecated in favor of reg:squarederror.\n"
     ]
    },
    {
     "name": "stderr",
     "output_type": "stream",
     "text": [
      "/Users/nelsonaldanamartinez/opt/anaconda3/lib/python3.7/site-packages/xgboost/core.py:587: FutureWarning: Series.base is deprecated and will be removed in a future version\n",
      "  if getattr(data, 'base', None) is not None and \\\n"
     ]
    },
    {
     "name": "stdout",
     "output_type": "stream",
     "text": [
      "[15:07:11] WARNING: src/objective/regression_obj.cu:152: reg:linear is now deprecated in favor of reg:squarederror.\n"
     ]
    },
    {
     "name": "stderr",
     "output_type": "stream",
     "text": [
      "/Users/nelsonaldanamartinez/opt/anaconda3/lib/python3.7/site-packages/xgboost/core.py:587: FutureWarning: Series.base is deprecated and will be removed in a future version\n",
      "  if getattr(data, 'base', None) is not None and \\\n"
     ]
    },
    {
     "name": "stdout",
     "output_type": "stream",
     "text": [
      "[15:07:45] WARNING: src/objective/regression_obj.cu:152: reg:linear is now deprecated in favor of reg:squarederror.\n"
     ]
    },
    {
     "name": "stderr",
     "output_type": "stream",
     "text": [
      "/Users/nelsonaldanamartinez/opt/anaconda3/lib/python3.7/site-packages/xgboost/core.py:587: FutureWarning: Series.base is deprecated and will be removed in a future version\n",
      "  if getattr(data, 'base', None) is not None and \\\n"
     ]
    },
    {
     "name": "stdout",
     "output_type": "stream",
     "text": [
      "[15:08:19] WARNING: src/objective/regression_obj.cu:152: reg:linear is now deprecated in favor of reg:squarederror.\n"
     ]
    },
    {
     "name": "stderr",
     "output_type": "stream",
     "text": [
      "/Users/nelsonaldanamartinez/opt/anaconda3/lib/python3.7/site-packages/xgboost/core.py:587: FutureWarning: Series.base is deprecated and will be removed in a future version\n",
      "  if getattr(data, 'base', None) is not None and \\\n"
     ]
    },
    {
     "name": "stdout",
     "output_type": "stream",
     "text": [
      "[15:08:52] WARNING: src/objective/regression_obj.cu:152: reg:linear is now deprecated in favor of reg:squarederror.\n"
     ]
    },
    {
     "name": "stderr",
     "output_type": "stream",
     "text": [
      "/Users/nelsonaldanamartinez/opt/anaconda3/lib/python3.7/site-packages/xgboost/core.py:587: FutureWarning: Series.base is deprecated and will be removed in a future version\n",
      "  if getattr(data, 'base', None) is not None and \\\n"
     ]
    },
    {
     "name": "stdout",
     "output_type": "stream",
     "text": [
      "[15:09:26] WARNING: src/objective/regression_obj.cu:152: reg:linear is now deprecated in favor of reg:squarederror.\n"
     ]
    },
    {
     "name": "stderr",
     "output_type": "stream",
     "text": [
      "/Users/nelsonaldanamartinez/opt/anaconda3/lib/python3.7/site-packages/xgboost/core.py:587: FutureWarning: Series.base is deprecated and will be removed in a future version\n",
      "  if getattr(data, 'base', None) is not None and \\\n"
     ]
    },
    {
     "name": "stdout",
     "output_type": "stream",
     "text": [
      "[15:10:01] WARNING: src/objective/regression_obj.cu:152: reg:linear is now deprecated in favor of reg:squarederror.\n"
     ]
    },
    {
     "name": "stderr",
     "output_type": "stream",
     "text": [
      "/Users/nelsonaldanamartinez/opt/anaconda3/lib/python3.7/site-packages/xgboost/core.py:587: FutureWarning: Series.base is deprecated and will be removed in a future version\n",
      "  if getattr(data, 'base', None) is not None and \\\n"
     ]
    },
    {
     "name": "stdout",
     "output_type": "stream",
     "text": [
      "[15:10:34] WARNING: src/objective/regression_obj.cu:152: reg:linear is now deprecated in favor of reg:squarederror.\n"
     ]
    },
    {
     "name": "stderr",
     "output_type": "stream",
     "text": [
      "/Users/nelsonaldanamartinez/opt/anaconda3/lib/python3.7/site-packages/xgboost/core.py:587: FutureWarning: Series.base is deprecated and will be removed in a future version\n",
      "  if getattr(data, 'base', None) is not None and \\\n"
     ]
    },
    {
     "name": "stdout",
     "output_type": "stream",
     "text": [
      "[15:11:08] WARNING: src/objective/regression_obj.cu:152: reg:linear is now deprecated in favor of reg:squarederror.\n"
     ]
    },
    {
     "name": "stderr",
     "output_type": "stream",
     "text": [
      "/Users/nelsonaldanamartinez/opt/anaconda3/lib/python3.7/site-packages/xgboost/core.py:587: FutureWarning: Series.base is deprecated and will be removed in a future version\n",
      "  if getattr(data, 'base', None) is not None and \\\n"
     ]
    },
    {
     "name": "stdout",
     "output_type": "stream",
     "text": [
      "[15:11:42] WARNING: src/objective/regression_obj.cu:152: reg:linear is now deprecated in favor of reg:squarederror.\n"
     ]
    },
    {
     "name": "stderr",
     "output_type": "stream",
     "text": [
      "/Users/nelsonaldanamartinez/opt/anaconda3/lib/python3.7/site-packages/xgboost/core.py:587: FutureWarning: Series.base is deprecated and will be removed in a future version\n",
      "  if getattr(data, 'base', None) is not None and \\\n"
     ]
    },
    {
     "name": "stdout",
     "output_type": "stream",
     "text": [
      "[15:12:18] WARNING: src/objective/regression_obj.cu:152: reg:linear is now deprecated in favor of reg:squarederror.\n"
     ]
    },
    {
     "name": "stderr",
     "output_type": "stream",
     "text": [
      "/Users/nelsonaldanamartinez/opt/anaconda3/lib/python3.7/site-packages/xgboost/core.py:587: FutureWarning: Series.base is deprecated and will be removed in a future version\n",
      "  if getattr(data, 'base', None) is not None and \\\n"
     ]
    },
    {
     "name": "stdout",
     "output_type": "stream",
     "text": [
      "[15:12:52] WARNING: src/objective/regression_obj.cu:152: reg:linear is now deprecated in favor of reg:squarederror.\n"
     ]
    },
    {
     "name": "stderr",
     "output_type": "stream",
     "text": [
      "/Users/nelsonaldanamartinez/opt/anaconda3/lib/python3.7/site-packages/xgboost/core.py:587: FutureWarning: Series.base is deprecated and will be removed in a future version\n",
      "  if getattr(data, 'base', None) is not None and \\\n"
     ]
    },
    {
     "name": "stdout",
     "output_type": "stream",
     "text": [
      "[15:13:27] WARNING: src/objective/regression_obj.cu:152: reg:linear is now deprecated in favor of reg:squarederror.\n"
     ]
    },
    {
     "name": "stderr",
     "output_type": "stream",
     "text": [
      "/Users/nelsonaldanamartinez/opt/anaconda3/lib/python3.7/site-packages/xgboost/core.py:587: FutureWarning: Series.base is deprecated and will be removed in a future version\n",
      "  if getattr(data, 'base', None) is not None and \\\n"
     ]
    },
    {
     "name": "stdout",
     "output_type": "stream",
     "text": [
      "[15:14:02] WARNING: src/objective/regression_obj.cu:152: reg:linear is now deprecated in favor of reg:squarederror.\n"
     ]
    },
    {
     "name": "stderr",
     "output_type": "stream",
     "text": [
      "/Users/nelsonaldanamartinez/opt/anaconda3/lib/python3.7/site-packages/xgboost/core.py:587: FutureWarning: Series.base is deprecated and will be removed in a future version\n",
      "  if getattr(data, 'base', None) is not None and \\\n"
     ]
    },
    {
     "name": "stdout",
     "output_type": "stream",
     "text": [
      "[15:14:36] WARNING: src/objective/regression_obj.cu:152: reg:linear is now deprecated in favor of reg:squarederror.\n"
     ]
    },
    {
     "name": "stderr",
     "output_type": "stream",
     "text": [
      "/Users/nelsonaldanamartinez/opt/anaconda3/lib/python3.7/site-packages/xgboost/core.py:587: FutureWarning: Series.base is deprecated and will be removed in a future version\n",
      "  if getattr(data, 'base', None) is not None and \\\n"
     ]
    },
    {
     "name": "stdout",
     "output_type": "stream",
     "text": [
      "[15:15:10] WARNING: src/objective/regression_obj.cu:152: reg:linear is now deprecated in favor of reg:squarederror.\n"
     ]
    },
    {
     "name": "stderr",
     "output_type": "stream",
     "text": [
      "/Users/nelsonaldanamartinez/opt/anaconda3/lib/python3.7/site-packages/xgboost/core.py:587: FutureWarning: Series.base is deprecated and will be removed in a future version\n",
      "  if getattr(data, 'base', None) is not None and \\\n"
     ]
    },
    {
     "name": "stdout",
     "output_type": "stream",
     "text": [
      "[15:15:44] WARNING: src/objective/regression_obj.cu:152: reg:linear is now deprecated in favor of reg:squarederror.\n"
     ]
    },
    {
     "name": "stderr",
     "output_type": "stream",
     "text": [
      "/Users/nelsonaldanamartinez/opt/anaconda3/lib/python3.7/site-packages/xgboost/core.py:587: FutureWarning: Series.base is deprecated and will be removed in a future version\n",
      "  if getattr(data, 'base', None) is not None and \\\n"
     ]
    },
    {
     "name": "stdout",
     "output_type": "stream",
     "text": [
      "[15:16:18] WARNING: src/objective/regression_obj.cu:152: reg:linear is now deprecated in favor of reg:squarederror.\n"
     ]
    },
    {
     "name": "stderr",
     "output_type": "stream",
     "text": [
      "/Users/nelsonaldanamartinez/opt/anaconda3/lib/python3.7/site-packages/xgboost/core.py:587: FutureWarning: Series.base is deprecated and will be removed in a future version\n",
      "  if getattr(data, 'base', None) is not None and \\\n"
     ]
    },
    {
     "name": "stdout",
     "output_type": "stream",
     "text": [
      "[15:16:53] WARNING: src/objective/regression_obj.cu:152: reg:linear is now deprecated in favor of reg:squarederror.\n"
     ]
    },
    {
     "name": "stderr",
     "output_type": "stream",
     "text": [
      "/Users/nelsonaldanamartinez/opt/anaconda3/lib/python3.7/site-packages/xgboost/core.py:587: FutureWarning: Series.base is deprecated and will be removed in a future version\n",
      "  if getattr(data, 'base', None) is not None and \\\n"
     ]
    },
    {
     "name": "stdout",
     "output_type": "stream",
     "text": [
      "[15:17:27] WARNING: src/objective/regression_obj.cu:152: reg:linear is now deprecated in favor of reg:squarederror.\n"
     ]
    },
    {
     "name": "stderr",
     "output_type": "stream",
     "text": [
      "/Users/nelsonaldanamartinez/opt/anaconda3/lib/python3.7/site-packages/xgboost/core.py:587: FutureWarning: Series.base is deprecated and will be removed in a future version\n",
      "  if getattr(data, 'base', None) is not None and \\\n"
     ]
    },
    {
     "name": "stdout",
     "output_type": "stream",
     "text": [
      "[15:18:01] WARNING: src/objective/regression_obj.cu:152: reg:linear is now deprecated in favor of reg:squarederror.\n"
     ]
    },
    {
     "name": "stderr",
     "output_type": "stream",
     "text": [
      "/Users/nelsonaldanamartinez/opt/anaconda3/lib/python3.7/site-packages/xgboost/core.py:587: FutureWarning: Series.base is deprecated and will be removed in a future version\n",
      "  if getattr(data, 'base', None) is not None and \\\n"
     ]
    },
    {
     "name": "stdout",
     "output_type": "stream",
     "text": [
      "[15:18:37] WARNING: src/objective/regression_obj.cu:152: reg:linear is now deprecated in favor of reg:squarederror.\n"
     ]
    },
    {
     "name": "stderr",
     "output_type": "stream",
     "text": [
      "/Users/nelsonaldanamartinez/opt/anaconda3/lib/python3.7/site-packages/xgboost/core.py:587: FutureWarning: Series.base is deprecated and will be removed in a future version\n",
      "  if getattr(data, 'base', None) is not None and \\\n"
     ]
    },
    {
     "name": "stdout",
     "output_type": "stream",
     "text": [
      "[15:19:10] WARNING: src/objective/regression_obj.cu:152: reg:linear is now deprecated in favor of reg:squarederror.\n"
     ]
    },
    {
     "name": "stderr",
     "output_type": "stream",
     "text": [
      "/Users/nelsonaldanamartinez/opt/anaconda3/lib/python3.7/site-packages/xgboost/core.py:587: FutureWarning: Series.base is deprecated and will be removed in a future version\n",
      "  if getattr(data, 'base', None) is not None and \\\n"
     ]
    },
    {
     "name": "stdout",
     "output_type": "stream",
     "text": [
      "[15:19:44] WARNING: src/objective/regression_obj.cu:152: reg:linear is now deprecated in favor of reg:squarederror.\n"
     ]
    },
    {
     "name": "stderr",
     "output_type": "stream",
     "text": [
      "/Users/nelsonaldanamartinez/opt/anaconda3/lib/python3.7/site-packages/xgboost/core.py:587: FutureWarning: Series.base is deprecated and will be removed in a future version\n",
      "  if getattr(data, 'base', None) is not None and \\\n"
     ]
    },
    {
     "name": "stdout",
     "output_type": "stream",
     "text": [
      "[15:20:19] WARNING: src/objective/regression_obj.cu:152: reg:linear is now deprecated in favor of reg:squarederror.\n"
     ]
    },
    {
     "name": "stderr",
     "output_type": "stream",
     "text": [
      "/Users/nelsonaldanamartinez/opt/anaconda3/lib/python3.7/site-packages/xgboost/core.py:587: FutureWarning: Series.base is deprecated and will be removed in a future version\n",
      "  if getattr(data, 'base', None) is not None and \\\n"
     ]
    },
    {
     "name": "stdout",
     "output_type": "stream",
     "text": [
      "[15:20:53] WARNING: src/objective/regression_obj.cu:152: reg:linear is now deprecated in favor of reg:squarederror.\n"
     ]
    },
    {
     "name": "stderr",
     "output_type": "stream",
     "text": [
      "/Users/nelsonaldanamartinez/opt/anaconda3/lib/python3.7/site-packages/xgboost/core.py:587: FutureWarning: Series.base is deprecated and will be removed in a future version\n",
      "  if getattr(data, 'base', None) is not None and \\\n"
     ]
    },
    {
     "name": "stdout",
     "output_type": "stream",
     "text": [
      "[15:21:27] WARNING: src/objective/regression_obj.cu:152: reg:linear is now deprecated in favor of reg:squarederror.\n"
     ]
    },
    {
     "name": "stderr",
     "output_type": "stream",
     "text": [
      "/Users/nelsonaldanamartinez/opt/anaconda3/lib/python3.7/site-packages/xgboost/core.py:587: FutureWarning: Series.base is deprecated and will be removed in a future version\n",
      "  if getattr(data, 'base', None) is not None and \\\n"
     ]
    },
    {
     "name": "stdout",
     "output_type": "stream",
     "text": [
      "[15:22:01] WARNING: src/objective/regression_obj.cu:152: reg:linear is now deprecated in favor of reg:squarederror.\n"
     ]
    },
    {
     "name": "stderr",
     "output_type": "stream",
     "text": [
      "/Users/nelsonaldanamartinez/opt/anaconda3/lib/python3.7/site-packages/xgboost/core.py:587: FutureWarning: Series.base is deprecated and will be removed in a future version\n",
      "  if getattr(data, 'base', None) is not None and \\\n"
     ]
    },
    {
     "name": "stdout",
     "output_type": "stream",
     "text": [
      "[15:22:34] WARNING: src/objective/regression_obj.cu:152: reg:linear is now deprecated in favor of reg:squarederror.\n"
     ]
    },
    {
     "name": "stderr",
     "output_type": "stream",
     "text": [
      "/Users/nelsonaldanamartinez/opt/anaconda3/lib/python3.7/site-packages/xgboost/core.py:587: FutureWarning: Series.base is deprecated and will be removed in a future version\n",
      "  if getattr(data, 'base', None) is not None and \\\n"
     ]
    },
    {
     "name": "stdout",
     "output_type": "stream",
     "text": [
      "[15:23:08] WARNING: src/objective/regression_obj.cu:152: reg:linear is now deprecated in favor of reg:squarederror.\n"
     ]
    },
    {
     "name": "stderr",
     "output_type": "stream",
     "text": [
      "/Users/nelsonaldanamartinez/opt/anaconda3/lib/python3.7/site-packages/xgboost/core.py:587: FutureWarning: Series.base is deprecated and will be removed in a future version\n",
      "  if getattr(data, 'base', None) is not None and \\\n"
     ]
    },
    {
     "name": "stdout",
     "output_type": "stream",
     "text": [
      "[15:23:42] WARNING: src/objective/regression_obj.cu:152: reg:linear is now deprecated in favor of reg:squarederror.\n"
     ]
    },
    {
     "name": "stderr",
     "output_type": "stream",
     "text": [
      "/Users/nelsonaldanamartinez/opt/anaconda3/lib/python3.7/site-packages/xgboost/core.py:587: FutureWarning: Series.base is deprecated and will be removed in a future version\n",
      "  if getattr(data, 'base', None) is not None and \\\n"
     ]
    },
    {
     "name": "stdout",
     "output_type": "stream",
     "text": [
      "[15:24:16] WARNING: src/objective/regression_obj.cu:152: reg:linear is now deprecated in favor of reg:squarederror.\n"
     ]
    },
    {
     "name": "stderr",
     "output_type": "stream",
     "text": [
      "/Users/nelsonaldanamartinez/opt/anaconda3/lib/python3.7/site-packages/xgboost/core.py:587: FutureWarning: Series.base is deprecated and will be removed in a future version\n",
      "  if getattr(data, 'base', None) is not None and \\\n"
     ]
    },
    {
     "name": "stdout",
     "output_type": "stream",
     "text": [
      "[15:24:50] WARNING: src/objective/regression_obj.cu:152: reg:linear is now deprecated in favor of reg:squarederror.\n"
     ]
    },
    {
     "name": "stderr",
     "output_type": "stream",
     "text": [
      "/Users/nelsonaldanamartinez/opt/anaconda3/lib/python3.7/site-packages/xgboost/core.py:587: FutureWarning: Series.base is deprecated and will be removed in a future version\n",
      "  if getattr(data, 'base', None) is not None and \\\n"
     ]
    },
    {
     "name": "stdout",
     "output_type": "stream",
     "text": [
      "[15:25:24] WARNING: src/objective/regression_obj.cu:152: reg:linear is now deprecated in favor of reg:squarederror.\n"
     ]
    },
    {
     "name": "stderr",
     "output_type": "stream",
     "text": [
      "/Users/nelsonaldanamartinez/opt/anaconda3/lib/python3.7/site-packages/xgboost/core.py:587: FutureWarning: Series.base is deprecated and will be removed in a future version\n",
      "  if getattr(data, 'base', None) is not None and \\\n"
     ]
    },
    {
     "name": "stdout",
     "output_type": "stream",
     "text": [
      "[15:25:57] WARNING: src/objective/regression_obj.cu:152: reg:linear is now deprecated in favor of reg:squarederror.\n"
     ]
    },
    {
     "name": "stderr",
     "output_type": "stream",
     "text": [
      "/Users/nelsonaldanamartinez/opt/anaconda3/lib/python3.7/site-packages/xgboost/core.py:587: FutureWarning: Series.base is deprecated and will be removed in a future version\n",
      "  if getattr(data, 'base', None) is not None and \\\n"
     ]
    },
    {
     "name": "stdout",
     "output_type": "stream",
     "text": [
      "[15:26:31] WARNING: src/objective/regression_obj.cu:152: reg:linear is now deprecated in favor of reg:squarederror.\n"
     ]
    },
    {
     "name": "stderr",
     "output_type": "stream",
     "text": [
      "/Users/nelsonaldanamartinez/opt/anaconda3/lib/python3.7/site-packages/xgboost/core.py:587: FutureWarning: Series.base is deprecated and will be removed in a future version\n",
      "  if getattr(data, 'base', None) is not None and \\\n"
     ]
    },
    {
     "name": "stdout",
     "output_type": "stream",
     "text": [
      "[15:27:05] WARNING: src/objective/regression_obj.cu:152: reg:linear is now deprecated in favor of reg:squarederror.\n"
     ]
    },
    {
     "name": "stderr",
     "output_type": "stream",
     "text": [
      "/Users/nelsonaldanamartinez/opt/anaconda3/lib/python3.7/site-packages/xgboost/core.py:587: FutureWarning: Series.base is deprecated and will be removed in a future version\n",
      "  if getattr(data, 'base', None) is not None and \\\n"
     ]
    },
    {
     "name": "stdout",
     "output_type": "stream",
     "text": [
      "[15:27:39] WARNING: src/objective/regression_obj.cu:152: reg:linear is now deprecated in favor of reg:squarederror.\n"
     ]
    },
    {
     "name": "stderr",
     "output_type": "stream",
     "text": [
      "/Users/nelsonaldanamartinez/opt/anaconda3/lib/python3.7/site-packages/xgboost/core.py:587: FutureWarning: Series.base is deprecated and will be removed in a future version\n",
      "  if getattr(data, 'base', None) is not None and \\\n"
     ]
    },
    {
     "name": "stdout",
     "output_type": "stream",
     "text": [
      "[15:28:12] WARNING: src/objective/regression_obj.cu:152: reg:linear is now deprecated in favor of reg:squarederror.\n"
     ]
    },
    {
     "name": "stderr",
     "output_type": "stream",
     "text": [
      "/Users/nelsonaldanamartinez/opt/anaconda3/lib/python3.7/site-packages/xgboost/core.py:587: FutureWarning: Series.base is deprecated and will be removed in a future version\n",
      "  if getattr(data, 'base', None) is not None and \\\n"
     ]
    },
    {
     "name": "stdout",
     "output_type": "stream",
     "text": [
      "[15:28:46] WARNING: src/objective/regression_obj.cu:152: reg:linear is now deprecated in favor of reg:squarederror.\n"
     ]
    },
    {
     "name": "stderr",
     "output_type": "stream",
     "text": [
      "/Users/nelsonaldanamartinez/opt/anaconda3/lib/python3.7/site-packages/xgboost/core.py:587: FutureWarning: Series.base is deprecated and will be removed in a future version\n",
      "  if getattr(data, 'base', None) is not None and \\\n"
     ]
    },
    {
     "name": "stdout",
     "output_type": "stream",
     "text": [
      "[15:29:19] WARNING: src/objective/regression_obj.cu:152: reg:linear is now deprecated in favor of reg:squarederror.\n"
     ]
    },
    {
     "name": "stderr",
     "output_type": "stream",
     "text": [
      "/Users/nelsonaldanamartinez/opt/anaconda3/lib/python3.7/site-packages/xgboost/core.py:587: FutureWarning: Series.base is deprecated and will be removed in a future version\n",
      "  if getattr(data, 'base', None) is not None and \\\n"
     ]
    },
    {
     "name": "stdout",
     "output_type": "stream",
     "text": [
      "[15:29:52] WARNING: src/objective/regression_obj.cu:152: reg:linear is now deprecated in favor of reg:squarederror.\n"
     ]
    },
    {
     "name": "stderr",
     "output_type": "stream",
     "text": [
      "/Users/nelsonaldanamartinez/opt/anaconda3/lib/python3.7/site-packages/xgboost/core.py:587: FutureWarning: Series.base is deprecated and will be removed in a future version\n",
      "  if getattr(data, 'base', None) is not None and \\\n"
     ]
    },
    {
     "name": "stdout",
     "output_type": "stream",
     "text": [
      "[15:30:26] WARNING: src/objective/regression_obj.cu:152: reg:linear is now deprecated in favor of reg:squarederror.\n"
     ]
    },
    {
     "name": "stderr",
     "output_type": "stream",
     "text": [
      "/Users/nelsonaldanamartinez/opt/anaconda3/lib/python3.7/site-packages/xgboost/core.py:587: FutureWarning: Series.base is deprecated and will be removed in a future version\n",
      "  if getattr(data, 'base', None) is not None and \\\n"
     ]
    },
    {
     "name": "stdout",
     "output_type": "stream",
     "text": [
      "[15:30:59] WARNING: src/objective/regression_obj.cu:152: reg:linear is now deprecated in favor of reg:squarederror.\n"
     ]
    },
    {
     "name": "stderr",
     "output_type": "stream",
     "text": [
      "/Users/nelsonaldanamartinez/opt/anaconda3/lib/python3.7/site-packages/xgboost/core.py:587: FutureWarning: Series.base is deprecated and will be removed in a future version\n",
      "  if getattr(data, 'base', None) is not None and \\\n"
     ]
    },
    {
     "name": "stdout",
     "output_type": "stream",
     "text": [
      "[15:31:34] WARNING: src/objective/regression_obj.cu:152: reg:linear is now deprecated in favor of reg:squarederror.\n"
     ]
    },
    {
     "name": "stderr",
     "output_type": "stream",
     "text": [
      "/Users/nelsonaldanamartinez/opt/anaconda3/lib/python3.7/site-packages/xgboost/core.py:587: FutureWarning: Series.base is deprecated and will be removed in a future version\n",
      "  if getattr(data, 'base', None) is not None and \\\n"
     ]
    },
    {
     "name": "stdout",
     "output_type": "stream",
     "text": [
      "[15:32:08] WARNING: src/objective/regression_obj.cu:152: reg:linear is now deprecated in favor of reg:squarederror.\n"
     ]
    },
    {
     "name": "stderr",
     "output_type": "stream",
     "text": [
      "/Users/nelsonaldanamartinez/opt/anaconda3/lib/python3.7/site-packages/xgboost/core.py:587: FutureWarning: Series.base is deprecated and will be removed in a future version\n",
      "  if getattr(data, 'base', None) is not None and \\\n"
     ]
    },
    {
     "name": "stdout",
     "output_type": "stream",
     "text": [
      "[15:32:41] WARNING: src/objective/regression_obj.cu:152: reg:linear is now deprecated in favor of reg:squarederror.\n"
     ]
    }
   ],
   "source": [
    "#Encontrando los mejores gamma, colsample_bytree y learning \n",
    "from xgboost import XGBRegressor\n",
    "\n",
    "learning_rate = [0.0001, 0.001, 0.01, 0.1, 0.2, 0.3]\n",
    "colsample_bytree=[0.5,0.6,0.7,0.8,0.9,1]\n",
    "cols=['learning_rate','colsample_bytree','CV']\n",
    "results=pd.DataFrame(columns=cols,index=range(0,396))\n",
    "i=0\n",
    "\n",
    "for col in colsample_bytree:\n",
    "    for learn in learning_rate:\n",
    "        clf = XGBRegressor(colsample_bytree=col,learning_rate=learn)\n",
    "        results['learning_rate'][i]=learn\n",
    "        results['colsample_bytree'][i]=col\n",
    "        results['CV'][i]=ManualCrossValidation(clf).mean()\n",
    "        i=i+1"
   ]
  },
  {
   "cell_type": "code",
   "execution_count": 24,
   "metadata": {},
   "outputs": [
    {
     "data": {
      "text/html": [
       "<div>\n",
       "<style scoped>\n",
       "    .dataframe tbody tr th:only-of-type {\n",
       "        vertical-align: middle;\n",
       "    }\n",
       "\n",
       "    .dataframe tbody tr th {\n",
       "        vertical-align: top;\n",
       "    }\n",
       "\n",
       "    .dataframe thead th {\n",
       "        text-align: right;\n",
       "    }\n",
       "</style>\n",
       "<table border=\"1\" class=\"dataframe\">\n",
       "  <thead>\n",
       "    <tr style=\"text-align: right;\">\n",
       "      <th></th>\n",
       "      <th>learning_rate</th>\n",
       "      <th>colsample_bytree</th>\n",
       "      <th>CV</th>\n",
       "    </tr>\n",
       "  </thead>\n",
       "  <tbody>\n",
       "    <tr>\n",
       "      <td>0</td>\n",
       "      <td>0.0001</td>\n",
       "      <td>0.5</td>\n",
       "      <td>25875.8</td>\n",
       "    </tr>\n",
       "    <tr>\n",
       "      <td>1</td>\n",
       "      <td>0.001</td>\n",
       "      <td>0.5</td>\n",
       "      <td>24019.2</td>\n",
       "    </tr>\n",
       "    <tr>\n",
       "      <td>2</td>\n",
       "      <td>0.01</td>\n",
       "      <td>0.5</td>\n",
       "      <td>13401.1</td>\n",
       "    </tr>\n",
       "    <tr>\n",
       "      <td>3</td>\n",
       "      <td>0.1</td>\n",
       "      <td>0.5</td>\n",
       "      <td>8678.69</td>\n",
       "    </tr>\n",
       "    <tr>\n",
       "      <td>4</td>\n",
       "      <td>0.2</td>\n",
       "      <td>0.5</td>\n",
       "      <td>8345.95</td>\n",
       "    </tr>\n",
       "    <tr>\n",
       "      <td>5</td>\n",
       "      <td>0.3</td>\n",
       "      <td>0.5</td>\n",
       "      <td>8182.24</td>\n",
       "    </tr>\n",
       "    <tr>\n",
       "      <td>6</td>\n",
       "      <td>0.0001</td>\n",
       "      <td>0.6</td>\n",
       "      <td>25876.6</td>\n",
       "    </tr>\n",
       "    <tr>\n",
       "      <td>7</td>\n",
       "      <td>0.001</td>\n",
       "      <td>0.6</td>\n",
       "      <td>24039.3</td>\n",
       "    </tr>\n",
       "    <tr>\n",
       "      <td>8</td>\n",
       "      <td>0.01</td>\n",
       "      <td>0.6</td>\n",
       "      <td>13412.7</td>\n",
       "    </tr>\n",
       "    <tr>\n",
       "      <td>9</td>\n",
       "      <td>0.1</td>\n",
       "      <td>0.6</td>\n",
       "      <td>8673.88</td>\n",
       "    </tr>\n",
       "    <tr>\n",
       "      <td>10</td>\n",
       "      <td>0.2</td>\n",
       "      <td>0.6</td>\n",
       "      <td>8373.48</td>\n",
       "    </tr>\n",
       "    <tr>\n",
       "      <td>11</td>\n",
       "      <td>0.3</td>\n",
       "      <td>0.6</td>\n",
       "      <td>8201.81</td>\n",
       "    </tr>\n",
       "    <tr>\n",
       "      <td>12</td>\n",
       "      <td>0.0001</td>\n",
       "      <td>0.7</td>\n",
       "      <td>25887.3</td>\n",
       "    </tr>\n",
       "    <tr>\n",
       "      <td>13</td>\n",
       "      <td>0.001</td>\n",
       "      <td>0.7</td>\n",
       "      <td>24017.6</td>\n",
       "    </tr>\n",
       "    <tr>\n",
       "      <td>14</td>\n",
       "      <td>0.01</td>\n",
       "      <td>0.7</td>\n",
       "      <td>13339.5</td>\n",
       "    </tr>\n",
       "    <tr>\n",
       "      <td>15</td>\n",
       "      <td>0.1</td>\n",
       "      <td>0.7</td>\n",
       "      <td>8653.4</td>\n",
       "    </tr>\n",
       "    <tr>\n",
       "      <td>16</td>\n",
       "      <td>0.2</td>\n",
       "      <td>0.7</td>\n",
       "      <td>8352.9</td>\n",
       "    </tr>\n",
       "    <tr>\n",
       "      <td>17</td>\n",
       "      <td>0.3</td>\n",
       "      <td>0.7</td>\n",
       "      <td>8170.95</td>\n",
       "    </tr>\n",
       "    <tr>\n",
       "      <td>18</td>\n",
       "      <td>0.0001</td>\n",
       "      <td>0.8</td>\n",
       "      <td>25872.3</td>\n",
       "    </tr>\n",
       "    <tr>\n",
       "      <td>19</td>\n",
       "      <td>0.001</td>\n",
       "      <td>0.8</td>\n",
       "      <td>24010.6</td>\n",
       "    </tr>\n",
       "    <tr>\n",
       "      <td>20</td>\n",
       "      <td>0.01</td>\n",
       "      <td>0.8</td>\n",
       "      <td>13323.2</td>\n",
       "    </tr>\n",
       "    <tr>\n",
       "      <td>21</td>\n",
       "      <td>0.1</td>\n",
       "      <td>0.8</td>\n",
       "      <td>8670.42</td>\n",
       "    </tr>\n",
       "    <tr>\n",
       "      <td>22</td>\n",
       "      <td>0.2</td>\n",
       "      <td>0.8</td>\n",
       "      <td>8322.33</td>\n",
       "    </tr>\n",
       "    <tr>\n",
       "      <td>23</td>\n",
       "      <td>0.3</td>\n",
       "      <td>0.8</td>\n",
       "      <td>8162.12</td>\n",
       "    </tr>\n",
       "    <tr>\n",
       "      <td>24</td>\n",
       "      <td>0.0001</td>\n",
       "      <td>0.9</td>\n",
       "      <td>25889.7</td>\n",
       "    </tr>\n",
       "    <tr>\n",
       "      <td>25</td>\n",
       "      <td>0.001</td>\n",
       "      <td>0.9</td>\n",
       "      <td>24009.1</td>\n",
       "    </tr>\n",
       "    <tr>\n",
       "      <td>26</td>\n",
       "      <td>0.01</td>\n",
       "      <td>0.9</td>\n",
       "      <td>13281.4</td>\n",
       "    </tr>\n",
       "    <tr>\n",
       "      <td>27</td>\n",
       "      <td>0.1</td>\n",
       "      <td>0.9</td>\n",
       "      <td>8667.54</td>\n",
       "    </tr>\n",
       "    <tr>\n",
       "      <td>28</td>\n",
       "      <td>0.2</td>\n",
       "      <td>0.9</td>\n",
       "      <td>8311.74</td>\n",
       "    </tr>\n",
       "    <tr>\n",
       "      <td>29</td>\n",
       "      <td>0.3</td>\n",
       "      <td>0.9</td>\n",
       "      <td>8134.55</td>\n",
       "    </tr>\n",
       "    <tr>\n",
       "      <td>30</td>\n",
       "      <td>0.0001</td>\n",
       "      <td>1</td>\n",
       "      <td>25877.2</td>\n",
       "    </tr>\n",
       "    <tr>\n",
       "      <td>31</td>\n",
       "      <td>0.001</td>\n",
       "      <td>1</td>\n",
       "      <td>24002.4</td>\n",
       "    </tr>\n",
       "    <tr>\n",
       "      <td>32</td>\n",
       "      <td>0.01</td>\n",
       "      <td>1</td>\n",
       "      <td>13240</td>\n",
       "    </tr>\n",
       "    <tr>\n",
       "      <td>33</td>\n",
       "      <td>0.1</td>\n",
       "      <td>1</td>\n",
       "      <td>8655.03</td>\n",
       "    </tr>\n",
       "    <tr>\n",
       "      <td>34</td>\n",
       "      <td>0.2</td>\n",
       "      <td>1</td>\n",
       "      <td>8310.45</td>\n",
       "    </tr>\n",
       "    <tr>\n",
       "      <td>35</td>\n",
       "      <td>0.3</td>\n",
       "      <td>1</td>\n",
       "      <td>8128</td>\n",
       "    </tr>\n",
       "  </tbody>\n",
       "</table>\n",
       "</div>"
      ],
      "text/plain": [
       "   learning_rate colsample_bytree       CV\n",
       "0         0.0001              0.5  25875.8\n",
       "1          0.001              0.5  24019.2\n",
       "2           0.01              0.5  13401.1\n",
       "3            0.1              0.5  8678.69\n",
       "4            0.2              0.5  8345.95\n",
       "5            0.3              0.5  8182.24\n",
       "6         0.0001              0.6  25876.6\n",
       "7          0.001              0.6  24039.3\n",
       "8           0.01              0.6  13412.7\n",
       "9            0.1              0.6  8673.88\n",
       "10           0.2              0.6  8373.48\n",
       "11           0.3              0.6  8201.81\n",
       "12        0.0001              0.7  25887.3\n",
       "13         0.001              0.7  24017.6\n",
       "14          0.01              0.7  13339.5\n",
       "15           0.1              0.7   8653.4\n",
       "16           0.2              0.7   8352.9\n",
       "17           0.3              0.7  8170.95\n",
       "18        0.0001              0.8  25872.3\n",
       "19         0.001              0.8  24010.6\n",
       "20          0.01              0.8  13323.2\n",
       "21           0.1              0.8  8670.42\n",
       "22           0.2              0.8  8322.33\n",
       "23           0.3              0.8  8162.12\n",
       "24        0.0001              0.9  25889.7\n",
       "25         0.001              0.9  24009.1\n",
       "26          0.01              0.9  13281.4\n",
       "27           0.1              0.9  8667.54\n",
       "28           0.2              0.9  8311.74\n",
       "29           0.3              0.9  8134.55\n",
       "30        0.0001                1  25877.2\n",
       "31         0.001                1  24002.4\n",
       "32          0.01                1    13240\n",
       "33           0.1                1  8655.03\n",
       "34           0.2                1  8310.45\n",
       "35           0.3                1     8128"
      ]
     },
     "execution_count": 24,
     "metadata": {},
     "output_type": "execute_result"
    }
   ],
   "source": [
    "results"
   ]
  },
  {
   "cell_type": "code",
   "execution_count": 26,
   "metadata": {},
   "outputs": [
    {
     "data": {
      "application/javascript": [
       "/* Put everything inside the global mpl namespace */\n",
       "window.mpl = {};\n",
       "\n",
       "\n",
       "mpl.get_websocket_type = function() {\n",
       "    if (typeof(WebSocket) !== 'undefined') {\n",
       "        return WebSocket;\n",
       "    } else if (typeof(MozWebSocket) !== 'undefined') {\n",
       "        return MozWebSocket;\n",
       "    } else {\n",
       "        alert('Your browser does not have WebSocket support. ' +\n",
       "              'Please try Chrome, Safari or Firefox ≥ 6. ' +\n",
       "              'Firefox 4 and 5 are also supported but you ' +\n",
       "              'have to enable WebSockets in about:config.');\n",
       "    };\n",
       "}\n",
       "\n",
       "mpl.figure = function(figure_id, websocket, ondownload, parent_element) {\n",
       "    this.id = figure_id;\n",
       "\n",
       "    this.ws = websocket;\n",
       "\n",
       "    this.supports_binary = (this.ws.binaryType != undefined);\n",
       "\n",
       "    if (!this.supports_binary) {\n",
       "        var warnings = document.getElementById(\"mpl-warnings\");\n",
       "        if (warnings) {\n",
       "            warnings.style.display = 'block';\n",
       "            warnings.textContent = (\n",
       "                \"This browser does not support binary websocket messages. \" +\n",
       "                    \"Performance may be slow.\");\n",
       "        }\n",
       "    }\n",
       "\n",
       "    this.imageObj = new Image();\n",
       "\n",
       "    this.context = undefined;\n",
       "    this.message = undefined;\n",
       "    this.canvas = undefined;\n",
       "    this.rubberband_canvas = undefined;\n",
       "    this.rubberband_context = undefined;\n",
       "    this.format_dropdown = undefined;\n",
       "\n",
       "    this.image_mode = 'full';\n",
       "\n",
       "    this.root = $('<div/>');\n",
       "    this._root_extra_style(this.root)\n",
       "    this.root.attr('style', 'display: inline-block');\n",
       "\n",
       "    $(parent_element).append(this.root);\n",
       "\n",
       "    this._init_header(this);\n",
       "    this._init_canvas(this);\n",
       "    this._init_toolbar(this);\n",
       "\n",
       "    var fig = this;\n",
       "\n",
       "    this.waiting = false;\n",
       "\n",
       "    this.ws.onopen =  function () {\n",
       "            fig.send_message(\"supports_binary\", {value: fig.supports_binary});\n",
       "            fig.send_message(\"send_image_mode\", {});\n",
       "            if (mpl.ratio != 1) {\n",
       "                fig.send_message(\"set_dpi_ratio\", {'dpi_ratio': mpl.ratio});\n",
       "            }\n",
       "            fig.send_message(\"refresh\", {});\n",
       "        }\n",
       "\n",
       "    this.imageObj.onload = function() {\n",
       "            if (fig.image_mode == 'full') {\n",
       "                // Full images could contain transparency (where diff images\n",
       "                // almost always do), so we need to clear the canvas so that\n",
       "                // there is no ghosting.\n",
       "                fig.context.clearRect(0, 0, fig.canvas.width, fig.canvas.height);\n",
       "            }\n",
       "            fig.context.drawImage(fig.imageObj, 0, 0);\n",
       "        };\n",
       "\n",
       "    this.imageObj.onunload = function() {\n",
       "        fig.ws.close();\n",
       "    }\n",
       "\n",
       "    this.ws.onmessage = this._make_on_message_function(this);\n",
       "\n",
       "    this.ondownload = ondownload;\n",
       "}\n",
       "\n",
       "mpl.figure.prototype._init_header = function() {\n",
       "    var titlebar = $(\n",
       "        '<div class=\"ui-dialog-titlebar ui-widget-header ui-corner-all ' +\n",
       "        'ui-helper-clearfix\"/>');\n",
       "    var titletext = $(\n",
       "        '<div class=\"ui-dialog-title\" style=\"width: 100%; ' +\n",
       "        'text-align: center; padding: 3px;\"/>');\n",
       "    titlebar.append(titletext)\n",
       "    this.root.append(titlebar);\n",
       "    this.header = titletext[0];\n",
       "}\n",
       "\n",
       "\n",
       "\n",
       "mpl.figure.prototype._canvas_extra_style = function(canvas_div) {\n",
       "\n",
       "}\n",
       "\n",
       "\n",
       "mpl.figure.prototype._root_extra_style = function(canvas_div) {\n",
       "\n",
       "}\n",
       "\n",
       "mpl.figure.prototype._init_canvas = function() {\n",
       "    var fig = this;\n",
       "\n",
       "    var canvas_div = $('<div/>');\n",
       "\n",
       "    canvas_div.attr('style', 'position: relative; clear: both; outline: 0');\n",
       "\n",
       "    function canvas_keyboard_event(event) {\n",
       "        return fig.key_event(event, event['data']);\n",
       "    }\n",
       "\n",
       "    canvas_div.keydown('key_press', canvas_keyboard_event);\n",
       "    canvas_div.keyup('key_release', canvas_keyboard_event);\n",
       "    this.canvas_div = canvas_div\n",
       "    this._canvas_extra_style(canvas_div)\n",
       "    this.root.append(canvas_div);\n",
       "\n",
       "    var canvas = $('<canvas/>');\n",
       "    canvas.addClass('mpl-canvas');\n",
       "    canvas.attr('style', \"left: 0; top: 0; z-index: 0; outline: 0\")\n",
       "\n",
       "    this.canvas = canvas[0];\n",
       "    this.context = canvas[0].getContext(\"2d\");\n",
       "\n",
       "    var backingStore = this.context.backingStorePixelRatio ||\n",
       "\tthis.context.webkitBackingStorePixelRatio ||\n",
       "\tthis.context.mozBackingStorePixelRatio ||\n",
       "\tthis.context.msBackingStorePixelRatio ||\n",
       "\tthis.context.oBackingStorePixelRatio ||\n",
       "\tthis.context.backingStorePixelRatio || 1;\n",
       "\n",
       "    mpl.ratio = (window.devicePixelRatio || 1) / backingStore;\n",
       "\n",
       "    var rubberband = $('<canvas/>');\n",
       "    rubberband.attr('style', \"position: absolute; left: 0; top: 0; z-index: 1;\")\n",
       "\n",
       "    var pass_mouse_events = true;\n",
       "\n",
       "    canvas_div.resizable({\n",
       "        start: function(event, ui) {\n",
       "            pass_mouse_events = false;\n",
       "        },\n",
       "        resize: function(event, ui) {\n",
       "            fig.request_resize(ui.size.width, ui.size.height);\n",
       "        },\n",
       "        stop: function(event, ui) {\n",
       "            pass_mouse_events = true;\n",
       "            fig.request_resize(ui.size.width, ui.size.height);\n",
       "        },\n",
       "    });\n",
       "\n",
       "    function mouse_event_fn(event) {\n",
       "        if (pass_mouse_events)\n",
       "            return fig.mouse_event(event, event['data']);\n",
       "    }\n",
       "\n",
       "    rubberband.mousedown('button_press', mouse_event_fn);\n",
       "    rubberband.mouseup('button_release', mouse_event_fn);\n",
       "    // Throttle sequential mouse events to 1 every 20ms.\n",
       "    rubberband.mousemove('motion_notify', mouse_event_fn);\n",
       "\n",
       "    rubberband.mouseenter('figure_enter', mouse_event_fn);\n",
       "    rubberband.mouseleave('figure_leave', mouse_event_fn);\n",
       "\n",
       "    canvas_div.on(\"wheel\", function (event) {\n",
       "        event = event.originalEvent;\n",
       "        event['data'] = 'scroll'\n",
       "        if (event.deltaY < 0) {\n",
       "            event.step = 1;\n",
       "        } else {\n",
       "            event.step = -1;\n",
       "        }\n",
       "        mouse_event_fn(event);\n",
       "    });\n",
       "\n",
       "    canvas_div.append(canvas);\n",
       "    canvas_div.append(rubberband);\n",
       "\n",
       "    this.rubberband = rubberband;\n",
       "    this.rubberband_canvas = rubberband[0];\n",
       "    this.rubberband_context = rubberband[0].getContext(\"2d\");\n",
       "    this.rubberband_context.strokeStyle = \"#000000\";\n",
       "\n",
       "    this._resize_canvas = function(width, height) {\n",
       "        // Keep the size of the canvas, canvas container, and rubber band\n",
       "        // canvas in synch.\n",
       "        canvas_div.css('width', width)\n",
       "        canvas_div.css('height', height)\n",
       "\n",
       "        canvas.attr('width', width * mpl.ratio);\n",
       "        canvas.attr('height', height * mpl.ratio);\n",
       "        canvas.attr('style', 'width: ' + width + 'px; height: ' + height + 'px;');\n",
       "\n",
       "        rubberband.attr('width', width);\n",
       "        rubberband.attr('height', height);\n",
       "    }\n",
       "\n",
       "    // Set the figure to an initial 600x600px, this will subsequently be updated\n",
       "    // upon first draw.\n",
       "    this._resize_canvas(600, 600);\n",
       "\n",
       "    // Disable right mouse context menu.\n",
       "    $(this.rubberband_canvas).bind(\"contextmenu\",function(e){\n",
       "        return false;\n",
       "    });\n",
       "\n",
       "    function set_focus () {\n",
       "        canvas.focus();\n",
       "        canvas_div.focus();\n",
       "    }\n",
       "\n",
       "    window.setTimeout(set_focus, 100);\n",
       "}\n",
       "\n",
       "mpl.figure.prototype._init_toolbar = function() {\n",
       "    var fig = this;\n",
       "\n",
       "    var nav_element = $('<div/>');\n",
       "    nav_element.attr('style', 'width: 100%');\n",
       "    this.root.append(nav_element);\n",
       "\n",
       "    // Define a callback function for later on.\n",
       "    function toolbar_event(event) {\n",
       "        return fig.toolbar_button_onclick(event['data']);\n",
       "    }\n",
       "    function toolbar_mouse_event(event) {\n",
       "        return fig.toolbar_button_onmouseover(event['data']);\n",
       "    }\n",
       "\n",
       "    for(var toolbar_ind in mpl.toolbar_items) {\n",
       "        var name = mpl.toolbar_items[toolbar_ind][0];\n",
       "        var tooltip = mpl.toolbar_items[toolbar_ind][1];\n",
       "        var image = mpl.toolbar_items[toolbar_ind][2];\n",
       "        var method_name = mpl.toolbar_items[toolbar_ind][3];\n",
       "\n",
       "        if (!name) {\n",
       "            // put a spacer in here.\n",
       "            continue;\n",
       "        }\n",
       "        var button = $('<button/>');\n",
       "        button.addClass('ui-button ui-widget ui-state-default ui-corner-all ' +\n",
       "                        'ui-button-icon-only');\n",
       "        button.attr('role', 'button');\n",
       "        button.attr('aria-disabled', 'false');\n",
       "        button.click(method_name, toolbar_event);\n",
       "        button.mouseover(tooltip, toolbar_mouse_event);\n",
       "\n",
       "        var icon_img = $('<span/>');\n",
       "        icon_img.addClass('ui-button-icon-primary ui-icon');\n",
       "        icon_img.addClass(image);\n",
       "        icon_img.addClass('ui-corner-all');\n",
       "\n",
       "        var tooltip_span = $('<span/>');\n",
       "        tooltip_span.addClass('ui-button-text');\n",
       "        tooltip_span.html(tooltip);\n",
       "\n",
       "        button.append(icon_img);\n",
       "        button.append(tooltip_span);\n",
       "\n",
       "        nav_element.append(button);\n",
       "    }\n",
       "\n",
       "    var fmt_picker_span = $('<span/>');\n",
       "\n",
       "    var fmt_picker = $('<select/>');\n",
       "    fmt_picker.addClass('mpl-toolbar-option ui-widget ui-widget-content');\n",
       "    fmt_picker_span.append(fmt_picker);\n",
       "    nav_element.append(fmt_picker_span);\n",
       "    this.format_dropdown = fmt_picker[0];\n",
       "\n",
       "    for (var ind in mpl.extensions) {\n",
       "        var fmt = mpl.extensions[ind];\n",
       "        var option = $(\n",
       "            '<option/>', {selected: fmt === mpl.default_extension}).html(fmt);\n",
       "        fmt_picker.append(option);\n",
       "    }\n",
       "\n",
       "    // Add hover states to the ui-buttons\n",
       "    $( \".ui-button\" ).hover(\n",
       "        function() { $(this).addClass(\"ui-state-hover\");},\n",
       "        function() { $(this).removeClass(\"ui-state-hover\");}\n",
       "    );\n",
       "\n",
       "    var status_bar = $('<span class=\"mpl-message\"/>');\n",
       "    nav_element.append(status_bar);\n",
       "    this.message = status_bar[0];\n",
       "}\n",
       "\n",
       "mpl.figure.prototype.request_resize = function(x_pixels, y_pixels) {\n",
       "    // Request matplotlib to resize the figure. Matplotlib will then trigger a resize in the client,\n",
       "    // which will in turn request a refresh of the image.\n",
       "    this.send_message('resize', {'width': x_pixels, 'height': y_pixels});\n",
       "}\n",
       "\n",
       "mpl.figure.prototype.send_message = function(type, properties) {\n",
       "    properties['type'] = type;\n",
       "    properties['figure_id'] = this.id;\n",
       "    this.ws.send(JSON.stringify(properties));\n",
       "}\n",
       "\n",
       "mpl.figure.prototype.send_draw_message = function() {\n",
       "    if (!this.waiting) {\n",
       "        this.waiting = true;\n",
       "        this.ws.send(JSON.stringify({type: \"draw\", figure_id: this.id}));\n",
       "    }\n",
       "}\n",
       "\n",
       "\n",
       "mpl.figure.prototype.handle_save = function(fig, msg) {\n",
       "    var format_dropdown = fig.format_dropdown;\n",
       "    var format = format_dropdown.options[format_dropdown.selectedIndex].value;\n",
       "    fig.ondownload(fig, format);\n",
       "}\n",
       "\n",
       "\n",
       "mpl.figure.prototype.handle_resize = function(fig, msg) {\n",
       "    var size = msg['size'];\n",
       "    if (size[0] != fig.canvas.width || size[1] != fig.canvas.height) {\n",
       "        fig._resize_canvas(size[0], size[1]);\n",
       "        fig.send_message(\"refresh\", {});\n",
       "    };\n",
       "}\n",
       "\n",
       "mpl.figure.prototype.handle_rubberband = function(fig, msg) {\n",
       "    var x0 = msg['x0'] / mpl.ratio;\n",
       "    var y0 = (fig.canvas.height - msg['y0']) / mpl.ratio;\n",
       "    var x1 = msg['x1'] / mpl.ratio;\n",
       "    var y1 = (fig.canvas.height - msg['y1']) / mpl.ratio;\n",
       "    x0 = Math.floor(x0) + 0.5;\n",
       "    y0 = Math.floor(y0) + 0.5;\n",
       "    x1 = Math.floor(x1) + 0.5;\n",
       "    y1 = Math.floor(y1) + 0.5;\n",
       "    var min_x = Math.min(x0, x1);\n",
       "    var min_y = Math.min(y0, y1);\n",
       "    var width = Math.abs(x1 - x0);\n",
       "    var height = Math.abs(y1 - y0);\n",
       "\n",
       "    fig.rubberband_context.clearRect(\n",
       "        0, 0, fig.canvas.width / mpl.ratio, fig.canvas.height / mpl.ratio);\n",
       "\n",
       "    fig.rubberband_context.strokeRect(min_x, min_y, width, height);\n",
       "}\n",
       "\n",
       "mpl.figure.prototype.handle_figure_label = function(fig, msg) {\n",
       "    // Updates the figure title.\n",
       "    fig.header.textContent = msg['label'];\n",
       "}\n",
       "\n",
       "mpl.figure.prototype.handle_cursor = function(fig, msg) {\n",
       "    var cursor = msg['cursor'];\n",
       "    switch(cursor)\n",
       "    {\n",
       "    case 0:\n",
       "        cursor = 'pointer';\n",
       "        break;\n",
       "    case 1:\n",
       "        cursor = 'default';\n",
       "        break;\n",
       "    case 2:\n",
       "        cursor = 'crosshair';\n",
       "        break;\n",
       "    case 3:\n",
       "        cursor = 'move';\n",
       "        break;\n",
       "    }\n",
       "    fig.rubberband_canvas.style.cursor = cursor;\n",
       "}\n",
       "\n",
       "mpl.figure.prototype.handle_message = function(fig, msg) {\n",
       "    fig.message.textContent = msg['message'];\n",
       "}\n",
       "\n",
       "mpl.figure.prototype.handle_draw = function(fig, msg) {\n",
       "    // Request the server to send over a new figure.\n",
       "    fig.send_draw_message();\n",
       "}\n",
       "\n",
       "mpl.figure.prototype.handle_image_mode = function(fig, msg) {\n",
       "    fig.image_mode = msg['mode'];\n",
       "}\n",
       "\n",
       "mpl.figure.prototype.updated_canvas_event = function() {\n",
       "    // Called whenever the canvas gets updated.\n",
       "    this.send_message(\"ack\", {});\n",
       "}\n",
       "\n",
       "// A function to construct a web socket function for onmessage handling.\n",
       "// Called in the figure constructor.\n",
       "mpl.figure.prototype._make_on_message_function = function(fig) {\n",
       "    return function socket_on_message(evt) {\n",
       "        if (evt.data instanceof Blob) {\n",
       "            /* FIXME: We get \"Resource interpreted as Image but\n",
       "             * transferred with MIME type text/plain:\" errors on\n",
       "             * Chrome.  But how to set the MIME type?  It doesn't seem\n",
       "             * to be part of the websocket stream */\n",
       "            evt.data.type = \"image/png\";\n",
       "\n",
       "            /* Free the memory for the previous frames */\n",
       "            if (fig.imageObj.src) {\n",
       "                (window.URL || window.webkitURL).revokeObjectURL(\n",
       "                    fig.imageObj.src);\n",
       "            }\n",
       "\n",
       "            fig.imageObj.src = (window.URL || window.webkitURL).createObjectURL(\n",
       "                evt.data);\n",
       "            fig.updated_canvas_event();\n",
       "            fig.waiting = false;\n",
       "            return;\n",
       "        }\n",
       "        else if (typeof evt.data === 'string' && evt.data.slice(0, 21) == \"data:image/png;base64\") {\n",
       "            fig.imageObj.src = evt.data;\n",
       "            fig.updated_canvas_event();\n",
       "            fig.waiting = false;\n",
       "            return;\n",
       "        }\n",
       "\n",
       "        var msg = JSON.parse(evt.data);\n",
       "        var msg_type = msg['type'];\n",
       "\n",
       "        // Call the  \"handle_{type}\" callback, which takes\n",
       "        // the figure and JSON message as its only arguments.\n",
       "        try {\n",
       "            var callback = fig[\"handle_\" + msg_type];\n",
       "        } catch (e) {\n",
       "            console.log(\"No handler for the '\" + msg_type + \"' message type: \", msg);\n",
       "            return;\n",
       "        }\n",
       "\n",
       "        if (callback) {\n",
       "            try {\n",
       "                // console.log(\"Handling '\" + msg_type + \"' message: \", msg);\n",
       "                callback(fig, msg);\n",
       "            } catch (e) {\n",
       "                console.log(\"Exception inside the 'handler_\" + msg_type + \"' callback:\", e, e.stack, msg);\n",
       "            }\n",
       "        }\n",
       "    };\n",
       "}\n",
       "\n",
       "// from http://stackoverflow.com/questions/1114465/getting-mouse-location-in-canvas\n",
       "mpl.findpos = function(e) {\n",
       "    //this section is from http://www.quirksmode.org/js/events_properties.html\n",
       "    var targ;\n",
       "    if (!e)\n",
       "        e = window.event;\n",
       "    if (e.target)\n",
       "        targ = e.target;\n",
       "    else if (e.srcElement)\n",
       "        targ = e.srcElement;\n",
       "    if (targ.nodeType == 3) // defeat Safari bug\n",
       "        targ = targ.parentNode;\n",
       "\n",
       "    // jQuery normalizes the pageX and pageY\n",
       "    // pageX,Y are the mouse positions relative to the document\n",
       "    // offset() returns the position of the element relative to the document\n",
       "    var x = e.pageX - $(targ).offset().left;\n",
       "    var y = e.pageY - $(targ).offset().top;\n",
       "\n",
       "    return {\"x\": x, \"y\": y};\n",
       "};\n",
       "\n",
       "/*\n",
       " * return a copy of an object with only non-object keys\n",
       " * we need this to avoid circular references\n",
       " * http://stackoverflow.com/a/24161582/3208463\n",
       " */\n",
       "function simpleKeys (original) {\n",
       "  return Object.keys(original).reduce(function (obj, key) {\n",
       "    if (typeof original[key] !== 'object')\n",
       "        obj[key] = original[key]\n",
       "    return obj;\n",
       "  }, {});\n",
       "}\n",
       "\n",
       "mpl.figure.prototype.mouse_event = function(event, name) {\n",
       "    var canvas_pos = mpl.findpos(event)\n",
       "\n",
       "    if (name === 'button_press')\n",
       "    {\n",
       "        this.canvas.focus();\n",
       "        this.canvas_div.focus();\n",
       "    }\n",
       "\n",
       "    var x = canvas_pos.x * mpl.ratio;\n",
       "    var y = canvas_pos.y * mpl.ratio;\n",
       "\n",
       "    this.send_message(name, {x: x, y: y, button: event.button,\n",
       "                             step: event.step,\n",
       "                             guiEvent: simpleKeys(event)});\n",
       "\n",
       "    /* This prevents the web browser from automatically changing to\n",
       "     * the text insertion cursor when the button is pressed.  We want\n",
       "     * to control all of the cursor setting manually through the\n",
       "     * 'cursor' event from matplotlib */\n",
       "    event.preventDefault();\n",
       "    return false;\n",
       "}\n",
       "\n",
       "mpl.figure.prototype._key_event_extra = function(event, name) {\n",
       "    // Handle any extra behaviour associated with a key event\n",
       "}\n",
       "\n",
       "mpl.figure.prototype.key_event = function(event, name) {\n",
       "\n",
       "    // Prevent repeat events\n",
       "    if (name == 'key_press')\n",
       "    {\n",
       "        if (event.which === this._key)\n",
       "            return;\n",
       "        else\n",
       "            this._key = event.which;\n",
       "    }\n",
       "    if (name == 'key_release')\n",
       "        this._key = null;\n",
       "\n",
       "    var value = '';\n",
       "    if (event.ctrlKey && event.which != 17)\n",
       "        value += \"ctrl+\";\n",
       "    if (event.altKey && event.which != 18)\n",
       "        value += \"alt+\";\n",
       "    if (event.shiftKey && event.which != 16)\n",
       "        value += \"shift+\";\n",
       "\n",
       "    value += 'k';\n",
       "    value += event.which.toString();\n",
       "\n",
       "    this._key_event_extra(event, name);\n",
       "\n",
       "    this.send_message(name, {key: value,\n",
       "                             guiEvent: simpleKeys(event)});\n",
       "    return false;\n",
       "}\n",
       "\n",
       "mpl.figure.prototype.toolbar_button_onclick = function(name) {\n",
       "    if (name == 'download') {\n",
       "        this.handle_save(this, null);\n",
       "    } else {\n",
       "        this.send_message(\"toolbar_button\", {name: name});\n",
       "    }\n",
       "};\n",
       "\n",
       "mpl.figure.prototype.toolbar_button_onmouseover = function(tooltip) {\n",
       "    this.message.textContent = tooltip;\n",
       "};\n",
       "mpl.toolbar_items = [[\"Home\", \"Reset original view\", \"fa fa-home icon-home\", \"home\"], [\"Back\", \"Back to previous view\", \"fa fa-arrow-left icon-arrow-left\", \"back\"], [\"Forward\", \"Forward to next view\", \"fa fa-arrow-right icon-arrow-right\", \"forward\"], [\"\", \"\", \"\", \"\"], [\"Pan\", \"Pan axes with left mouse, zoom with right\", \"fa fa-arrows icon-move\", \"pan\"], [\"Zoom\", \"Zoom to rectangle\", \"fa fa-square-o icon-check-empty\", \"zoom\"], [\"\", \"\", \"\", \"\"], [\"Download\", \"Download plot\", \"fa fa-floppy-o icon-save\", \"download\"]];\n",
       "\n",
       "mpl.extensions = [\"eps\", \"jpeg\", \"pdf\", \"png\", \"ps\", \"raw\", \"svg\", \"tif\"];\n",
       "\n",
       "mpl.default_extension = \"png\";var comm_websocket_adapter = function(comm) {\n",
       "    // Create a \"websocket\"-like object which calls the given IPython comm\n",
       "    // object with the appropriate methods. Currently this is a non binary\n",
       "    // socket, so there is still some room for performance tuning.\n",
       "    var ws = {};\n",
       "\n",
       "    ws.close = function() {\n",
       "        comm.close()\n",
       "    };\n",
       "    ws.send = function(m) {\n",
       "        //console.log('sending', m);\n",
       "        comm.send(m);\n",
       "    };\n",
       "    // Register the callback with on_msg.\n",
       "    comm.on_msg(function(msg) {\n",
       "        //console.log('receiving', msg['content']['data'], msg);\n",
       "        // Pass the mpl event to the overridden (by mpl) onmessage function.\n",
       "        ws.onmessage(msg['content']['data'])\n",
       "    });\n",
       "    return ws;\n",
       "}\n",
       "\n",
       "mpl.mpl_figure_comm = function(comm, msg) {\n",
       "    // This is the function which gets called when the mpl process\n",
       "    // starts-up an IPython Comm through the \"matplotlib\" channel.\n",
       "\n",
       "    var id = msg.content.data.id;\n",
       "    // Get hold of the div created by the display call when the Comm\n",
       "    // socket was opened in Python.\n",
       "    var element = $(\"#\" + id);\n",
       "    var ws_proxy = comm_websocket_adapter(comm)\n",
       "\n",
       "    function ondownload(figure, format) {\n",
       "        window.open(figure.imageObj.src);\n",
       "    }\n",
       "\n",
       "    var fig = new mpl.figure(id, ws_proxy,\n",
       "                           ondownload,\n",
       "                           element.get(0));\n",
       "\n",
       "    // Call onopen now - mpl needs it, as it is assuming we've passed it a real\n",
       "    // web socket which is closed, not our websocket->open comm proxy.\n",
       "    ws_proxy.onopen();\n",
       "\n",
       "    fig.parent_element = element.get(0);\n",
       "    fig.cell_info = mpl.find_output_cell(\"<div id='\" + id + \"'></div>\");\n",
       "    if (!fig.cell_info) {\n",
       "        console.error(\"Failed to find cell for figure\", id, fig);\n",
       "        return;\n",
       "    }\n",
       "\n",
       "    var output_index = fig.cell_info[2]\n",
       "    var cell = fig.cell_info[0];\n",
       "\n",
       "};\n",
       "\n",
       "mpl.figure.prototype.handle_close = function(fig, msg) {\n",
       "    var width = fig.canvas.width/mpl.ratio\n",
       "    fig.root.unbind('remove')\n",
       "\n",
       "    // Update the output cell to use the data from the current canvas.\n",
       "    fig.push_to_output();\n",
       "    var dataURL = fig.canvas.toDataURL();\n",
       "    // Re-enable the keyboard manager in IPython - without this line, in FF,\n",
       "    // the notebook keyboard shortcuts fail.\n",
       "    IPython.keyboard_manager.enable()\n",
       "    $(fig.parent_element).html('<img src=\"' + dataURL + '\" width=\"' + width + '\">');\n",
       "    fig.close_ws(fig, msg);\n",
       "}\n",
       "\n",
       "mpl.figure.prototype.close_ws = function(fig, msg){\n",
       "    fig.send_message('closing', msg);\n",
       "    // fig.ws.close()\n",
       "}\n",
       "\n",
       "mpl.figure.prototype.push_to_output = function(remove_interactive) {\n",
       "    // Turn the data on the canvas into data in the output cell.\n",
       "    var width = this.canvas.width/mpl.ratio\n",
       "    var dataURL = this.canvas.toDataURL();\n",
       "    this.cell_info[1]['text/html'] = '<img src=\"' + dataURL + '\" width=\"' + width + '\">';\n",
       "}\n",
       "\n",
       "mpl.figure.prototype.updated_canvas_event = function() {\n",
       "    // Tell IPython that the notebook contents must change.\n",
       "    IPython.notebook.set_dirty(true);\n",
       "    this.send_message(\"ack\", {});\n",
       "    var fig = this;\n",
       "    // Wait a second, then push the new image to the DOM so\n",
       "    // that it is saved nicely (might be nice to debounce this).\n",
       "    setTimeout(function () { fig.push_to_output() }, 1000);\n",
       "}\n",
       "\n",
       "mpl.figure.prototype._init_toolbar = function() {\n",
       "    var fig = this;\n",
       "\n",
       "    var nav_element = $('<div/>');\n",
       "    nav_element.attr('style', 'width: 100%');\n",
       "    this.root.append(nav_element);\n",
       "\n",
       "    // Define a callback function for later on.\n",
       "    function toolbar_event(event) {\n",
       "        return fig.toolbar_button_onclick(event['data']);\n",
       "    }\n",
       "    function toolbar_mouse_event(event) {\n",
       "        return fig.toolbar_button_onmouseover(event['data']);\n",
       "    }\n",
       "\n",
       "    for(var toolbar_ind in mpl.toolbar_items){\n",
       "        var name = mpl.toolbar_items[toolbar_ind][0];\n",
       "        var tooltip = mpl.toolbar_items[toolbar_ind][1];\n",
       "        var image = mpl.toolbar_items[toolbar_ind][2];\n",
       "        var method_name = mpl.toolbar_items[toolbar_ind][3];\n",
       "\n",
       "        if (!name) { continue; };\n",
       "\n",
       "        var button = $('<button class=\"btn btn-default\" href=\"#\" title=\"' + name + '\"><i class=\"fa ' + image + ' fa-lg\"></i></button>');\n",
       "        button.click(method_name, toolbar_event);\n",
       "        button.mouseover(tooltip, toolbar_mouse_event);\n",
       "        nav_element.append(button);\n",
       "    }\n",
       "\n",
       "    // Add the status bar.\n",
       "    var status_bar = $('<span class=\"mpl-message\" style=\"text-align:right; float: right;\"/>');\n",
       "    nav_element.append(status_bar);\n",
       "    this.message = status_bar[0];\n",
       "\n",
       "    // Add the close button to the window.\n",
       "    var buttongrp = $('<div class=\"btn-group inline pull-right\"></div>');\n",
       "    var button = $('<button class=\"btn btn-mini btn-primary\" href=\"#\" title=\"Stop Interaction\"><i class=\"fa fa-power-off icon-remove icon-large\"></i></button>');\n",
       "    button.click(function (evt) { fig.handle_close(fig, {}); } );\n",
       "    button.mouseover('Stop Interaction', toolbar_mouse_event);\n",
       "    buttongrp.append(button);\n",
       "    var titlebar = this.root.find($('.ui-dialog-titlebar'));\n",
       "    titlebar.prepend(buttongrp);\n",
       "}\n",
       "\n",
       "mpl.figure.prototype._root_extra_style = function(el){\n",
       "    var fig = this\n",
       "    el.on(\"remove\", function(){\n",
       "\tfig.close_ws(fig, {});\n",
       "    });\n",
       "}\n",
       "\n",
       "mpl.figure.prototype._canvas_extra_style = function(el){\n",
       "    // this is important to make the div 'focusable\n",
       "    el.attr('tabindex', 0)\n",
       "    // reach out to IPython and tell the keyboard manager to turn it's self\n",
       "    // off when our div gets focus\n",
       "\n",
       "    // location in version 3\n",
       "    if (IPython.notebook.keyboard_manager) {\n",
       "        IPython.notebook.keyboard_manager.register_events(el);\n",
       "    }\n",
       "    else {\n",
       "        // location in version 2\n",
       "        IPython.keyboard_manager.register_events(el);\n",
       "    }\n",
       "\n",
       "}\n",
       "\n",
       "mpl.figure.prototype._key_event_extra = function(event, name) {\n",
       "    var manager = IPython.notebook.keyboard_manager;\n",
       "    if (!manager)\n",
       "        manager = IPython.keyboard_manager;\n",
       "\n",
       "    // Check for shift+enter\n",
       "    if (event.shiftKey && event.which == 13) {\n",
       "        this.canvas_div.blur();\n",
       "        event.shiftKey = false;\n",
       "        // Send a \"J\" for go to next cell\n",
       "        event.which = 74;\n",
       "        event.keyCode = 74;\n",
       "        manager.command_mode();\n",
       "        manager.handle_keydown(event);\n",
       "    }\n",
       "}\n",
       "\n",
       "mpl.figure.prototype.handle_save = function(fig, msg) {\n",
       "    fig.ondownload(fig, null);\n",
       "}\n",
       "\n",
       "\n",
       "mpl.find_output_cell = function(html_output) {\n",
       "    // Return the cell and output element which can be found *uniquely* in the notebook.\n",
       "    // Note - this is a bit hacky, but it is done because the \"notebook_saving.Notebook\"\n",
       "    // IPython event is triggered only after the cells have been serialised, which for\n",
       "    // our purposes (turning an active figure into a static one), is too late.\n",
       "    var cells = IPython.notebook.get_cells();\n",
       "    var ncells = cells.length;\n",
       "    for (var i=0; i<ncells; i++) {\n",
       "        var cell = cells[i];\n",
       "        if (cell.cell_type === 'code'){\n",
       "            for (var j=0; j<cell.output_area.outputs.length; j++) {\n",
       "                var data = cell.output_area.outputs[j];\n",
       "                if (data.data) {\n",
       "                    // IPython >= 3 moved mimebundle to data attribute of output\n",
       "                    data = data.data;\n",
       "                }\n",
       "                if (data['text/html'] == html_output) {\n",
       "                    return [cell, data, j];\n",
       "                }\n",
       "            }\n",
       "        }\n",
       "    }\n",
       "}\n",
       "\n",
       "// Register the function which deals with the matplotlib target/channel.\n",
       "// The kernel may be null if the page has been refreshed.\n",
       "if (IPython.notebook.kernel != null) {\n",
       "    IPython.notebook.kernel.comm_manager.register_target('matplotlib', mpl.mpl_figure_comm);\n",
       "}\n"
      ],
      "text/plain": [
       "<IPython.core.display.Javascript object>"
      ]
     },
     "metadata": {},
     "output_type": "display_data"
    },
    {
     "data": {
      "text/html": [
       "<img src=\"data:image/png;base64,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\" width=\"432\">"
      ],
      "text/plain": [
       "<IPython.core.display.HTML object>"
      ]
     },
     "metadata": {},
     "output_type": "display_data"
    }
   ],
   "source": [
    "# libraries\n",
    "%matplotlib notebook\n",
    "from mpl_toolkits.mplot3d import Axes3D\n",
    "import matplotlib.pyplot as plt\n",
    "import numpy as np\n",
    "import pandas as pd\n",
    " \n",
    "# Dataset\n",
    "df=results\n",
    "# plot\n",
    "fig = plt.figure()\n",
    "ax = fig.add_subplot(111,projection='3d')\n",
    "ax.scatter(df['learning_rate'].astype(float), df['colsample_bytree'].astype(float), df['CV'].astype(float))\n",
    "ax.view_init(0, 10000)\n",
    "plt.show()"
   ]
  },
  {
   "cell_type": "code",
   "execution_count": 28,
   "metadata": {},
   "outputs": [
    {
     "name": "stdout",
     "output_type": "stream",
     "text": [
      "   learning_rate colsample_bytree    CV\n",
      "35           0.3                1  8128\n"
     ]
    }
   ],
   "source": [
    "print(results[results.CV == results.CV.min()]) "
   ]
  },
  {
   "cell_type": "markdown",
   "metadata": {},
   "source": [
    "Después de hacer un CV con k=10 de los paramentros learning_rate = [0.0001, 0.001, 0.01, 0.1, 0.2, 0.3] y\n",
    "colsample_bytree=[0.5,0.6,0.7,0.8,0.9,1], se llega a la conclusión que el que tiene menor error es el de *learning_rate 0.3 y colsample_bytree de 1, con un RSME de 8128*."
   ]
  },
  {
   "cell_type": "code",
   "execution_count": 16,
   "metadata": {},
   "outputs": [
    {
     "name": "stderr",
     "output_type": "stream",
     "text": [
      "/Users/nelsonaldanamartinez/opt/anaconda3/lib/python3.7/site-packages/xgboost/core.py:587: FutureWarning: Series.base is deprecated and will be removed in a future version\n",
      "  if getattr(data, 'base', None) is not None and \\\n",
      "/Users/nelsonaldanamartinez/opt/anaconda3/lib/python3.7/site-packages/xgboost/core.py:587: FutureWarning: Series.base is deprecated and will be removed in a future version\n",
      "  if getattr(data, 'base', None) is not None and \\\n"
     ]
    },
    {
     "name": "stdout",
     "output_type": "stream",
     "text": [
      "[19:20:28] WARNING: src/objective/regression_obj.cu:152: reg:linear is now deprecated in favor of reg:squarederror.\n",
      "[19:20:29] WARNING: src/objective/regression_obj.cu:152: reg:linear is now deprecated in favor of reg:squarederror.\n"
     ]
    },
    {
     "name": "stderr",
     "output_type": "stream",
     "text": [
      "/Users/nelsonaldanamartinez/opt/anaconda3/lib/python3.7/site-packages/xgboost/core.py:587: FutureWarning: Series.base is deprecated and will be removed in a future version\n",
      "  if getattr(data, 'base', None) is not None and \\\n",
      "/Users/nelsonaldanamartinez/opt/anaconda3/lib/python3.7/site-packages/xgboost/core.py:587: FutureWarning: Series.base is deprecated and will be removed in a future version\n",
      "  if getattr(data, 'base', None) is not None and \\\n"
     ]
    },
    {
     "name": "stdout",
     "output_type": "stream",
     "text": [
      "[19:20:29] WARNING: src/objective/regression_obj.cu:152: reg:linear is now deprecated in favor of reg:squarederror.\n",
      "[19:20:29] WARNING: src/objective/regression_obj.cu:152: reg:linear is now deprecated in favor of reg:squarederror.\n"
     ]
    },
    {
     "name": "stderr",
     "output_type": "stream",
     "text": [
      "/Users/nelsonaldanamartinez/opt/anaconda3/lib/python3.7/site-packages/xgboost/core.py:587: FutureWarning: Series.base is deprecated and will be removed in a future version\n",
      "  if getattr(data, 'base', None) is not None and \\\n",
      "/Users/nelsonaldanamartinez/opt/anaconda3/lib/python3.7/site-packages/xgboost/core.py:587: FutureWarning: Series.base is deprecated and will be removed in a future version\n",
      "  if getattr(data, 'base', None) is not None and \\\n"
     ]
    },
    {
     "name": "stdout",
     "output_type": "stream",
     "text": [
      "[19:20:29] WARNING: src/objective/regression_obj.cu:152: reg:linear is now deprecated in favor of reg:squarederror.\n",
      "[19:20:30] WARNING: src/objective/regression_obj.cu:152: reg:linear is now deprecated in favor of reg:squarederror.\n"
     ]
    },
    {
     "name": "stderr",
     "output_type": "stream",
     "text": [
      "/Users/nelsonaldanamartinez/opt/anaconda3/lib/python3.7/site-packages/xgboost/core.py:587: FutureWarning: Series.base is deprecated and will be removed in a future version\n",
      "  if getattr(data, 'base', None) is not None and \\\n"
     ]
    },
    {
     "name": "stdout",
     "output_type": "stream",
     "text": [
      "[19:20:30] WARNING: src/objective/regression_obj.cu:152: reg:linear is now deprecated in favor of reg:squarederror.\n"
     ]
    },
    {
     "name": "stderr",
     "output_type": "stream",
     "text": [
      "/Users/nelsonaldanamartinez/opt/anaconda3/lib/python3.7/site-packages/xgboost/core.py:587: FutureWarning: Series.base is deprecated and will be removed in a future version\n",
      "  if getattr(data, 'base', None) is not None and \\\n",
      "/Users/nelsonaldanamartinez/opt/anaconda3/lib/python3.7/site-packages/xgboost/core.py:587: FutureWarning: Series.base is deprecated and will be removed in a future version\n",
      "  if getattr(data, 'base', None) is not None and \\\n"
     ]
    },
    {
     "name": "stdout",
     "output_type": "stream",
     "text": [
      "[19:20:30] WARNING: src/objective/regression_obj.cu:152: reg:linear is now deprecated in favor of reg:squarederror.\n",
      "[19:20:30] WARNING: src/objective/regression_obj.cu:152: reg:linear is now deprecated in favor of reg:squarederror.\n"
     ]
    },
    {
     "name": "stderr",
     "output_type": "stream",
     "text": [
      "/Users/nelsonaldanamartinez/opt/anaconda3/lib/python3.7/site-packages/xgboost/core.py:587: FutureWarning: Series.base is deprecated and will be removed in a future version\n",
      "  if getattr(data, 'base', None) is not None and \\\n",
      "/Users/nelsonaldanamartinez/opt/anaconda3/lib/python3.7/site-packages/xgboost/core.py:587: FutureWarning: Series.base is deprecated and will be removed in a future version\n",
      "  if getattr(data, 'base', None) is not None and \\\n"
     ]
    },
    {
     "name": "stdout",
     "output_type": "stream",
     "text": [
      "[19:20:31] WARNING: src/objective/regression_obj.cu:152: reg:linear is now deprecated in favor of reg:squarederror.\n",
      "[19:20:31] WARNING: src/objective/regression_obj.cu:152: reg:linear is now deprecated in favor of reg:squarederror.\n"
     ]
    },
    {
     "ename": "KeyboardInterrupt",
     "evalue": "",
     "output_type": "error",
     "traceback": [
      "\u001b[0;31m---------------------------------------------------------------------------\u001b[0m",
      "\u001b[0;31mKeyboardInterrupt\u001b[0m                         Traceback (most recent call last)",
      "\u001b[0;32m<ipython-input-16-657471a83180>\u001b[0m in \u001b[0;36m<module>\u001b[0;34m\u001b[0m\n\u001b[1;32m      5\u001b[0m \u001b[0;32mfor\u001b[0m \u001b[0mest\u001b[0m \u001b[0;32min\u001b[0m \u001b[0mn_estimators\u001b[0m\u001b[0;34m:\u001b[0m\u001b[0;34m\u001b[0m\u001b[0;34m\u001b[0m\u001b[0m\n\u001b[1;32m      6\u001b[0m     \u001b[0mclf\u001b[0m \u001b[0;34m=\u001b[0m \u001b[0mXGBRegressor\u001b[0m\u001b[0;34m(\u001b[0m\u001b[0mcolsample_bytree\u001b[0m\u001b[0;34m=\u001b[0m\u001b[0;36m1\u001b[0m\u001b[0;34m,\u001b[0m\u001b[0mlearning_rate\u001b[0m\u001b[0;34m=\u001b[0m\u001b[0;36m0.3\u001b[0m\u001b[0;34m,\u001b[0m\u001b[0mn_estimators\u001b[0m\u001b[0;34m=\u001b[0m\u001b[0mest\u001b[0m\u001b[0;34m)\u001b[0m\u001b[0;34m\u001b[0m\u001b[0;34m\u001b[0m\u001b[0m\n\u001b[0;32m----> 7\u001b[0;31m     \u001b[0mMSE\u001b[0m\u001b[0;34m.\u001b[0m\u001b[0mappend\u001b[0m\u001b[0;34m(\u001b[0m\u001b[0mManualCrossValidation\u001b[0m\u001b[0;34m(\u001b[0m\u001b[0mclf\u001b[0m\u001b[0;34m)\u001b[0m\u001b[0;34m.\u001b[0m\u001b[0mmean\u001b[0m\u001b[0;34m(\u001b[0m\u001b[0;34m)\u001b[0m\u001b[0;34m)\u001b[0m\u001b[0;34m\u001b[0m\u001b[0;34m\u001b[0m\u001b[0m\n\u001b[0m",
      "\u001b[0;32m<ipython-input-14-21ff196523bd>\u001b[0m in \u001b[0;36mManualCrossValidation\u001b[0;34m(model, kfold)\u001b[0m\n\u001b[1;32m     12\u001b[0m \u001b[0;34m\u001b[0m\u001b[0m\n\u001b[1;32m     13\u001b[0m \u001b[0;34m\u001b[0m\u001b[0m\n\u001b[0;32m---> 14\u001b[0;31m         \u001b[0mmodel\u001b[0m\u001b[0;34m.\u001b[0m\u001b[0mfit\u001b[0m\u001b[0;34m(\u001b[0m\u001b[0mX_foldtrain\u001b[0m\u001b[0;34m,\u001b[0m \u001b[0my_foldtrain\u001b[0m\u001b[0;34m)\u001b[0m\u001b[0;34m\u001b[0m\u001b[0;34m\u001b[0m\u001b[0m\n\u001b[0m\u001b[1;32m     15\u001b[0m         \u001b[0my_pred_clf\u001b[0m \u001b[0;34m=\u001b[0m \u001b[0mmodel\u001b[0m\u001b[0;34m.\u001b[0m\u001b[0mpredict\u001b[0m\u001b[0;34m(\u001b[0m\u001b[0mX_foldtest\u001b[0m\u001b[0;34m)\u001b[0m\u001b[0;34m\u001b[0m\u001b[0;34m\u001b[0m\u001b[0m\n\u001b[1;32m     16\u001b[0m         \u001b[0merror\u001b[0m \u001b[0;34m=\u001b[0m \u001b[0mmean_squared_error\u001b[0m\u001b[0;34m(\u001b[0m\u001b[0my_foldtest\u001b[0m\u001b[0;34m,\u001b[0m \u001b[0my_pred_clf\u001b[0m\u001b[0;34m)\u001b[0m \u001b[0;34m**\u001b[0m \u001b[0;36m0.5\u001b[0m\u001b[0;34m\u001b[0m\u001b[0;34m\u001b[0m\u001b[0m\n",
      "\u001b[0;32m~/opt/anaconda3/lib/python3.7/site-packages/xgboost/sklearn.py\u001b[0m in \u001b[0;36mfit\u001b[0;34m(self, X, y, sample_weight, eval_set, eval_metric, early_stopping_rounds, verbose, xgb_model, sample_weight_eval_set, callbacks)\u001b[0m\n\u001b[1;32m    394\u001b[0m                               \u001b[0mevals_result\u001b[0m\u001b[0;34m=\u001b[0m\u001b[0mevals_result\u001b[0m\u001b[0;34m,\u001b[0m \u001b[0mobj\u001b[0m\u001b[0;34m=\u001b[0m\u001b[0mobj\u001b[0m\u001b[0;34m,\u001b[0m \u001b[0mfeval\u001b[0m\u001b[0;34m=\u001b[0m\u001b[0mfeval\u001b[0m\u001b[0;34m,\u001b[0m\u001b[0;34m\u001b[0m\u001b[0;34m\u001b[0m\u001b[0m\n\u001b[1;32m    395\u001b[0m                               \u001b[0mverbose_eval\u001b[0m\u001b[0;34m=\u001b[0m\u001b[0mverbose\u001b[0m\u001b[0;34m,\u001b[0m \u001b[0mxgb_model\u001b[0m\u001b[0;34m=\u001b[0m\u001b[0mxgb_model\u001b[0m\u001b[0;34m,\u001b[0m\u001b[0;34m\u001b[0m\u001b[0;34m\u001b[0m\u001b[0m\n\u001b[0;32m--> 396\u001b[0;31m                               callbacks=callbacks)\n\u001b[0m\u001b[1;32m    397\u001b[0m \u001b[0;34m\u001b[0m\u001b[0m\n\u001b[1;32m    398\u001b[0m         \u001b[0;32mif\u001b[0m \u001b[0mevals_result\u001b[0m\u001b[0;34m:\u001b[0m\u001b[0;34m\u001b[0m\u001b[0;34m\u001b[0m\u001b[0m\n",
      "\u001b[0;32m~/opt/anaconda3/lib/python3.7/site-packages/xgboost/training.py\u001b[0m in \u001b[0;36mtrain\u001b[0;34m(params, dtrain, num_boost_round, evals, obj, feval, maximize, early_stopping_rounds, evals_result, verbose_eval, xgb_model, callbacks, learning_rates)\u001b[0m\n\u001b[1;32m    214\u001b[0m                            \u001b[0mevals\u001b[0m\u001b[0;34m=\u001b[0m\u001b[0mevals\u001b[0m\u001b[0;34m,\u001b[0m\u001b[0;34m\u001b[0m\u001b[0;34m\u001b[0m\u001b[0m\n\u001b[1;32m    215\u001b[0m                            \u001b[0mobj\u001b[0m\u001b[0;34m=\u001b[0m\u001b[0mobj\u001b[0m\u001b[0;34m,\u001b[0m \u001b[0mfeval\u001b[0m\u001b[0;34m=\u001b[0m\u001b[0mfeval\u001b[0m\u001b[0;34m,\u001b[0m\u001b[0;34m\u001b[0m\u001b[0;34m\u001b[0m\u001b[0m\n\u001b[0;32m--> 216\u001b[0;31m                            xgb_model=xgb_model, callbacks=callbacks)\n\u001b[0m\u001b[1;32m    217\u001b[0m \u001b[0;34m\u001b[0m\u001b[0m\n\u001b[1;32m    218\u001b[0m \u001b[0;34m\u001b[0m\u001b[0m\n",
      "\u001b[0;32m~/opt/anaconda3/lib/python3.7/site-packages/xgboost/training.py\u001b[0m in \u001b[0;36m_train_internal\u001b[0;34m(params, dtrain, num_boost_round, evals, obj, feval, xgb_model, callbacks)\u001b[0m\n\u001b[1;32m     72\u001b[0m         \u001b[0;31m# Skip the first update if it is a recovery step.\u001b[0m\u001b[0;34m\u001b[0m\u001b[0;34m\u001b[0m\u001b[0;34m\u001b[0m\u001b[0m\n\u001b[1;32m     73\u001b[0m         \u001b[0;32mif\u001b[0m \u001b[0mversion\u001b[0m \u001b[0;34m%\u001b[0m \u001b[0;36m2\u001b[0m \u001b[0;34m==\u001b[0m \u001b[0;36m0\u001b[0m\u001b[0;34m:\u001b[0m\u001b[0;34m\u001b[0m\u001b[0;34m\u001b[0m\u001b[0m\n\u001b[0;32m---> 74\u001b[0;31m             \u001b[0mbst\u001b[0m\u001b[0;34m.\u001b[0m\u001b[0mupdate\u001b[0m\u001b[0;34m(\u001b[0m\u001b[0mdtrain\u001b[0m\u001b[0;34m,\u001b[0m \u001b[0mi\u001b[0m\u001b[0;34m,\u001b[0m \u001b[0mobj\u001b[0m\u001b[0;34m)\u001b[0m\u001b[0;34m\u001b[0m\u001b[0;34m\u001b[0m\u001b[0m\n\u001b[0m\u001b[1;32m     75\u001b[0m             \u001b[0mbst\u001b[0m\u001b[0;34m.\u001b[0m\u001b[0msave_rabit_checkpoint\u001b[0m\u001b[0;34m(\u001b[0m\u001b[0;34m)\u001b[0m\u001b[0;34m\u001b[0m\u001b[0;34m\u001b[0m\u001b[0m\n\u001b[1;32m     76\u001b[0m             \u001b[0mversion\u001b[0m \u001b[0;34m+=\u001b[0m \u001b[0;36m1\u001b[0m\u001b[0;34m\u001b[0m\u001b[0;34m\u001b[0m\u001b[0m\n",
      "\u001b[0;32m~/opt/anaconda3/lib/python3.7/site-packages/xgboost/core.py\u001b[0m in \u001b[0;36mupdate\u001b[0;34m(self, dtrain, iteration, fobj)\u001b[0m\n\u001b[1;32m   1107\u001b[0m         \u001b[0;32mif\u001b[0m \u001b[0mfobj\u001b[0m \u001b[0;32mis\u001b[0m \u001b[0;32mNone\u001b[0m\u001b[0;34m:\u001b[0m\u001b[0;34m\u001b[0m\u001b[0;34m\u001b[0m\u001b[0m\n\u001b[1;32m   1108\u001b[0m             _check_call(_LIB.XGBoosterUpdateOneIter(self.handle, ctypes.c_int(iteration),\n\u001b[0;32m-> 1109\u001b[0;31m                                                     dtrain.handle))\n\u001b[0m\u001b[1;32m   1110\u001b[0m         \u001b[0;32melse\u001b[0m\u001b[0;34m:\u001b[0m\u001b[0;34m\u001b[0m\u001b[0;34m\u001b[0m\u001b[0m\n\u001b[1;32m   1111\u001b[0m             \u001b[0mpred\u001b[0m \u001b[0;34m=\u001b[0m \u001b[0mself\u001b[0m\u001b[0;34m.\u001b[0m\u001b[0mpredict\u001b[0m\u001b[0;34m(\u001b[0m\u001b[0mdtrain\u001b[0m\u001b[0;34m)\u001b[0m\u001b[0;34m\u001b[0m\u001b[0;34m\u001b[0m\u001b[0m\n",
      "\u001b[0;31mKeyboardInterrupt\u001b[0m: "
     ]
    }
   ],
   "source": [
    "n_estimators=range(0,500,20)\n",
    "\n",
    "MSE=[]\n",
    "\n",
    "for est in n_estimators:\n",
    "    clf = XGBRegressor(colsample_bytree=1,learning_rate=0.3,n_estimators=est)\n",
    "    MSE.append(ManualCrossValidation(clf).mean())"
   ]
  },
  {
   "cell_type": "code",
   "execution_count": null,
   "metadata": {},
   "outputs": [],
   "source": [
    "MSE"
   ]
  },
  {
   "cell_type": "code",
   "execution_count": null,
   "metadata": {},
   "outputs": [],
   "source": []
  }
 ],
 "metadata": {
  "kernelspec": {
   "display_name": "Python 3",
   "language": "python",
   "name": "python3"
  },
  "language_info": {
   "codemirror_mode": {
    "name": "ipython",
    "version": 3
   },
   "file_extension": ".py",
   "mimetype": "text/x-python",
   "name": "python",
   "nbconvert_exporter": "python",
   "pygments_lexer": "ipython3",
   "version": "3.7.4"
  }
 },
 "nbformat": 4,
 "nbformat_minor": 4
}
